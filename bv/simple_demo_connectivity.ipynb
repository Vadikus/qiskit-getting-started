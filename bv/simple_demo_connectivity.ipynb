{
 "cells": [
  {
   "cell_type": "code",
   "execution_count": 5,
   "id": "eb2a1ca1",
   "metadata": {},
   "outputs": [],
   "source": [
    "#imports\n",
    "from qiskit_ionq import IonQProvider\n",
    "ionq_provider = IonQProvider(token='API-key-goes-here')\n",
    "import numpy as np\n",
    "\n",
    "from qiskit import QuantumCircuit, execute, Aer\n",
    "from qiskit.tools.visualization import plot_histogram, array_to_latex\n",
    "from qiskit.extensions import UnitaryGate"
   ]
  },
  {
   "cell_type": "markdown",
   "id": "54cb612d",
   "metadata": {},
   "source": [
    "### All to all connectivity\n",
    "\n",
    "Ion trap quantum computer features all-to-all connectivity. This can significantly boost the fidelity when executing the circuit on actual hardwares\n",
    "\n",
    "<img src='files/connectivity.png'/>\n",
    "\n",
    "All-to-all connectivity means two-qubit gates are available among all qubits. In contrast, on system with limited connectivity, two-qubit gates are only available among pairs that are physically connectied. To run gates between non-connected pairs, swap gates are needed.\n",
    "<img src='files/swap_gate.png'/>\n",
    "\n",
    "The swap gate consists of three CNOT gates, which contribute non-trivially to the errors"
   ]
  },
  {
   "cell_type": "code",
   "execution_count": 6,
   "id": "7ceda2fe",
   "metadata": {},
   "outputs": [
    {
     "data": {
      "text/html": [
       "<pre style=\"word-wrap: normal;white-space: pre;background: #fff0;line-height: 1.1;font-family: &quot;Courier New&quot;,Courier,monospace\">          ┌───┐     \n",
       "q_0: ──■──┤ X ├──■──\n",
       "     ┌─┴─┐└─┬─┘┌─┴─┐\n",
       "q_1: ┤ X ├──■──┤ X ├\n",
       "     └───┘     └───┘</pre>"
      ],
      "text/plain": [
       "          ┌───┐     \n",
       "q_0: ──■──┤ X ├──■──\n",
       "     ┌─┴─┐└─┬─┘┌─┴─┐\n",
       "q_1: ┤ X ├──■──┤ X ├\n",
       "     └───┘     └───┘"
      ]
     },
     "execution_count": 6,
     "metadata": {},
     "output_type": "execute_result"
    }
   ],
   "source": [
    "swap_gate=QuantumCircuit(2)\n",
    "swap_gate.cx(0,1)\n",
    "swap_gate.cx(1,0)\n",
    "swap_gate.cx(0,1)\n",
    "swap_gate.draw()"
   ]
  },
  {
   "cell_type": "markdown",
   "id": "8d4e9856",
   "metadata": {},
   "source": [
    "### example: non-local cnot gate\n",
    "\n",
    "Assume we want to do CNOT gate between 0 and 3\n",
    "\n",
    "<img src='files/example.png'/>\n"
   ]
  },
  {
   "cell_type": "code",
   "execution_count": 7,
   "id": "260d19a2",
   "metadata": {},
   "outputs": [
    {
     "data": {
      "text/html": [
       "<pre style=\"word-wrap: normal;white-space: pre;background: #fff0;line-height: 1.1;font-family: &quot;Courier New&quot;,Courier,monospace\">        ┌───┐      ░ ┌─┐         \n",
       "   q_0: ┤ H ├──■───░─┤M├─────────\n",
       "        └───┘  │   ░ └╥┘┌─┐      \n",
       "   q_1: ───────┼───░──╫─┤M├──────\n",
       "               │   ░  ║ └╥┘┌─┐   \n",
       "   q_2: ───────┼───░──╫──╫─┤M├───\n",
       "             ┌─┴─┐ ░  ║  ║ └╥┘┌─┐\n",
       "   q_3: ─────┤ X ├─░──╫──╫──╫─┤M├\n",
       "             └───┘ ░  ║  ║  ║ └╥┘\n",
       "meas: 4/══════════════╩══╩══╩══╩═\n",
       "                      0  1  2  3 </pre>"
      ],
      "text/plain": [
       "        ┌───┐      ░ ┌─┐         \n",
       "   q_0: ┤ H ├──■───░─┤M├─────────\n",
       "        └───┘  │   ░ └╥┘┌─┐      \n",
       "   q_1: ───────┼───░──╫─┤M├──────\n",
       "               │   ░  ║ └╥┘┌─┐   \n",
       "   q_2: ───────┼───░──╫──╫─┤M├───\n",
       "             ┌─┴─┐ ░  ║  ║ └╥┘┌─┐\n",
       "   q_3: ─────┤ X ├─░──╫──╫──╫─┤M├\n",
       "             └───┘ ░  ║  ║  ║ └╥┘\n",
       "meas: 4/══════════════╩══╩══╩══╩═\n",
       "                      0  1  2  3 "
      ]
     },
     "execution_count": 7,
     "metadata": {},
     "output_type": "execute_result"
    }
   ],
   "source": [
    "ata = QuantumCircuit(4)\n",
    "ata.h(0)\n",
    "ata.cx(0,3)\n",
    "ata.measure_all()\n",
    "ata.draw()\n"
   ]
  },
  {
   "cell_type": "code",
   "execution_count": 8,
   "id": "a939d07d",
   "metadata": {},
   "outputs": [
    {
     "data": {
      "image/png": "[encoded data removed]",
      "text/plain": [
       "<Figure size 504x360 with 1 Axes>"
      ]
     },
     "execution_count": 8,
     "metadata": {},
     "output_type": "execute_result"
    }
   ],
   "source": [
    "backend = ionq_provider.get_backend(\"ionq_simulator\")#choose your backend\n",
    "job = execute(ata, backend,shots=5000) #get the job object\n",
    "\n",
    "  \n",
    "result = job.result() # get result object\n",
    "counts = result.get_counts() #get the counts dictionary\n",
    "fig=plot_histogram(counts) #plot the histogram of the counts    \n",
    "ax = fig.axes[0]\n",
    "fig "
   ]
  },
  {
   "cell_type": "code",
   "execution_count": 9,
   "id": "866d7bfc",
   "metadata": {},
   "outputs": [
    {
     "data": {
      "text/html": [
       "<pre style=\"word-wrap: normal;white-space: pre;background: #fff0;line-height: 1.1;font-family: &quot;Courier New&quot;,Courier,monospace\">        ┌───┐                               ░ ┌─┐         \n",
       "   q_0: ┤ H ├────────────■──────────────────░─┤M├─────────\n",
       "        └───┘┌───┐     ┌─┴─┐     ┌───┐      ░ └╥┘┌─┐      \n",
       "   q_1: ──■──┤ X ├──■──┤ X ├──■──┤ X ├──■───░──╫─┤M├──────\n",
       "          │  └─┬─┘  │  └───┘  │  └─┬─┘  │   ░  ║ └╥┘┌─┐   \n",
       "   q_2: ──┼────┼────┼─────────┼────┼────┼───░──╫──╫─┤M├───\n",
       "        ┌─┴─┐  │  ┌─┴─┐     ┌─┴─┐  │  ┌─┴─┐ ░  ║  ║ └╥┘┌─┐\n",
       "   q_3: ┤ X ├──■──┤ X ├─────┤ X ├──■──┤ X ├─░──╫──╫──╫─┤M├\n",
       "        └───┘     └───┘     └───┘     └───┘ ░  ║  ║  ║ └╥┘\n",
       "meas: 4/═══════════════════════════════════════╩══╩══╩══╩═\n",
       "                                               0  1  2  3 </pre>"
      ],
      "text/plain": [
       "        ┌───┐                               ░ ┌─┐         \n",
       "   q_0: ┤ H ├────────────■──────────────────░─┤M├─────────\n",
       "        └───┘┌───┐     ┌─┴─┐     ┌───┐      ░ └╥┘┌─┐      \n",
       "   q_1: ──■──┤ X ├──■──┤ X ├──■──┤ X ├──■───░──╫─┤M├──────\n",
       "          │  └─┬─┘  │  └───┘  │  └─┬─┘  │   ░  ║ └╥┘┌─┐   \n",
       "   q_2: ──┼────┼────┼─────────┼────┼────┼───░──╫──╫─┤M├───\n",
       "        ┌─┴─┐  │  ┌─┴─┐     ┌─┴─┐  │  ┌─┴─┐ ░  ║  ║ └╥┘┌─┐\n",
       "   q_3: ┤ X ├──■──┤ X ├─────┤ X ├──■──┤ X ├─░──╫──╫──╫─┤M├\n",
       "        └───┘     └───┘     └───┘     └───┘ ░  ║  ║  ║ └╥┘\n",
       "meas: 4/═══════════════════════════════════════╩══╩══╩══╩═\n",
       "                                               0  1  2  3 "
      ]
     },
     "execution_count": 9,
     "metadata": {},
     "output_type": "execute_result"
    }
   ],
   "source": [
    "lmt = QuantumCircuit(4)\n",
    "lmt.h(0)\n",
    "lmt.cx(1,3)\n",
    "lmt.cx(3,1)\n",
    "lmt.cx(1,3)\n",
    "lmt.cx(0,1)\n",
    "lmt.cx(1,3)\n",
    "lmt.cx(3,1)\n",
    "lmt.cx(1,3)\n",
    "lmt.measure_all()\n",
    "lmt.draw()\n"
   ]
  },
  {
   "cell_type": "code",
   "execution_count": 10,
   "id": "3c474c98",
   "metadata": {},
   "outputs": [
    {
     "name": "stderr",
     "output_type": "stream",
     "text": [
      "C:\\Users\\zhu\\anaconda3\\envs\\qopula\\lib\\site-packages\\qiskit_ionq\\ionq_backend.py:290: UserWarning: Option parameter_binds is not used by this backend\n",
      "  return super().run(circuit, **kwargs)\n"
     ]
    },
    {
     "data": {
      "image/png": "[encoded data removed]",
      "text/plain": [
       "<Figure size 504x360 with 1 Axes>"
      ]
     },
     "execution_count": 10,
     "metadata": {},
     "output_type": "execute_result"
    }
   ],
   "source": [
    "backend = ionq_provider.get_backend(\"ionq_simulator\")#choose your backend\n",
    "job = execute(lmt, backend,shots=5000) #get the job object\n",
    "\n",
    "  \n",
    "result = job.result() # get result object\n",
    "counts = result.get_counts() #get the counts dictionary\n",
    "fig=plot_histogram(counts) #plot the histogram of the counts    \n",
    "ax = fig.axes[0]\n",
    "fig "
   ]
  },
  {
   "cell_type": "code",
   "execution_count": null,
   "id": "d9f320ba",
   "metadata": {},
   "outputs": [],
   "source": []
  }
 ],
 "metadata": {
  "kernelspec": {
   "display_name": "Python 3 (ipykernel)",
   "language": "python",
   "name": "python3"
  },
  "language_info": {
   "codemirror_mode": {
    "name": "ipython",
    "version": 3
   },
   "file_extension": ".py",
   "mimetype": "text/x-python",
   "name": "python",
   "nbconvert_exporter": "python",
   "pygments_lexer": "ipython3",
   "version": "3.7.11"
  }
 },
 "nbformat": 4,
 "nbformat_minor": 5
}
