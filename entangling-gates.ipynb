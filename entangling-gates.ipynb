{
 "cells": [
  {
   "cell_type": "markdown",
   "id": "a2824eaa",
   "metadata": {},
   "source": [
    "# Implementing entangling gates on a quantum computer"
   ]
  },
  {
   "cell_type": "markdown",
   "id": "50886492",
   "metadata": {},
   "source": [
    "## Setup\n",
    "\n",
    "First, make sure that you have the latest version of Qiskit installed. To upgrade your Qiskit package, run the following command:\n",
    "\n",
    "```bash\n",
    "pip install --upgrade qiskit\n",
    "```\n",
    "\n",
    "Get an API key from IonQ. This will be used by the IonQ provider inside Qiskit to submit circuits to the IonQ platform.\n",
    "\n",
    "After securing an API key, install the python package `qiskit_ionq` using `pip`:\n",
    "\n",
    "```bash\n",
    "pip install qiskit_ionq\n",
    "```\n",
    "\n",
    "(IonQ's adapter for Qiskit is currently in private beta -- your feedback is welcomed!)\n",
    "\n",
    "### (Optional) Extra Dependencies\n",
    "\n",
    "Some examples use additional Python dependencies; please make sure to `pip install` them as needed.\n",
    "\n",
    "Dependencies:\n",
    "* `matplotlib`: To run `qiskit.visualization.plot_histogram`.\n",
    "\n",
    "**NOTE**: The provider expects an API key to be supplied via the `token` keyword argument to its constructor. If no token is directly provided, the provider will check for one in the `QISKIT_IONQ_API_TOKEN` environment variable.\n",
    "\n",
    "Now that the Python package has been installed, you can import and instantiate the provider:"
   ]
  },
  {
   "cell_type": "code",
   "execution_count": 3,
   "id": "9d403217",
   "metadata": {},
   "outputs": [],
   "source": [
    "#import Aer here, before calling qiskit_ionq_provider\n",
    "from qiskit import Aer\n",
    "\n",
    "from qiskit_ionq import IonQProvider \n",
    "\n",
    "#Call provider and set token value\n",
    "provider = IonQProvider(token='my token')"
   ]
  },
  {
   "cell_type": "markdown",
   "id": "d3ad4c5c",
   "metadata": {},
   "source": [
    "The `provider` instance can now be used to create and submit circuits to IonQ.\n",
    "\n",
    "### Backend Types\n",
    "\n",
    "The IonQ provider supports two backend types:\n",
    "* `ionq_simulator`: IonQ's simulator backend.\n",
    "* `ionq_qpu`: IonQ's QPU backend.\n",
    "\n",
    "To view all current backend types, use the `.backends` property on the provider instance:"
   ]
  },
  {
   "cell_type": "code",
   "execution_count": 4,
   "id": "719db865",
   "metadata": {},
   "outputs": [
    {
     "data": {
      "text/plain": [
       "[<IonQSimulatorBackend('ionq_simulator')>, <IonQQPUBackend('ionq_qpu')>]"
      ]
     },
     "execution_count": 4,
     "metadata": {},
     "output_type": "execute_result"
    }
   ],
   "source": [
    "provider.backends()"
   ]
  },
  {
   "cell_type": "markdown",
   "id": "a853ae4d",
   "metadata": {},
   "source": [
    "### Let's create some circuits\n",
    "\n",
    "Let us create two circuits using fully entangling XX gates only. The first circuit will have three XX gates on independent non-adjacent ion pairs. The second circuit will have five XX gates that share ion 0. Both circuits require a 6-qubit register."
   ]
  },
  {
   "cell_type": "code",
   "execution_count": 5,
   "id": "1cc2276c",
   "metadata": {},
   "outputs": [
    {
     "data": {
      "text/html": [
       "<pre style=\"word-wrap: normal;white-space: pre;background: #fff0;line-height: 1.1;font-family: &quot;Courier New&quot;,Courier,monospace\">     ┌───────────┐                          \n",
       "q_0: ┤0          ├──────────────────────────\n",
       "     │           │┌───────────┐             \n",
       "q_1: ┤           ├┤0          ├─────────────\n",
       "     │  RXX(π/2) ││           │┌───────────┐\n",
       "q_2: ┤           ├┤           ├┤0          ├\n",
       "     │           ││  RXX(π/2) ││           │\n",
       "q_3: ┤1          ├┤           ├┤           ├\n",
       "     └───────────┘│           ││  RXX(π/2) │\n",
       "q_4: ─────────────┤1          ├┤           ├\n",
       "                  └───────────┘│           │\n",
       "q_5: ──────────────────────────┤1          ├\n",
       "                               └───────────┘</pre>"
      ],
      "text/plain": [
       "     ┌───────────┐                          \n",
       "q_0: ┤0          ├──────────────────────────\n",
       "     │           │┌───────────┐             \n",
       "q_1: ┤           ├┤0          ├─────────────\n",
       "     │  RXX(π/2) ││           │┌───────────┐\n",
       "q_2: ┤           ├┤           ├┤0          ├\n",
       "     │           ││  RXX(π/2) ││           │\n",
       "q_3: ┤1          ├┤           ├┤           ├\n",
       "     └───────────┘│           ││  RXX(π/2) │\n",
       "q_4: ─────────────┤1          ├┤           ├\n",
       "                  └───────────┘│           │\n",
       "q_5: ──────────────────────────┤1          ├\n",
       "                               └───────────┘"
      ]
     },
     "execution_count": 5,
     "metadata": {},
     "output_type": "execute_result"
    }
   ],
   "source": [
    "from qiskit import QuantumCircuit, QuantumRegister\n",
    "from math import pi\n",
    "\n",
    "qr = QuantumRegister(6,'q')\n",
    "qc_par = QuantumCircuit(qr)\n",
    "\n",
    "for i in range(3):\n",
    "    qc_par.rxx(pi/2,i,i+3)\n",
    "\n",
    "qc_par.draw()"
   ]
  },
  {
   "cell_type": "code",
   "execution_count": 6,
   "id": "be923418",
   "metadata": {},
   "outputs": [
    {
     "data": {
      "text/html": [
       "<pre style=\"word-wrap: normal;white-space: pre;background: #fff0;line-height: 1.1;font-family: &quot;Courier New&quot;,Courier,monospace\">     ┌───────────┐┌───────────┐┌───────────┐┌───────────┐┌───────────┐\n",
       "q_0: ┤0          ├┤0          ├┤0          ├┤0          ├┤0          ├\n",
       "     │  RXX(π/2) ││           ││           ││           ││           │\n",
       "q_1: ┤1          ├┤  RXX(π/2) ├┤           ├┤           ├┤           ├\n",
       "     └───────────┘│           ││  RXX(π/2) ││           ││           │\n",
       "q_2: ─────────────┤1          ├┤           ├┤  RXX(π/2) ├┤           ├\n",
       "                  └───────────┘│           ││           ││  RXX(π/2) │\n",
       "q_3: ──────────────────────────┤1          ├┤           ├┤           ├\n",
       "                               └───────────┘│           ││           │\n",
       "q_4: ───────────────────────────────────────┤1          ├┤           ├\n",
       "                                            └───────────┘│           │\n",
       "q_5: ────────────────────────────────────────────────────┤1          ├\n",
       "                                                         └───────────┘</pre>"
      ],
      "text/plain": [
       "     ┌───────────┐┌───────────┐┌───────────┐┌───────────┐┌───────────┐\n",
       "q_0: ┤0          ├┤0          ├┤0          ├┤0          ├┤0          ├\n",
       "     │  RXX(π/2) ││           ││           ││           ││           │\n",
       "q_1: ┤1          ├┤  RXX(π/2) ├┤           ├┤           ├┤           ├\n",
       "     └───────────┘│           ││  RXX(π/2) ││           ││           │\n",
       "q_2: ─────────────┤1          ├┤           ├┤  RXX(π/2) ├┤           ├\n",
       "                  └───────────┘│           ││           ││  RXX(π/2) │\n",
       "q_3: ──────────────────────────┤1          ├┤           ├┤           ├\n",
       "                               └───────────┘│           ││           │\n",
       "q_4: ───────────────────────────────────────┤1          ├┤           ├\n",
       "                                            └───────────┘│           │\n",
       "q_5: ────────────────────────────────────────────────────┤1          ├\n",
       "                                                         └───────────┘"
      ]
     },
     "execution_count": 6,
     "metadata": {},
     "output_type": "execute_result"
    }
   ],
   "source": [
    "qr = QuantumRegister(6,'q')\n",
    "qc_star = QuantumCircuit(qr)\n",
    "\n",
    "for i in range(1,6):\n",
    "    qc_star.rxx(pi/2,0,i)\n",
    "\n",
    "qc_star.draw()"
   ]
  },
  {
   "cell_type": "markdown",
   "id": "bd0ca021",
   "metadata": {},
   "source": [
    "### Let's look at the ideal outcomes"
   ]
  },
  {
   "cell_type": "markdown",
   "id": "177c4891",
   "metadata": {},
   "source": [
    "Let's add a 6-bit measurement register for qubits 0,1,2,3,4,5."
   ]
  },
  {
   "cell_type": "code",
   "execution_count": 7,
   "id": "94625670",
   "metadata": {},
   "outputs": [],
   "source": [
    "from qiskit import ClassicalRegister\n",
    "\n",
    "# Add the measurement register\n",
    "circs = [qc_par,qc_star]\n",
    "cr = ClassicalRegister(6,'c')\n",
    "for qc in circs:\n",
    "    qc.add_register(cr)\n",
    "    qc.measure(range(6),range(6))"
   ]
  },
  {
   "cell_type": "markdown",
   "id": "f543c12a",
   "metadata": {},
   "source": [
    "We can now simulate these circuits. In the circuit with XX gates on independent ions, we can look at each pair separately tracing out other ions. It should show states $\\left|00\\right>$ and $\\left|11\\right>$ with equal populations corresponding to full entanglement. For the second circuit, let's look at the individual state $\\left|1\\right>$ probabilities of each ion, they should all be 0.5."
   ]
  },
  {
   "cell_type": "code",
   "execution_count": 8,
   "id": "7c4f6692",
   "metadata": {},
   "outputs": [
    {
     "name": "stdout",
     "output_type": "stream",
     "text": [
      "{'0x0': 135, '0x9': 120, '0x12': 117, '0x1b': 127, '0x24': 143, '0x2d': 128, '0x36': 115, '0x3f': 115}\n",
      "[0.135, 0, 0, 0, 0, 0, 0, 0, 0, 0.12, 0, 0, 0, 0, 0, 0, 0, 0, 0.117, 0, 0, 0, 0, 0, 0, 0, 0, 0.127, 0, 0, 0, 0, 0, 0, 0, 0, 0.143, 0, 0, 0, 0, 0, 0, 0, 0, 0.128, 0, 0, 0, 0, 0, 0, 0, 0, 0.115, 0, 0, 0, 0, 0, 0, 0, 0, 0.115]\n",
      "{'0x0': 34, '0x3': 32, '0x5': 27, '0x6': 31, '0x9': 35, '0xa': 20, '0xc': 38, '0xf': 21, '0x11': 20, '0x12': 34, '0x14': 37, '0x17': 27, '0x18': 26, '0x1b': 34, '0x1d': 42, '0x1e': 33, '0x21': 44, '0x22': 33, '0x24': 32, '0x27': 29, '0x28': 25, '0x2b': 25, '0x2d': 33, '0x2e': 37, '0x30': 29, '0x33': 26, '0x35': 28, '0x36': 32, '0x39': 27, '0x3a': 35, '0x3c': 35, '0x3f': 39}\n",
      "[0.034, 0, 0, 0.032, 0, 0.027, 0.031, 0, 0, 0.035, 0.02, 0, 0.038, 0, 0, 0.021, 0, 0.02, 0.034, 0, 0.037, 0, 0, 0.027, 0.026, 0, 0, 0.034, 0, 0.042, 0.033, 0, 0, 0.044, 0.033, 0, 0.032, 0, 0, 0.029, 0.025, 0, 0, 0.025, 0, 0.033, 0.037, 0, 0.029, 0, 0, 0.026, 0, 0.028, 0.032, 0, 0, 0.027, 0.035, 0, 0.035, 0, 0, 0.039]\n",
      "[0.48900000000000016, 0.48800000000000004, 0.5210000000000001, 0.5050000000000001, 0.5040000000000002, 0.5090000000000002]\n",
      "[[0.51, 0, 0, 0.49], [0.526, 0, 0, 0.474], [0.499, 0, 0, 0.501]]\n"
     ]
    }
   ],
   "source": [
    "from qiskit.providers.jobstatus import JobStatus\n",
    "from qiskit import Aer, execute\n",
    "\n",
    "# Choose the simulator backend \n",
    "backend = provider.get_backend(\"ionq_simulator\")\n",
    "#backend = Aer.get_backend(\"qasm_simulator\")\n",
    "\n",
    "# Run the circuit:\n",
    "def run_jobs(backend,circs,nshots):\n",
    "    jobs = []\n",
    "    job_ids = []\n",
    "    qcs = []\n",
    "\n",
    "    for qc in circs:\n",
    "        qcs.append(qc)\n",
    "        job = backend.run(qc, shots=nshots)\n",
    "        #job = execute(qc, backend, shots=nshots, memory=True)\n",
    "        jobs.append(job)\n",
    "        #job_ids.append(job.job_id())\n",
    "    \n",
    "    return jobs\n",
    "\n",
    "jobs = run_jobs(backend,circs,1000)\n",
    "\n",
    "# Calculate output state populations\n",
    "def get_pops(res,nn,n):\n",
    "    #print(res)\n",
    "    pops = [0 for i in range(2**nn)]\n",
    "    for key in res.keys():\n",
    "        pops[int(key,16)] = res[key]/n\n",
    "        #pops[int(key,2)] = res[key]/n\n",
    "    return pops\n",
    "\n",
    "# Fetch the result\n",
    "def get_jobs(jobs,nshots):\n",
    "    results = []\n",
    "    for i in range(len(jobs)):\n",
    "        result = jobs[i].result()\n",
    "        print(result.data()['counts'])\n",
    "        print(get_pops(result.data()['counts'],6,nshots))\n",
    "        results.append(get_pops(result.data()['counts'],6,nshots))\n",
    "    \n",
    "    return results\n",
    "\n",
    "results = get_jobs(jobs,1000)\n",
    "\n",
    "def get_ion(res,ion):\n",
    "    p1 = 0\n",
    "    for x in range(2**6):\n",
    "        if (x&(2**ion)):\n",
    "            p1 += res[x]\n",
    "    return p1\n",
    "\n",
    "def get_pair(res,pair):\n",
    "    p00 = 0\n",
    "    p01 = 0\n",
    "    p10 = 0\n",
    "    p11 = 0\n",
    "    for x in range(2**6):\n",
    "        if (x&(2**pair[0])>0) and (x&(2**pair[1])>0):\n",
    "            p11 += res[x]\n",
    "        elif (x&(2**pair[0])>0) and (x&(2**pair[1])==0):\n",
    "            p01 += res[x]\n",
    "        elif (x&(2**pair[1])>0) and (x&(2**pair[0])==0):\n",
    "            p10 += res[x]\n",
    "        elif (x&(2**pair[0])==0) and (x&(2**pair[1])==0):\n",
    "            p00 += res[x]\n",
    "    return [p00,p01,p10,p11]\n",
    "\n",
    "prsq = [get_pair(results[0],[i,i+3]) for i in range(3)]\n",
    "prbi = [get_ion(results[1],i) for i in range(6)]\n",
    "print(prbi)\n",
    "print(prsq)"
   ]
  },
  {
   "cell_type": "code",
   "execution_count": 9,
   "id": "3d73befa",
   "metadata": {},
   "outputs": [
    {
     "data": {
      "text/plain": [
       "<matplotlib.legend.Legend at 0x11dba2c50>"
      ]
     },
     "execution_count": 9,
     "metadata": {},
     "output_type": "execute_result"
    },
    {
     "data": {
      "image/png": "[encoded data removed]",
      "text/plain": [
       "<Figure size 432x288 with 1 Axes>"
      ]
     },
     "metadata": {
      "needs_background": "light"
     },
     "output_type": "display_data"
    }
   ],
   "source": [
    "import matplotlib.pyplot as plt\n",
    "for i in range(3):\n",
    "    plt.bar([x-0.3+0.3*i for x in range(4)],prsq[i],width=0.3,label=\"Pair \"+str(i)+\"-\"+str(i+3))\n",
    "\n",
    "plt.ylim([0,1])\n",
    "plt.xticks(range(4), [bin(x)[2:].zfill(2) for x in range(4)],rotation=30)\n",
    "plt.ylabel(\"Output probability\")\n",
    "plt.xlabel(\"Output state\")\n",
    "plt.legend()"
   ]
  },
  {
   "cell_type": "code",
   "execution_count": 10,
   "id": "f7c6b4ef",
   "metadata": {},
   "outputs": [
    {
     "data": {
      "text/plain": [
       "Text(0.5, 0, 'Qubit')"
      ]
     },
     "execution_count": 10,
     "metadata": {},
     "output_type": "execute_result"
    },
    {
     "data": {
      "image/png": "[encoded data removed]",
      "text/plain": [
       "<Figure size 432x288 with 1 Axes>"
      ]
     },
     "metadata": {
      "needs_background": "light"
     },
     "output_type": "display_data"
    }
   ],
   "source": [
    "plt.bar(range(6),prbi)\n",
    "plt.ylim([0,1])\n",
    "plt.ylabel(\"State |1> probability\")\n",
    "plt.xlabel(\"Qubit\")"
   ]
  },
  {
   "cell_type": "code",
   "execution_count": null,
   "id": "ccbb760f",
   "metadata": {},
   "outputs": [],
   "source": []
  },
  {
   "cell_type": "markdown",
   "id": "05934526",
   "metadata": {},
   "source": [
    "### Running jobs on a quantum computer"
   ]
  },
  {
   "cell_type": "markdown",
   "id": "f5c3cd39",
   "metadata": {},
   "source": [
    "We are now ready to submit the jobs on IonQ's QPUs. Since actual quantum computers are noisy, the quality of XX gates on different ions may differ from the ideal and from each other."
   ]
  },
  {
   "cell_type": "code",
   "execution_count": 11,
   "id": "ec6ed02b",
   "metadata": {},
   "outputs": [],
   "source": [
    "# Switch the backend to run circuits on a quantum computer\n",
    "qpu_backend = provider.get_backend(\"ionq_qpu\")\n",
    "\n",
    "jobs = run_jobs(qpu_backend,circs,1000)"
   ]
  },
  {
   "cell_type": "markdown",
   "id": "9264c834",
   "metadata": {},
   "source": [
    "The job will queue, and results will arrive once it's executed!"
   ]
  },
  {
   "cell_type": "code",
   "execution_count": 16,
   "id": "04f13d21",
   "metadata": {},
   "outputs": [
    {
     "name": "stdout",
     "output_type": "stream",
     "text": [
      "JobStatus.DONE\n",
      "JobStatus.DONE\n"
     ]
    }
   ],
   "source": [
    "#Check if jobs are done\n",
    "for i in range(len(jobs)):\n",
    "    print(jobs[i].status())"
   ]
  },
  {
   "cell_type": "code",
   "execution_count": 17,
   "id": "059238dc",
   "metadata": {},
   "outputs": [
    {
     "name": "stdout",
     "output_type": "stream",
     "text": [
      "{'0x0': 113, '0x1': 6, '0x2': 11, '0x3': 2, '0x4': 3, '0x6': 2, '0x8': 10, '0x9': 102, '0xb': 6, '0xd': 1, '0xf': 4, '0x10': 3, '0x12': 86, '0x13': 3, '0x16': 6, '0x18': 1, '0x19': 6, '0x1a': 6, '0x1b': 109, '0x1d': 4, '0x1f': 5, '0x20': 3, '0x24': 99, '0x25': 12, '0x26': 8, '0x27': 1, '0x29': 4, '0x2c': 3, '0x2d': 108, '0x2e': 1, '0x2f': 9, '0x31': 1, '0x32': 4, '0x33': 3, '0x34': 4, '0x36': 107, '0x37': 5, '0x39': 3, '0x3b': 6, '0x3d': 3, '0x3e': 5, '0x3f': 122}\n",
      "[0.113, 0.006, 0.011, 0.002, 0.003, 0, 0.002, 0, 0.01, 0.102, 0, 0.006, 0, 0.001, 0, 0.004, 0.003, 0, 0.086, 0.003, 0, 0, 0.006, 0, 0.001, 0.006, 0.006, 0.109, 0, 0.004, 0, 0.005, 0.003, 0, 0, 0, 0.099, 0.012, 0.008, 0.001, 0, 0.004, 0, 0, 0.003, 0.108, 0.001, 0.009, 0, 0.001, 0.004, 0.003, 0.004, 0, 0.107, 0.005, 0, 0.003, 0, 0.006, 0, 0.003, 0.005, 0.122]\n",
      "{'0x0': 22, '0x1': 1, '0x2': 9, '0x3': 43, '0x4': 1, '0x5': 23, '0x6': 31, '0x7': 13, '0x9': 16, '0xa': 24, '0xb': 3, '0xc': 24, '0xd': 3, '0xe': 4, '0xf': 24, '0x10': 2, '0x11': 19, '0x12': 36, '0x13': 6, '0x14': 23, '0x15': 6, '0x16': 13, '0x17': 30, '0x18': 16, '0x1a': 4, '0x1b': 44, '0x1d': 16, '0x1e': 35, '0x1f': 4, '0x20': 3, '0x21': 23, '0x22': 40, '0x23': 2, '0x24': 22, '0x26': 6, '0x27': 51, '0x28': 15, '0x29': 1, '0x2a': 5, '0x2b': 39, '0x2d': 20, '0x2e': 32, '0x2f': 2, '0x30': 13, '0x31': 5, '0x32': 2, '0x33': 27, '0x34': 2, '0x35': 19, '0x36': 44, '0x37': 2, '0x38': 3, '0x39': 24, '0x3a': 35, '0x3b': 2, '0x3c': 20, '0x3d': 1, '0x3e': 3, '0x3f': 42}\n",
      "[0.022, 0.001, 0.009, 0.043, 0.001, 0.023, 0.031, 0.013, 0, 0.016, 0.024, 0.003, 0.024, 0.003, 0.004, 0.024, 0.002, 0.019, 0.036, 0.006, 0.023, 0.006, 0.013, 0.03, 0.016, 0, 0.004, 0.044, 0, 0.016, 0.035, 0.004, 0.003, 0.023, 0.04, 0.002, 0.022, 0, 0.006, 0.051, 0.015, 0.001, 0.005, 0.039, 0, 0.02, 0.032, 0.002, 0.013, 0.005, 0.002, 0.027, 0.002, 0.019, 0.044, 0.002, 0.003, 0.024, 0.035, 0.002, 0.02, 0.001, 0.003, 0.042]\n"
     ]
    }
   ],
   "source": [
    "# Fetch the result\n",
    "results = get_jobs(jobs,1000)\n",
    "prsq_m = [get_pair(results[0],[i,i+3]) for i in range(3)]\n",
    "prbi_m = [get_ion(results[1],i) for i in range(6)]"
   ]
  },
  {
   "cell_type": "code",
   "execution_count": 18,
   "id": "59715ff7",
   "metadata": {},
   "outputs": [
    {
     "data": {
      "text/plain": [
       "<matplotlib.legend.Legend at 0x11e081f10>"
      ]
     },
     "execution_count": 18,
     "metadata": {},
     "output_type": "execute_result"
    },
    {
     "data": {
      "image/png": "[encoded data removed]",
      "text/plain": [
       "<Figure size 432x288 with 1 Axes>"
      ]
     },
     "metadata": {
      "needs_background": "light"
     },
     "output_type": "display_data"
    }
   ],
   "source": [
    "for i in range(3):\n",
    "    plt.bar([x-0.3+0.3*i for x in range(4)],prsq_m[i],width=0.3,label=\"Pair \"+str(i)+\"-\"+str(i+3))\n",
    "\n",
    "plt.ylim([0,1])\n",
    "plt.xticks(range(4), [bin(x)[2:].zfill(2) for x in range(4)],rotation=30)\n",
    "plt.ylabel(\"Output probability\")\n",
    "plt.xlabel(\"Output state\")\n",
    "plt.legend()"
   ]
  },
  {
   "cell_type": "code",
   "execution_count": 19,
   "id": "e31f7203",
   "metadata": {},
   "outputs": [
    {
     "data": {
      "text/plain": [
       "Text(0.5, 0, 'Qubit')"
      ]
     },
     "execution_count": 19,
     "metadata": {},
     "output_type": "execute_result"
    },
    {
     "data": {
      "image/png": "[encoded data removed]",
      "text/plain": [
       "<Figure size 432x288 with 1 Axes>"
      ]
     },
     "metadata": {
      "needs_background": "light"
     },
     "output_type": "display_data"
    }
   ],
   "source": [
    "plt.bar(range(6),prbi_m)\n",
    "plt.ylim([0,1])\n",
    "plt.ylabel(\"State |1> probability\")\n",
    "plt.xlabel(\"Qubit\")"
   ]
  },
  {
   "cell_type": "code",
   "execution_count": null,
   "id": "72d368c9",
   "metadata": {},
   "outputs": [],
   "source": []
  }
 ],
 "metadata": {
  "kernelspec": {
   "display_name": "Python 3",
   "language": "python",
   "name": "python3"
  },
  "language_info": {
   "codemirror_mode": {
    "name": "ipython",
    "version": 3
   },
   "file_extension": ".py",
   "mimetype": "text/x-python",
   "name": "python",
   "nbconvert_exporter": "python",
   "pygments_lexer": "ipython3",
   "version": "3.8.8"
  }
 },
 "nbformat": 4,
 "nbformat_minor": 5
}
