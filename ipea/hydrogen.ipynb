{
 "cells": [
  {
   "cell_type": "markdown",
   "metadata": {},
   "source": [
    "# Estimating the phase of the Hydrogen molecule using Iterative Phase Estimation"
   ]
  },
  {
   "cell_type": "markdown",
   "metadata": {},
   "source": [
    "## Setup\n",
    "\n",
    "First, make sure that you have the latest version of Qiskit installed. To upgrade your Qiskit package, run the following command:\n",
    "\n",
    "```bash\n",
    "pip install --upgrade qiskit\n",
    "```\n",
    "\n",
    "Get an API key from IonQ. This will be used by the IonQ provider inside Qiskit to submit circuits to the IonQ platform.\n",
    "\n",
    "After securing an API key, install the python package `qiskit_ionq` using `pip`:\n",
    "\n",
    "```bash\n",
    "pip install qiskit_ionq\n",
    "```\n",
    "\n",
    "(IonQ's adapter for Qiskit is currently in private beta -- your feedback is welcomed!)\n",
    "\n",
    "### (Optional) Extra Dependencies\n",
    "\n",
    "Some examples use additional Python dependencies; please make sure to `pip install` them as needed.\n",
    "\n",
    "Dependencies:\n",
    "* `matplotlib`: To run `qiskit.visualization.plot_histogram`.\n",
    "\n",
    "**NOTE**: The provider expects an API key to be supplied via the `token` keyword argument to its constructor. If no token is directly provided, the provider will check for one in the `QISKIT_IONQ_API_TOKEN` environment variable.\n",
    "\n",
    "Now that the Python package has been installed, you can import and instantiate the provider:"
   ]
  },
  {
   "cell_type": "code",
   "execution_count": 1,
   "metadata": {},
   "outputs": [],
   "source": [
    "#import Aer here, before calling qiskit_ionq_provider\n",
    "from qiskit import Aer\n",
    "\n",
    "from qiskit_ionq import IonQProvider \n",
    "\n",
    "#Call provider and set token value\n",
    "provider = IonQProvider(token='my token')"
   ]
  },
  {
   "cell_type": "markdown",
   "metadata": {},
   "source": [
    "The `provider` instance can now be used to create and submit circuits to IonQ.\n",
    "\n",
    "### Backend Types\n",
    "\n",
    "The IonQ provider supports two backend types:\n",
    "* `ionq_simulator`: IonQ's simulator backend.\n",
    "* `ionq_qpu`: IonQ's QPU backend.\n",
    "\n",
    "To view all current backend types, use the `.backends` property on the provider instance:"
   ]
  },
  {
   "cell_type": "code",
   "execution_count": 2,
   "metadata": {},
   "outputs": [
    {
     "data": {
      "text/plain": [
       "[<IonQSimulatorBackend('ionq_simulator')>, <IonQQPUBackend('ionq_qpu')>]"
      ]
     },
     "execution_count": 2,
     "metadata": {},
     "output_type": "execute_result"
    }
   ],
   "source": [
    "provider.backends()"
   ]
  },
  {
   "cell_type": "markdown",
   "metadata": {},
   "source": [
    "### Why do I care about the Iterative Phase Estimation Algorithm (IPEA)? What can you do with it? What is it?\n",
    "\n",
    "Recall your linear algebra knowledge. More specifically, recall the concepts of eigenvalues and eigenvectors. Once you have these two notions solified, consider a unitary operator $U$ and a state $\\left|\\psi\\right>$ such that the following relation is true : \n",
    "\n",
    "$$U\\left|\\psi\\right>=e^{2\\pi i\\phi}\\left|\\psi\\right>$$\n",
    "\n",
    "In other words, $U$ has eigenvector $\\left|\\psi\\right>$ with corresponding eigenvalue $e^{2\\pi i\\phi}$. $\\phi$ is a real number, and it is our job to find out what its value is. That's it! That's the problem we are trying to solve. And we will solve it using this algorithm known as Iterative Phase Estimation."
   ]
  },
  {
   "cell_type": "markdown",
   "metadata": {},
   "source": [
    "### Okay, what is this algorithm and how do we use it to solve this problem?\n",
    "\n",
    "At this point, I will provide a peripheral explanation of what the algorithm essentially does. The detailed explanation will follow as I actually code the algorithm. Before I give the basic summary though, keep the following point in mind - \n",
    "\n",
    "IMPORTANT : We assume that $\\phi$, the value we are trying to find, can be expressed as $\\frac{\\phi_1}{2} + \\frac{\\phi_2}{4} + \\frac{\\phi_3}{8} + ... + \\frac{\\phi_n}{2^n}$. Here each of the $\\phi_k$'s are either 0 or 1. Another way of thinking about this key assumption is that $\\phi_1\\phi_2\\phi_3...\\phi_n$ is the binary representation of $2^n\\phi$ and $n$ is the number of iterations that we do \n",
    "\n",
    "Now for the general working : as the name of the algorithm suggests, there will be several iterations. Consider iteration k. The goal of this iteration will be to determine $\\phi_{n-k+1}$ in the expression for $\\phi$ above. To do this, the algorithm uses a circuit with two qubits : an auxiliary qubit and a main qubit (typically, this would be true. In this notebook we use three qubits because the problem we are tackling requires it). What will end up happening in every iteration is that $U$ will be acted on the main qubit in such a way that the auxiliary qubit's state, upon measurement, will collapse into $\\phi_{n-k+1}$. Once we have all the $\\phi_i$'s we can just put them into the above expression and solve for $\\phi$."
   ]
  },
  {
   "cell_type": "markdown",
   "metadata": {},
   "source": [
    "### Okay, cool! What are we going to do with this algorithm? Where does hydrogen come in?\n",
    "\n",
    "Okay, now we are going to put the IPEA to the test! In fact, we are going to do more than that. Here is the problem we are going to solve - \n",
    "\n",
    "While we know how to find the energy eigenvalues of the hydrogen atom (we know how to solve the Schrodinger equation exactly for this Hamiltonian), we don't have a way to exactly solve for the energy eigenvalues of the hydrogen molecule (we don't know how to exactly solve the Schrodinger equation for this other Hamiltonian). Using the IPEA, we are going to obtain a very good approximate solution! You will see just how good our approximation is at the very end of the notebook. We are going to solve for the ground-state energy of the hydrogen molecule.\n",
    "\n",
    "How do we formulate this problem into an IPEA problem? Well, simple! The IPEA essentially tells you something about the eigenvalue of the unitary operator that you feed into it, right? So it comes down to smartly choosing the unitary operator that you use - if you feed in a unitary that, perhaps, has an eigenvalue related to the energy eigenvalue we wish to determine (remember that we wish to find the ground-state energy), then the IPEA can really help. What operator has an eigenvalue related to the enery eigenvalue of the hydrogen molecule? Well, that could be the controlled-$e^{-iHt}$ gate (our $U = e^{-iHt}$) where $H$ is the Hamiltonian of the hydrogen molecule. This is essentially the unitary transformation we would use to time-evolve a wavefunction subject to the Hamiltonian of molecular hydrogen (recall that $\\left|\\psi(t + \\Delta t)\\right> = e^{-iH\\Delta t}\\left|\\psi(t)\\right>$). Since $H$, the Hamiltonian of the hydrogen molecule, has energy eigenstates that correspond to energy eigenvalues (the ground state energy, first-excited energy for instance), the eigenvalues of the exponential of $H$ will be the exponentials of the energy eigenvalues (for the same eigenstates). More specifically, if $\\left|\\psi\\right>$ is an eigenvector of $H$ corresponding to the eigenvalue $\\alpha$, $e^{-iHt}$ satisfies $e^{-iHt}\\left|\\psi\\right>=e^{-i\\alpha t}\\left|\\psi\\right>$.\n",
    "\n",
    "Okay, great! We now know qualitatively what this transformation means from a quantum-physics perspective, and more relevantly, what eigenvalues to expect (just the energy eigenvalues of hydrogen exponentiated). Therefore, we know value of $\\phi$ to expect. $$2i\\pi\\phi = -iEt \\implies \\phi = -\\frac{Et}{2\\pi}$$ We will obtain $\\phi$ using the IPEA, and we will obviously know how much time we give the system to evolve, thereby obtaining $t$. If you don't know what 2 and $\\pi$ are, then I suggest you stop reading right now...\n",
    "\n",
    "\n",
    "\n",
    "<br>\n",
    "<br>\n",
    "<br>\n",
    "<br>\n",
    "\n"
   ]
  },
  {
   "cell_type": "markdown",
   "metadata": {},
   "source": [
    "(just kidding, here you go - https://science.howstuffworks.com/math-concepts/pi.htm#:~:text=The%20definition%20of%20pi%20is,circumference%20divided%20by%20its%20diameter.&text=Divide%20the%20circumference%20of%20the,diameter%20%E2%80%94%20you%20get%20the%20point\n",
    "\n",
    "https://www.youtube.com/watch?v=BUZaPCLJA3c)\n",
    "\n",
    "Okay, so we have now understood how we are going to use the IPEA to arrive at the solution. We have our bird's-eye view of the problem. Ready to get into the details? Let's get down into the mud! We now have to worry about how precisely we are going to represent this problem on a quantum circuit. Instead of explaining it here, why don't I show you? Let's get right into it ..."
   ]
  },
  {
   "cell_type": "markdown",
   "metadata": {},
   "source": [
    "First, we import every library/module that will be needed."
   ]
  },
  {
   "cell_type": "code",
   "execution_count": 3,
   "metadata": {},
   "outputs": [],
   "source": [
    "from qiskit import *\n",
    "#import qiskit.aqua as aqua\n",
    "#from qiskit.quantum_info import Pauli\n",
    "#from qiskit.aqua.operators.primitive_ops import PauliOp\n",
    "from qiskit.circuit.library import PhaseEstimation\n",
    "from qiskit import QuantumCircuit\n",
    "from qiskit.visualization import plot_histogram\n",
    "%matplotlib inline\n",
    "\n",
    "import pyscf\n",
    "from pyscf import gto, scf, cc\n",
    "\n",
    "from matplotlib import pyplot as plt \n",
    "import numpy as np\n",
    "\n",
    "from qiskit_ionq import IonQProvider\n",
    "provider = IonQProvider(\"sUkOPlNLf6vamkFMB3SuHR2qYR5cLaMn\")\n",
    "\n",
    "from qiskit.providers.jobstatus import JobStatus\n",
    "import time as timer"
   ]
  },
  {
   "cell_type": "markdown",
   "metadata": {},
   "source": [
    "What is this `g` dictionary? Well, in essence, here is how we are going to write our Hamiltonian - \n",
    "<br>\n",
    "<br>\n",
    "    $H = $ `g[\"I\"]`$I$ + `g[\"Z0\"]`$Z_0$ + `g[\"Z1\"]`$Z_1$ + `g[\"Z0Z1\"]`$Z_0Z_1$ + `g[\"X0X1\"]`$X_0X_1$ + `g[\"Y0Y1\"]`$Y_0Y_1$\n",
    "    \n",
    "That's where this `g` dictionary comes in"
   ]
  },
  {
   "cell_type": "code",
   "execution_count": 4,
   "metadata": {},
   "outputs": [],
   "source": [
    "g = {\"I\": -0.4804, \"Z0\": 0.3435, \"Z1\": -0.4347, \"Z0Z1\": 0.5716, \"X0X1\": 0.0910, \"Y0Y1\": 0.0910}"
   ]
  },
  {
   "cell_type": "markdown",
   "metadata": {},
   "source": [
    "Now, we write the function `buildControlledHam`. As the name suggests, it creates our Hamiltonian-based gate and applies it in that special way I alluded to earlier in the basic summary of the IPEA. An even simpler way of describing this function would be that this function performs one iteration of the IPEA. So in one iteration, the function `buildControlledHam` - \n",
    "\n",
    "- initialises the circuit. In every iteration, the auxiliary qubit will be initialized in the state $\\left |+\\right> = \\frac{1}{\\sqrt{2}}(\\left|0\\right> + \\left|1\\right>)$, and another qubit will be initialised in the state $\\left|\\psi\\right>$ (this is the eigenvector of $U$ from above; we are using $\\left|01\\right>$. It turns out that this ket isn't exactly an energy eigenstate. We are using it because it is a state that comes very close to being an energy eigenstate and for the purpose of understanding this notebook, you can treat it like an energy eigenstate).\n",
    "\n",
    "<br>\n",
    "\n",
    "- then applies the C$e^{-iHt}$ (controlled-$e^{-iHt}$) gate to the circuit. \n",
    "\n",
    "    The C$e^{-iHt}$ gate functions exactly like a CNOT gate - the only difference is that if the control qubit is in state $\\left|1\\right>$, the $e^{-iHt}$ gate will be applied to the target qubit instead of the $X$ gate.\n",
    "\n",
    "<br>\n",
    "\n",
    "- then performs a phase correction. Recall that we need this phase correction to remove these unwanted phases and create the state to which only a measurement in the x-basis is necessary to complete the iteration.\n",
    "\n",
    "<br>\n",
    "\n",
    "- and finally, does an inverse Quantum Fourier Transform (QFT), which is nothing but a measurement in the Hadamard basis. It then returns the circuit ready for execution on a quantum computer."
   ]
  },
  {
   "cell_type": "code",
   "execution_count": 5,
   "metadata": {},
   "outputs": [],
   "source": [
    "\"\"\"\n",
    "  This function implements the controlled exp(-iHt)\n",
    "  Inputs:\n",
    "    phase: phase to correct\n",
    "    weights: Pauli weights\n",
    "    time: Time\n",
    "    order_index: Pauli operator index\n",
    "    iter_num: iteration\n",
    "    trotter_step: trotter steps\n",
    "\n",
    "  Output:\n",
    "    qc: Quantum circuit\n",
    "\"\"\"\n",
    "def buildControlledHam(phase, time, iter_num):\n",
    "\n",
    "    # initialize the circuit\n",
    "    qc = QuantumCircuit(3, 3)\n",
    "\n",
    "    # Hardmard on ancilla\n",
    "    qc.h(0)\n",
    "\n",
    "    # initialize to |01>\n",
    "    qc.x(2)\n",
    "    \n",
    "    # Z0 \n",
    "    qc.crz(g[\"Z0\"] * time * 2 * 2**iter_num, 0, 2)\n",
    "\n",
    "    # Y0Y1\n",
    "    qc.rz(np.pi/2, 1)\n",
    "    qc.rz(np.pi/2, 2)\n",
    "    qc.h(1)\n",
    "    qc.h(2)\n",
    "    qc.cx(1, 2)\n",
    "    qc.crz(g[\"Y0Y1\"] * time * 2 * 2**iter_num, 0, 2)\n",
    "    qc.cx(1, 2)\n",
    "    qc.h(1)\n",
    "    qc.h(2)\n",
    "    qc.rz(-np.pi/2, 1)\n",
    "    qc.rz(-np.pi/2, 2)\n",
    "            \n",
    "    # Z1\n",
    "    qc.crz(g[\"Z1\"] * time * 2 * 2**iter_num, 0, 1)\n",
    "\n",
    "    # X0X1\n",
    "    qc.h(1)\n",
    "    qc.h(2)\n",
    "    qc.cx(1, 2)\n",
    "    qc.crz(g[\"X0X1\"] * time * 2 * 2**iter_num, 0, 2)\n",
    "    qc.cx(1, 2)\n",
    "    qc.h(1)\n",
    "    qc.h(2)\n",
    "\n",
    "    # phase correction\n",
    "    qc.rz(phase, 0)\n",
    "\n",
    "    # inverse QFT\n",
    "    qc.h(0)\n",
    "\n",
    "    qc.measure([0, 1, 2],[0, 1, 2])\n",
    "\n",
    "    return qc\n"
   ]
  },
  {
   "cell_type": "markdown",
   "metadata": {},
   "source": [
    "The next function, as the name once again suggests, performs the IPEA algorithm. The above function just performed one iteration, and as you can see in the body of this function, there is a `for` loop in which `buildControlledHam` is called, which implies that one iteration of this `for` loop represents one iteration of the IPEA. The `for` loop iterates `tot_num_iter` times (the input of the function). This tells us that the input `tot_num_iter` of the function signifies the number of iterations in the IPEA algorithm. The `IPEA` function does its iterations, and in each iteration, it is basically just creating the quantum circuit with the ancilla and $\\left|01\\right>$ initial state, doing what it needs to do (the bullet points above) to the circuit, running the circuit, recovering the result (the $\\phi_k$ for that iteration), and appending it to the `bits` list. Once we get the bits, we can use the expression $\\phi = \\frac{\\phi_1}{2} + \\frac{\\phi_2}{4} + \\frac{\\phi_3}{8} + ... + \\frac{\\phi_n}{2^n}$ to find $\\phi$. This last part is precisely what the function `eig_from_bits`, defined after `IPEA` below, does."
   ]
  },
  {
   "cell_type": "code",
   "execution_count": 6,
   "metadata": {},
   "outputs": [],
   "source": [
    "\"\"\"\n",
    "  This function implements the controlled exp(-iHt)\n",
    "  Inputs:\n",
    "    weights: Pauli weights\n",
    "    time: Time\n",
    "    order_index: Pauli operator index\n",
    "    tot_num_iter: number of iterations\n",
    "    trotter_step: trotter steps\n",
    "\n",
    "  Output:\n",
    "    bits: list of measured bits\n",
    "\"\"\"\n",
    "def IPEA(time, tot_num_iter, backend_id):\n",
    "\n",
    "    # get backend\n",
    "    if (backend_id == \"qasm_simulator\"):\n",
    "        backend = Aer.get_backend(backend_id)\n",
    "    else:\n",
    "        backend = provider.get_backend(\"ionq_qpu\")\n",
    "\n",
    "    # bits\n",
    "    bits = []\n",
    "\n",
    "    # phase correction\n",
    "    phase = 0.0\n",
    "\n",
    "    # loop over iterations \n",
    "    for i in range(tot_num_iter-1, -1, -1):\n",
    "\n",
    "        # construct the circuit\n",
    "        qc = buildControlledHam(phase, time, i)\n",
    "        # run the circuit\n",
    "        job = execute(qc, backend)\n",
    "        \n",
    "        if (backend_id == \"ionq_qpu\"):\n",
    "\n",
    "            # Check if job is done\n",
    "            while job.status() is not JobStatus.DONE:\n",
    "                print(\"Job status is\", job.status() )\n",
    "                timer.sleep(60)\n",
    "\n",
    "            # once we break out of that while loop, we know our job is finished\n",
    "            print(\"Job status is\", job.status() )\n",
    "\n",
    "        # get result\n",
    "        result = job.result()\n",
    "\n",
    "        # get current bit\n",
    "        this_bit = int(max(result.get_counts(), key=result.get_counts().get)[-1])\n",
    "        \n",
    "        bits.append(this_bit)\n",
    "\n",
    "        # update phase correction\n",
    "        phase /= 2\n",
    "        phase -= (2 * np.pi * this_bit / 4.0)\n",
    "\n",
    "    return bits"
   ]
  },
  {
   "cell_type": "markdown",
   "metadata": {},
   "source": [
    "If you have made it this far, then you are doing very well! The IPEA algorithm is complicated because it has many moving parts to it, so take your time and make sure you can trace everything. Good job! \n",
    "\n",
    "The final function that we will have to define is `eig_from_bits`, which, as mentioned above, will take in the list of $\\phi_k$'s that the above function will return, and return the eigenvalue associated with $\\left|\\psi\\right>$"
   ]
  },
  {
   "cell_type": "code",
   "execution_count": 7,
   "metadata": {},
   "outputs": [],
   "source": [
    "\"\"\"\n",
    "  This function that computes eigenvalues from bit list\n",
    "  Inputs:\n",
    "    bits: list of measured bits\n",
    "    time: Time\n",
    "\n",
    "  Output:\n",
    "    eig: eigenvalue\n",
    "\"\"\"\n",
    "def eig_from_bits(bits, time):\n",
    "\n",
    "    eig = 0.\n",
    "\n",
    "    m = len(bits)\n",
    "\n",
    "    # loop over all bits\n",
    "    for k in range(len(bits)):\n",
    "        eig += bits[k] / (2**(m-k))\n",
    "\n",
    "    eig *= -2*np.pi\n",
    "    eig /= time\n",
    "\n",
    "    return eig"
   ]
  },
  {
   "cell_type": "markdown",
   "metadata": {},
   "source": [
    "The IPEA is done! But notice that in the cell above, you get the phase, but not the actual energy. The function below just takes in physical quantities like bond distance, and the result of the IPEA, to compute the actual energy value."
   ]
  },
  {
   "cell_type": "code",
   "execution_count": 8,
   "metadata": {},
   "outputs": [],
   "source": [
    "\"\"\"\n",
    "  This function that performs classical post-processing\n",
    "  Inputs:\n",
    "    eig:     eigenvalue\n",
    "    weights: Pauli operator weights\n",
    "    R:       Bond distance\n",
    "\n",
    "  Output:\n",
    "    energy: total energy\n",
    "\"\"\"\n",
    "def post_process(eig, weights, R):\n",
    "\n",
    "    # initialize energy\n",
    "    energy = eig\n",
    "\n",
    "    # Z0Z1 contribution\n",
    "    energy -= weights[\"Z0Z1\"]\n",
    "\n",
    "    # I contribution\n",
    "    energy += weights[\"I\"]\n",
    "\n",
    "    # Nuclear Repulsion ( assume R is in Angstrom )\n",
    "    energy += 1.0/ (R * 1.88973)\n",
    "\n",
    "    # return energy \n",
    "    return energy\n"
   ]
  },
  {
   "cell_type": "markdown",
   "metadata": {},
   "source": [
    "Okay, now we have all our functions defined to perform the IPEA and retrieve the energy associated with the oinergoinergoinergoienrgoienrg of the Hydrogen molecule. First, we will use a Quantum Chemistry library known as `pyscf` to calculate the value that we expect our design to return."
   ]
  },
  {
   "cell_type": "code",
   "execution_count": 9,
   "metadata": {},
   "outputs": [
    {
     "name": "stdout",
     "output_type": "stream",
     "text": [
      "converged SCF energy = -1.1247307455369\n",
      "E(FCI) = -1.145741671075\n"
     ]
    }
   ],
   "source": [
    "# backend\n",
    "backend_id = \"qasm_simulator\"\n",
    "\n",
    "# Bond Length\n",
    "R = 0.75\n",
    "\n",
    "# time \n",
    "t = 0.74\n",
    "\n",
    "# number of iteration\n",
    "max_num_iter = 8\n",
    "\n",
    "# get exact energy \n",
    "# This function initialises a molecule\n",
    "\n",
    "mol = pyscf.M(\n",
    "    atom = 'H 0 0 0; H 0 0 0.75',  # in Angstrom\n",
    "    basis = 'sto-6g',\n",
    "    symmetry = False,\n",
    ")\n",
    "myhf = mol.RHF().run()\n",
    "\n",
    "# create an FCI solver based on the SCF object\n",
    "#\n",
    "cisolver = pyscf.fci.FCI(myhf)\n",
    "print('E(FCI) = %.12f' % cisolver.kernel()[0])\n"
   ]
  },
  {
   "cell_type": "markdown",
   "metadata": {},
   "source": [
    "Now, let us check to see whether we can get the energy to converge to that value using our implementation. "
   ]
  },
  {
   "cell_type": "code",
   "execution_count": 10,
   "metadata": {},
   "outputs": [
    {
     "name": "stdout",
     "output_type": "stream",
     "text": [
      "-0.0 eig\n",
      "Total Energy is -0.3464318 for R = 0.75, t = 0.740 with 1 iterations\n",
      "-0.0 eig\n",
      "Total Energy is -0.3464318 for R = 0.75, t = 0.740 with 2 iterations\n",
      "-1.0613488694560111 eig\n",
      "Total Energy is -1.4077807 for R = 0.75, t = 0.740 with 3 iterations\n",
      "-0.5306744347280056 eig\n",
      "Total Energy is -0.8771063 for R = 0.75, t = 0.740 with 4 iterations\n",
      "-0.7960116520920084 eig\n",
      "Total Energy is -1.1424435 for R = 0.75, t = 0.740 with 5 iterations\n",
      "-0.7960116520920084 eig\n",
      "Total Energy is -1.1424435 for R = 0.75, t = 0.740 with 6 iterations\n",
      "-0.7960116520920084 eig\n",
      "Total Energy is -1.1424435 for R = 0.75, t = 0.740 with 7 iterations\n",
      "-0.7960116520920084 eig\n",
      "Total Energy is -1.1424435 for R = 0.75, t = 0.740 with 8 iterations\n"
     ]
    }
   ],
   "source": [
    "error_list = []\n",
    "\n",
    "# perform IPEA\n",
    "for i in range(1, max_num_iter + 1):\n",
    "    bits = IPEA(t, i, backend_id)\n",
    "\n",
    "    # re-construct phase\n",
    "    eig = eig_from_bits(bits, t)\n",
    "    print(eig, 'eig')\n",
    "\n",
    "    # re-construct energy\n",
    "    eng = post_process(eig, g, R)\n",
    "                \n",
    "    print(\"Total Energy is %.7f for R = %.2f, t = %.3f with %d iterations\" % (eng, R, t, i) )"
   ]
  },
  {
   "cell_type": "markdown",
   "metadata": {},
   "source": [
    "### Now, let's try the same thing on actual IonQ hardware!"
   ]
  },
  {
   "cell_type": "code",
   "execution_count": 11,
   "metadata": {},
   "outputs": [
    {
     "name": "stderr",
     "output_type": "stream",
     "text": [
      "/Users/abhay/opt/anaconda3/lib/python3.8/site-packages/qiskit/execute_function.py:343: UserWarning: Option parameter_binds is not used by this backend\n",
      "  job = backend.run(experiments, **run_kwargs)\n",
      "/Users/abhay/opt/anaconda3/lib/python3.8/site-packages/urllib3/connection.py:379: SystemTimeWarning: System time is way off (before 2020-07-01). This will probably lead to SSL verification errors\n",
      "  warnings.warn(\n",
      "/Users/abhay/opt/anaconda3/lib/python3.8/site-packages/urllib3/connection.py:379: SystemTimeWarning: System time is way off (before 2020-07-01). This will probably lead to SSL verification errors\n",
      "  warnings.warn(\n",
      "/Users/abhay/opt/anaconda3/lib/python3.8/site-packages/urllib3/connection.py:379: SystemTimeWarning: System time is way off (before 2020-07-01). This will probably lead to SSL verification errors\n",
      "  warnings.warn(\n",
      "/Users/abhay/opt/anaconda3/lib/python3.8/site-packages/urllib3/connection.py:379: SystemTimeWarning: System time is way off (before 2020-07-01). This will probably lead to SSL verification errors\n",
      "  warnings.warn(\n",
      "/Users/abhay/opt/anaconda3/lib/python3.8/site-packages/urllib3/connection.py:379: SystemTimeWarning: System time is way off (before 2020-07-01). This will probably lead to SSL verification errors\n",
      "  warnings.warn(\n",
      "/Users/abhay/opt/anaconda3/lib/python3.8/site-packages/urllib3/connection.py:379: SystemTimeWarning: System time is way off (before 2020-07-01). This will probably lead to SSL verification errors\n",
      "  warnings.warn(\n",
      "/Users/abhay/opt/anaconda3/lib/python3.8/site-packages/urllib3/connection.py:379: SystemTimeWarning: System time is way off (before 2020-07-01). This will probably lead to SSL verification errors\n",
      "  warnings.warn(\n",
      "/Users/abhay/opt/anaconda3/lib/python3.8/site-packages/urllib3/connection.py:379: SystemTimeWarning: System time is way off (before 2020-07-01). This will probably lead to SSL verification errors\n",
      "  warnings.warn(\n",
      "/Users/abhay/opt/anaconda3/lib/python3.8/site-packages/urllib3/connection.py:379: SystemTimeWarning: System time is way off (before 2020-07-01). This will probably lead to SSL verification errors\n",
      "  warnings.warn(\n",
      "/Users/abhay/opt/anaconda3/lib/python3.8/site-packages/urllib3/connection.py:379: SystemTimeWarning: System time is way off (before 2020-07-01). This will probably lead to SSL verification errors\n",
      "  warnings.warn(\n",
      "/Users/abhay/opt/anaconda3/lib/python3.8/site-packages/urllib3/connection.py:379: SystemTimeWarning: System time is way off (before 2020-07-01). This will probably lead to SSL verification errors\n",
      "  warnings.warn(\n",
      "/Users/abhay/opt/anaconda3/lib/python3.8/site-packages/urllib3/connection.py:379: SystemTimeWarning: System time is way off (before 2020-07-01). This will probably lead to SSL verification errors\n",
      "  warnings.warn(\n",
      "/Users/abhay/opt/anaconda3/lib/python3.8/site-packages/urllib3/connection.py:379: SystemTimeWarning: System time is way off (before 2020-07-01). This will probably lead to SSL verification errors\n",
      "  warnings.warn(\n",
      "/Users/abhay/opt/anaconda3/lib/python3.8/site-packages/urllib3/connection.py:379: SystemTimeWarning: System time is way off (before 2020-07-01). This will probably lead to SSL verification errors\n",
      "  warnings.warn(\n",
      "/Users/abhay/opt/anaconda3/lib/python3.8/site-packages/urllib3/connection.py:379: SystemTimeWarning: System time is way off (before 2020-07-01). This will probably lead to SSL verification errors\n",
      "  warnings.warn(\n",
      "/Users/abhay/opt/anaconda3/lib/python3.8/site-packages/urllib3/connection.py:379: SystemTimeWarning: System time is way off (before 2020-07-01). This will probably lead to SSL verification errors\n",
      "  warnings.warn(\n",
      "/Users/abhay/opt/anaconda3/lib/python3.8/site-packages/urllib3/connection.py:379: SystemTimeWarning: System time is way off (before 2020-07-01). This will probably lead to SSL verification errors\n",
      "  warnings.warn(\n",
      "/Users/abhay/opt/anaconda3/lib/python3.8/site-packages/urllib3/connection.py:379: SystemTimeWarning: System time is way off (before 2020-07-01). This will probably lead to SSL verification errors\n",
      "  warnings.warn(\n",
      "/Users/abhay/opt/anaconda3/lib/python3.8/site-packages/urllib3/connection.py:379: SystemTimeWarning: System time is way off (before 2020-07-01). This will probably lead to SSL verification errors\n",
      "  warnings.warn(\n",
      "/Users/abhay/opt/anaconda3/lib/python3.8/site-packages/urllib3/connection.py:379: SystemTimeWarning: System time is way off (before 2020-07-01). This will probably lead to SSL verification errors\n",
      "  warnings.warn(\n",
      "/Users/abhay/opt/anaconda3/lib/python3.8/site-packages/urllib3/connection.py:379: SystemTimeWarning: System time is way off (before 2020-07-01). This will probably lead to SSL verification errors\n",
      "  warnings.warn(\n",
      "/Users/abhay/opt/anaconda3/lib/python3.8/site-packages/urllib3/connection.py:379: SystemTimeWarning: System time is way off (before 2020-07-01). This will probably lead to SSL verification errors\n",
      "  warnings.warn(\n"
     ]
    },
    {
     "name": "stdout",
     "output_type": "stream",
     "text": [
      "Total Energy is -0.3464318 for R = 0.75, t = 0.740 with 1 iterations\n"
     ]
    },
    {
     "name": "stderr",
     "output_type": "stream",
     "text": [
      "/Users/abhay/opt/anaconda3/lib/python3.8/site-packages/urllib3/connection.py:379: SystemTimeWarning: System time is way off (before 2020-07-01). This will probably lead to SSL verification errors\n",
      "  warnings.warn(\n",
      "/Users/abhay/opt/anaconda3/lib/python3.8/site-packages/urllib3/connection.py:379: SystemTimeWarning: System time is way off (before 2020-07-01). This will probably lead to SSL verification errors\n",
      "  warnings.warn(\n",
      "/Users/abhay/opt/anaconda3/lib/python3.8/site-packages/urllib3/connection.py:379: SystemTimeWarning: System time is way off (before 2020-07-01). This will probably lead to SSL verification errors\n",
      "  warnings.warn(\n",
      "/Users/abhay/opt/anaconda3/lib/python3.8/site-packages/urllib3/connection.py:379: SystemTimeWarning: System time is way off (before 2020-07-01). This will probably lead to SSL verification errors\n",
      "  warnings.warn(\n",
      "/Users/abhay/opt/anaconda3/lib/python3.8/site-packages/urllib3/connection.py:379: SystemTimeWarning: System time is way off (before 2020-07-01). This will probably lead to SSL verification errors\n",
      "  warnings.warn(\n",
      "/Users/abhay/opt/anaconda3/lib/python3.8/site-packages/urllib3/connection.py:379: SystemTimeWarning: System time is way off (before 2020-07-01). This will probably lead to SSL verification errors\n",
      "  warnings.warn(\n",
      "/Users/abhay/opt/anaconda3/lib/python3.8/site-packages/urllib3/connection.py:379: SystemTimeWarning: System time is way off (before 2020-07-01). This will probably lead to SSL verification errors\n",
      "  warnings.warn(\n",
      "/Users/abhay/opt/anaconda3/lib/python3.8/site-packages/urllib3/connection.py:379: SystemTimeWarning: System time is way off (before 2020-07-01). This will probably lead to SSL verification errors\n",
      "  warnings.warn(\n"
     ]
    },
    {
     "name": "stdout",
     "output_type": "stream",
     "text": [
      "Total Energy is -0.3464318 for R = 0.75, t = 0.740 with 2 iterations\n"
     ]
    },
    {
     "name": "stderr",
     "output_type": "stream",
     "text": [
      "/Users/abhay/opt/anaconda3/lib/python3.8/site-packages/urllib3/connection.py:379: SystemTimeWarning: System time is way off (before 2020-07-01). This will probably lead to SSL verification errors\n",
      "  warnings.warn(\n",
      "/Users/abhay/opt/anaconda3/lib/python3.8/site-packages/urllib3/connection.py:379: SystemTimeWarning: System time is way off (before 2020-07-01). This will probably lead to SSL verification errors\n",
      "  warnings.warn(\n",
      "/Users/abhay/opt/anaconda3/lib/python3.8/site-packages/urllib3/connection.py:379: SystemTimeWarning: System time is way off (before 2020-07-01). This will probably lead to SSL verification errors\n",
      "  warnings.warn(\n",
      "/Users/abhay/opt/anaconda3/lib/python3.8/site-packages/urllib3/connection.py:379: SystemTimeWarning: System time is way off (before 2020-07-01). This will probably lead to SSL verification errors\n",
      "  warnings.warn(\n",
      "/Users/abhay/opt/anaconda3/lib/python3.8/site-packages/urllib3/connection.py:379: SystemTimeWarning: System time is way off (before 2020-07-01). This will probably lead to SSL verification errors\n",
      "  warnings.warn(\n",
      "/Users/abhay/opt/anaconda3/lib/python3.8/site-packages/urllib3/connection.py:379: SystemTimeWarning: System time is way off (before 2020-07-01). This will probably lead to SSL verification errors\n",
      "  warnings.warn(\n",
      "/Users/abhay/opt/anaconda3/lib/python3.8/site-packages/urllib3/connection.py:379: SystemTimeWarning: System time is way off (before 2020-07-01). This will probably lead to SSL verification errors\n",
      "  warnings.warn(\n",
      "/Users/abhay/opt/anaconda3/lib/python3.8/site-packages/urllib3/connection.py:379: SystemTimeWarning: System time is way off (before 2020-07-01). This will probably lead to SSL verification errors\n",
      "  warnings.warn(\n",
      "/Users/abhay/opt/anaconda3/lib/python3.8/site-packages/urllib3/connection.py:379: SystemTimeWarning: System time is way off (before 2020-07-01). This will probably lead to SSL verification errors\n",
      "  warnings.warn(\n",
      "/Users/abhay/opt/anaconda3/lib/python3.8/site-packages/urllib3/connection.py:379: SystemTimeWarning: System time is way off (before 2020-07-01). This will probably lead to SSL verification errors\n",
      "  warnings.warn(\n",
      "/Users/abhay/opt/anaconda3/lib/python3.8/site-packages/urllib3/connection.py:379: SystemTimeWarning: System time is way off (before 2020-07-01). This will probably lead to SSL verification errors\n",
      "  warnings.warn(\n",
      "/Users/abhay/opt/anaconda3/lib/python3.8/site-packages/urllib3/connection.py:379: SystemTimeWarning: System time is way off (before 2020-07-01). This will probably lead to SSL verification errors\n",
      "  warnings.warn(\n",
      "/Users/abhay/opt/anaconda3/lib/python3.8/site-packages/urllib3/connection.py:379: SystemTimeWarning: System time is way off (before 2020-07-01). This will probably lead to SSL verification errors\n",
      "  warnings.warn(\n"
     ]
    },
    {
     "name": "stdout",
     "output_type": "stream",
     "text": [
      "Total Energy is -1.4077807 for R = 0.75, t = 0.740 with 3 iterations\n"
     ]
    },
    {
     "name": "stderr",
     "output_type": "stream",
     "text": [
      "/Users/abhay/opt/anaconda3/lib/python3.8/site-packages/urllib3/connection.py:379: SystemTimeWarning: System time is way off (before 2020-07-01). This will probably lead to SSL verification errors\n",
      "  warnings.warn(\n",
      "/Users/abhay/opt/anaconda3/lib/python3.8/site-packages/urllib3/connection.py:379: SystemTimeWarning: System time is way off (before 2020-07-01). This will probably lead to SSL verification errors\n",
      "  warnings.warn(\n",
      "/Users/abhay/opt/anaconda3/lib/python3.8/site-packages/urllib3/connection.py:379: SystemTimeWarning: System time is way off (before 2020-07-01). This will probably lead to SSL verification errors\n",
      "  warnings.warn(\n",
      "/Users/abhay/opt/anaconda3/lib/python3.8/site-packages/urllib3/connection.py:379: SystemTimeWarning: System time is way off (before 2020-07-01). This will probably lead to SSL verification errors\n",
      "  warnings.warn(\n",
      "/Users/abhay/opt/anaconda3/lib/python3.8/site-packages/urllib3/connection.py:379: SystemTimeWarning: System time is way off (before 2020-07-01). This will probably lead to SSL verification errors\n",
      "  warnings.warn(\n",
      "/Users/abhay/opt/anaconda3/lib/python3.8/site-packages/urllib3/connection.py:379: SystemTimeWarning: System time is way off (before 2020-07-01). This will probably lead to SSL verification errors\n",
      "  warnings.warn(\n",
      "/Users/abhay/opt/anaconda3/lib/python3.8/site-packages/urllib3/connection.py:379: SystemTimeWarning: System time is way off (before 2020-07-01). This will probably lead to SSL verification errors\n",
      "  warnings.warn(\n",
      "/Users/abhay/opt/anaconda3/lib/python3.8/site-packages/urllib3/connection.py:379: SystemTimeWarning: System time is way off (before 2020-07-01). This will probably lead to SSL verification errors\n",
      "  warnings.warn(\n",
      "/Users/abhay/opt/anaconda3/lib/python3.8/site-packages/urllib3/connection.py:379: SystemTimeWarning: System time is way off (before 2020-07-01). This will probably lead to SSL verification errors\n",
      "  warnings.warn(\n",
      "/Users/abhay/opt/anaconda3/lib/python3.8/site-packages/urllib3/connection.py:379: SystemTimeWarning: System time is way off (before 2020-07-01). This will probably lead to SSL verification errors\n",
      "  warnings.warn(\n",
      "/Users/abhay/opt/anaconda3/lib/python3.8/site-packages/urllib3/connection.py:379: SystemTimeWarning: System time is way off (before 2020-07-01). This will probably lead to SSL verification errors\n",
      "  warnings.warn(\n",
      "/Users/abhay/opt/anaconda3/lib/python3.8/site-packages/urllib3/connection.py:379: SystemTimeWarning: System time is way off (before 2020-07-01). This will probably lead to SSL verification errors\n",
      "  warnings.warn(\n",
      "/Users/abhay/opt/anaconda3/lib/python3.8/site-packages/urllib3/connection.py:379: SystemTimeWarning: System time is way off (before 2020-07-01). This will probably lead to SSL verification errors\n",
      "  warnings.warn(\n",
      "/Users/abhay/opt/anaconda3/lib/python3.8/site-packages/urllib3/connection.py:379: SystemTimeWarning: System time is way off (before 2020-07-01). This will probably lead to SSL verification errors\n",
      "  warnings.warn(\n",
      "/Users/abhay/opt/anaconda3/lib/python3.8/site-packages/urllib3/connection.py:379: SystemTimeWarning: System time is way off (before 2020-07-01). This will probably lead to SSL verification errors\n",
      "  warnings.warn(\n",
      "/Users/abhay/opt/anaconda3/lib/python3.8/site-packages/urllib3/connection.py:379: SystemTimeWarning: System time is way off (before 2020-07-01). This will probably lead to SSL verification errors\n",
      "  warnings.warn(\n",
      "/Users/abhay/opt/anaconda3/lib/python3.8/site-packages/urllib3/connection.py:379: SystemTimeWarning: System time is way off (before 2020-07-01). This will probably lead to SSL verification errors\n",
      "  warnings.warn(\n"
     ]
    },
    {
     "name": "stdout",
     "output_type": "stream",
     "text": [
      "Total Energy is -0.8771063 for R = 0.75, t = 0.740 with 4 iterations\n"
     ]
    },
    {
     "name": "stderr",
     "output_type": "stream",
     "text": [
      "/Users/abhay/opt/anaconda3/lib/python3.8/site-packages/urllib3/connection.py:379: SystemTimeWarning: System time is way off (before 2020-07-01). This will probably lead to SSL verification errors\n",
      "  warnings.warn(\n",
      "/Users/abhay/opt/anaconda3/lib/python3.8/site-packages/urllib3/connection.py:379: SystemTimeWarning: System time is way off (before 2020-07-01). This will probably lead to SSL verification errors\n",
      "  warnings.warn(\n",
      "/Users/abhay/opt/anaconda3/lib/python3.8/site-packages/urllib3/connection.py:379: SystemTimeWarning: System time is way off (before 2020-07-01). This will probably lead to SSL verification errors\n",
      "  warnings.warn(\n",
      "/Users/abhay/opt/anaconda3/lib/python3.8/site-packages/urllib3/connection.py:379: SystemTimeWarning: System time is way off (before 2020-07-01). This will probably lead to SSL verification errors\n",
      "  warnings.warn(\n",
      "/Users/abhay/opt/anaconda3/lib/python3.8/site-packages/urllib3/connection.py:379: SystemTimeWarning: System time is way off (before 2020-07-01). This will probably lead to SSL verification errors\n",
      "  warnings.warn(\n",
      "/Users/abhay/opt/anaconda3/lib/python3.8/site-packages/urllib3/connection.py:379: SystemTimeWarning: System time is way off (before 2020-07-01). This will probably lead to SSL verification errors\n",
      "  warnings.warn(\n",
      "/Users/abhay/opt/anaconda3/lib/python3.8/site-packages/urllib3/connection.py:379: SystemTimeWarning: System time is way off (before 2020-07-01). This will probably lead to SSL verification errors\n",
      "  warnings.warn(\n",
      "/Users/abhay/opt/anaconda3/lib/python3.8/site-packages/urllib3/connection.py:379: SystemTimeWarning: System time is way off (before 2020-07-01). This will probably lead to SSL verification errors\n",
      "  warnings.warn(\n",
      "/Users/abhay/opt/anaconda3/lib/python3.8/site-packages/urllib3/connection.py:379: SystemTimeWarning: System time is way off (before 2020-07-01). This will probably lead to SSL verification errors\n",
      "  warnings.warn(\n",
      "/Users/abhay/opt/anaconda3/lib/python3.8/site-packages/urllib3/connection.py:379: SystemTimeWarning: System time is way off (before 2020-07-01). This will probably lead to SSL verification errors\n",
      "  warnings.warn(\n",
      "/Users/abhay/opt/anaconda3/lib/python3.8/site-packages/urllib3/connection.py:379: SystemTimeWarning: System time is way off (before 2020-07-01). This will probably lead to SSL verification errors\n",
      "  warnings.warn(\n",
      "/Users/abhay/opt/anaconda3/lib/python3.8/site-packages/urllib3/connection.py:379: SystemTimeWarning: System time is way off (before 2020-07-01). This will probably lead to SSL verification errors\n",
      "  warnings.warn(\n",
      "/Users/abhay/opt/anaconda3/lib/python3.8/site-packages/urllib3/connection.py:379: SystemTimeWarning: System time is way off (before 2020-07-01). This will probably lead to SSL verification errors\n",
      "  warnings.warn(\n",
      "/Users/abhay/opt/anaconda3/lib/python3.8/site-packages/urllib3/connection.py:379: SystemTimeWarning: System time is way off (before 2020-07-01). This will probably lead to SSL verification errors\n",
      "  warnings.warn(\n",
      "/Users/abhay/opt/anaconda3/lib/python3.8/site-packages/urllib3/connection.py:379: SystemTimeWarning: System time is way off (before 2020-07-01). This will probably lead to SSL verification errors\n",
      "  warnings.warn(\n",
      "/Users/abhay/opt/anaconda3/lib/python3.8/site-packages/urllib3/connection.py:379: SystemTimeWarning: System time is way off (before 2020-07-01). This will probably lead to SSL verification errors\n",
      "  warnings.warn(\n",
      "/Users/abhay/opt/anaconda3/lib/python3.8/site-packages/urllib3/connection.py:379: SystemTimeWarning: System time is way off (before 2020-07-01). This will probably lead to SSL verification errors\n",
      "  warnings.warn(\n",
      "/Users/abhay/opt/anaconda3/lib/python3.8/site-packages/urllib3/connection.py:379: SystemTimeWarning: System time is way off (before 2020-07-01). This will probably lead to SSL verification errors\n",
      "  warnings.warn(\n",
      "/Users/abhay/opt/anaconda3/lib/python3.8/site-packages/urllib3/connection.py:379: SystemTimeWarning: System time is way off (before 2020-07-01). This will probably lead to SSL verification errors\n",
      "  warnings.warn(\n",
      "/Users/abhay/opt/anaconda3/lib/python3.8/site-packages/urllib3/connection.py:379: SystemTimeWarning: System time is way off (before 2020-07-01). This will probably lead to SSL verification errors\n",
      "  warnings.warn(\n"
     ]
    },
    {
     "ename": "KeyboardInterrupt",
     "evalue": "",
     "output_type": "error",
     "traceback": [
      "\u001b[0;31m---------------------------------------------------------------------------\u001b[0m",
      "\u001b[0;31mKeyboardInterrupt\u001b[0m                         Traceback (most recent call last)",
      "\u001b[0;32m<ipython-input-11-a597bd5b902b>\u001b[0m in \u001b[0;36m<module>\u001b[0;34m\u001b[0m\n\u001b[1;32m      4\u001b[0m \u001b[0;31m# perform IPEA\u001b[0m\u001b[0;34m\u001b[0m\u001b[0;34m\u001b[0m\u001b[0;34m\u001b[0m\u001b[0m\n\u001b[1;32m      5\u001b[0m \u001b[0;32mfor\u001b[0m \u001b[0mi\u001b[0m \u001b[0;32min\u001b[0m \u001b[0mrange\u001b[0m\u001b[0;34m(\u001b[0m\u001b[0;36m1\u001b[0m\u001b[0;34m,\u001b[0m \u001b[0mmax_num_iter\u001b[0m \u001b[0;34m+\u001b[0m \u001b[0;36m1\u001b[0m\u001b[0;34m)\u001b[0m\u001b[0;34m:\u001b[0m\u001b[0;34m\u001b[0m\u001b[0;34m\u001b[0m\u001b[0m\n\u001b[0;32m----> 6\u001b[0;31m     \u001b[0mbits\u001b[0m \u001b[0;34m=\u001b[0m \u001b[0mIPEA\u001b[0m\u001b[0;34m(\u001b[0m\u001b[0mt\u001b[0m\u001b[0;34m,\u001b[0m \u001b[0mi\u001b[0m\u001b[0;34m,\u001b[0m \u001b[0mbackend_id\u001b[0m\u001b[0;34m)\u001b[0m\u001b[0;34m\u001b[0m\u001b[0;34m\u001b[0m\u001b[0m\n\u001b[0m\u001b[1;32m      7\u001b[0m \u001b[0;34m\u001b[0m\u001b[0m\n\u001b[1;32m      8\u001b[0m     \u001b[0;31m# re-construct phase\u001b[0m\u001b[0;34m\u001b[0m\u001b[0;34m\u001b[0m\u001b[0;34m\u001b[0m\u001b[0m\n",
      "\u001b[0;32m<ipython-input-6-45c79371be5d>\u001b[0m in \u001b[0;36mIPEA\u001b[0;34m(time, tot_num_iter, backend_id)\u001b[0m\n\u001b[1;32m     44\u001b[0m \u001b[0;34m\u001b[0m\u001b[0m\n\u001b[1;32m     45\u001b[0m         \u001b[0;31m# get result\u001b[0m\u001b[0;34m\u001b[0m\u001b[0;34m\u001b[0m\u001b[0;34m\u001b[0m\u001b[0m\n\u001b[0;32m---> 46\u001b[0;31m         \u001b[0mresult\u001b[0m \u001b[0;34m=\u001b[0m \u001b[0mjob\u001b[0m\u001b[0;34m.\u001b[0m\u001b[0mresult\u001b[0m\u001b[0;34m(\u001b[0m\u001b[0;34m)\u001b[0m\u001b[0;34m\u001b[0m\u001b[0;34m\u001b[0m\u001b[0m\n\u001b[0m\u001b[1;32m     47\u001b[0m \u001b[0;34m\u001b[0m\u001b[0m\n\u001b[1;32m     48\u001b[0m         \u001b[0;31m# get current bit\u001b[0m\u001b[0;34m\u001b[0m\u001b[0;34m\u001b[0m\u001b[0;34m\u001b[0m\u001b[0m\n",
      "\u001b[0;32m~/opt/anaconda3/lib/python3.8/site-packages/qiskit_ionq/ionq_job.py\u001b[0m in \u001b[0;36mresult\u001b[0;34m(self)\u001b[0m\n\u001b[1;32m    247\u001b[0m         \u001b[0;31m# Wait for the job to complete.\u001b[0m\u001b[0;34m\u001b[0m\u001b[0;34m\u001b[0m\u001b[0;34m\u001b[0m\u001b[0m\n\u001b[1;32m    248\u001b[0m         \u001b[0;32mtry\u001b[0m\u001b[0;34m:\u001b[0m\u001b[0;34m\u001b[0m\u001b[0;34m\u001b[0m\u001b[0m\n\u001b[0;32m--> 249\u001b[0;31m             \u001b[0mself\u001b[0m\u001b[0;34m.\u001b[0m\u001b[0mwait_for_final_state\u001b[0m\u001b[0;34m(\u001b[0m\u001b[0;34m)\u001b[0m\u001b[0;34m\u001b[0m\u001b[0;34m\u001b[0m\u001b[0m\n\u001b[0m\u001b[1;32m    250\u001b[0m         \u001b[0;32mexcept\u001b[0m \u001b[0mJobTimeoutError\u001b[0m \u001b[0;32mas\u001b[0m \u001b[0mex\u001b[0m\u001b[0;34m:\u001b[0m\u001b[0;34m\u001b[0m\u001b[0;34m\u001b[0m\u001b[0m\n\u001b[1;32m    251\u001b[0m             \u001b[0;32mraise\u001b[0m \u001b[0mexceptions\u001b[0m\u001b[0;34m.\u001b[0m\u001b[0mIonQJobTimeoutError\u001b[0m\u001b[0;34m(\u001b[0m\u001b[0;34m\"Timed out waiting for job to complete.\"\u001b[0m\u001b[0;34m)\u001b[0m \u001b[0;32mfrom\u001b[0m \u001b[0mex\u001b[0m\u001b[0;34m\u001b[0m\u001b[0;34m\u001b[0m\u001b[0m\n",
      "\u001b[0;32m~/opt/anaconda3/lib/python3.8/site-packages/qiskit/providers/job.py\u001b[0m in \u001b[0;36mwait_for_final_state\u001b[0;34m(self, timeout, wait, callback)\u001b[0m\n\u001b[1;32m    118\u001b[0m             \u001b[0;32mif\u001b[0m \u001b[0mcallback\u001b[0m\u001b[0;34m:\u001b[0m\u001b[0;34m\u001b[0m\u001b[0;34m\u001b[0m\u001b[0m\n\u001b[1;32m    119\u001b[0m                 \u001b[0mcallback\u001b[0m\u001b[0;34m(\u001b[0m\u001b[0mself\u001b[0m\u001b[0;34m.\u001b[0m\u001b[0mjob_id\u001b[0m\u001b[0;34m(\u001b[0m\u001b[0;34m)\u001b[0m\u001b[0;34m,\u001b[0m \u001b[0mstatus\u001b[0m\u001b[0;34m,\u001b[0m \u001b[0mself\u001b[0m\u001b[0;34m)\u001b[0m\u001b[0;34m\u001b[0m\u001b[0;34m\u001b[0m\u001b[0m\n\u001b[0;32m--> 120\u001b[0;31m             \u001b[0mtime\u001b[0m\u001b[0;34m.\u001b[0m\u001b[0msleep\u001b[0m\u001b[0;34m(\u001b[0m\u001b[0mwait\u001b[0m\u001b[0;34m)\u001b[0m\u001b[0;34m\u001b[0m\u001b[0;34m\u001b[0m\u001b[0m\n\u001b[0m\u001b[1;32m    121\u001b[0m             \u001b[0mstatus\u001b[0m \u001b[0;34m=\u001b[0m \u001b[0mself\u001b[0m\u001b[0;34m.\u001b[0m\u001b[0mstatus\u001b[0m\u001b[0;34m(\u001b[0m\u001b[0;34m)\u001b[0m\u001b[0;34m\u001b[0m\u001b[0;34m\u001b[0m\u001b[0m\n\u001b[1;32m    122\u001b[0m         \u001b[0;32mreturn\u001b[0m\u001b[0;34m\u001b[0m\u001b[0;34m\u001b[0m\u001b[0m\n",
      "\u001b[0;31mKeyboardInterrupt\u001b[0m: "
     ]
    }
   ],
   "source": [
    "backend_id = \"qpu\"\n",
    "error_list = []\n",
    "\n",
    "# perform IPEA\n",
    "for i in range(1, max_num_iter + 1):\n",
    "    bits = IPEA(t, i, backend_id)\n",
    "\n",
    "    # re-construct phase\n",
    "    eig = eig_from_bits(bits, t)\n",
    "\n",
    "    # re-construct energy\n",
    "    eng = post_process(eig, g, R)\n",
    "                \n",
    "    print(\"Total Energy is %.7f for R = %.2f, t = %.3f with %d iterations\" % (eng, R, t, i) )"
   ]
  }
 ],
 "metadata": {
  "kernelspec": {
   "display_name": "Python 3",
   "language": "python",
   "name": "python3"
  },
  "language_info": {
   "codemirror_mode": {
    "name": "ipython",
    "version": 3
   },
   "file_extension": ".py",
   "mimetype": "text/x-python",
   "name": "python",
   "nbconvert_exporter": "python",
   "pygments_lexer": "ipython3",
   "version": "3.8.8"
  }
 },
 "nbformat": 4,
 "nbformat_minor": 2
}
