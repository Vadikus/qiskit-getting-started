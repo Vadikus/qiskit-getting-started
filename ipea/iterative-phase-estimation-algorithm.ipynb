{
 "cells": [
  {
   "cell_type": "markdown",
   "id": "3fe6fa4c",
   "metadata": {},
   "source": [
    "# Iterative Phase Estimation"
   ]
  },
  {
   "cell_type": "markdown",
   "id": "e463bb48",
   "metadata": {},
   "source": [
    "## Setup\n",
    "\n",
    "First, make sure that you have the latest version of Qiskit installed. To upgrade your Qiskit package, run the following command:\n",
    "\n",
    "```bash\n",
    "pip install --upgrade qiskit\n",
    "```\n",
    "\n",
    "Get an API key from IonQ. This will be used by the IonQ provider inside Qiskit to submit circuits to the IonQ platform.\n",
    "\n",
    "After securing an API key, install the python package `qiskit_ionq` using `pip`:\n",
    "\n",
    "```bash\n",
    "pip install qiskit_ionq\n",
    "```\n",
    "\n",
    "(IonQ's adapter for Qiskit is currently in private beta -- your feedback is welcomed!)\n",
    "\n",
    "### (Optional) Extra Dependencies\n",
    "\n",
    "Some examples use additional Python dependencies; please make sure to `pip install` them as needed.\n",
    "\n",
    "Dependencies:\n",
    "* `matplotlib`: To run `qiskit.visualization.plot_histogram`.\n",
    "\n",
    "**NOTE**: The provider expects an API key to be supplied via the `token` keyword argument to its constructor. If no token is directly provided, the provider will check for one in the `QISKIT_IONQ_API_TOKEN` environment variable.\n",
    "\n",
    "Now that the Python package has been installed, you can import and instantiate the provider:"
   ]
  },
  {
   "cell_type": "code",
   "execution_count": 1,
   "id": "beb7b493",
   "metadata": {},
   "outputs": [],
   "source": [
    "#import Aer here, before calling qiskit_ionq_provider\n",
    "from qiskit import Aer\n",
    "\n",
    "from qiskit_ionq import IonQProvider \n",
    "\n",
    "#Call provider and set token value\n",
    "provider = IonQProvider(token='my token')"
   ]
  },
  {
   "cell_type": "markdown",
   "id": "d7745dbc",
   "metadata": {},
   "source": [
    "The `provider` instance can now be used to create and submit circuits to IonQ.\n",
    "\n",
    "### Backend Types\n",
    "\n",
    "The IonQ provider supports two backend types:\n",
    "* `ionq_simulator`: IonQ's simulator backend.\n",
    "* `ionq_qpu`: IonQ's QPU backend.\n",
    "\n",
    "To view all current backend types, use the `.backends` property on the provider instance:"
   ]
  },
  {
   "cell_type": "code",
   "execution_count": 2,
   "id": "50515724",
   "metadata": {},
   "outputs": [
    {
     "data": {
      "text/plain": [
       "[<IonQSimulatorBackend('ionq_simulator')>, <IonQQPUBackend('ionq_qpu')>]"
      ]
     },
     "execution_count": 2,
     "metadata": {},
     "output_type": "execute_result"
    }
   ],
   "source": [
    "provider.backends()"
   ]
  },
  {
   "cell_type": "markdown",
   "id": "6008bbd9",
   "metadata": {},
   "source": [
    "### Why do I care about the Iterative Phase Estimation Algorithm (IPEA)? What can you do with it?\n",
    "\n",
    "Recall your linear algebra knowledge. More specifically, recall the concepts of eigenvalues and eigenvectors. Once you have these two notions solified, consider a unitary operator $U$ and a state $\\left|\\psi\\right>$ such that the following relation is true : \n",
    "\n",
    "$$U\\left|\\psi\\right>=e^{2\\pi i\\phi}\\left|\\psi\\right>$$\n",
    "\n",
    "In other words, $U$ has eigenvector $\\left|\\psi\\right>$ with corresponding eigenvalue $e^{2\\pi i\\phi}$. $\\phi$ is a real number, and it is our job to find out what its value is. That's it! That's the problem we are trying to solve. And we will solve it using this algorithm known as Iterative Phase Estimation."
   ]
  },
  {
   "cell_type": "markdown",
   "id": "4b472d7c",
   "metadata": {},
   "source": [
    "### Okay, what is this algorithm and how do we use it to solve this problem?\n",
    "\n",
    "At this point, I will provide a peripheral explanation of what the algorithm essentially does. The detailed explanation will follow as I actually code the algorithm. Before I give the basic summary though, keep the following point in mind - \n",
    "\n",
    "IMPORTANT : We assume that $\\phi$, the value we are trying to find, can be expressed as $\\frac{\\phi_1}{2} + \\frac{\\phi_2}{4} + \\frac{\\phi_3}{8} + ... + \\frac{\\phi_n}{2^n}$. Here each of the $\\phi_k$'s are either 0 or 1. Another way of thinking about this key assumption is that $\\phi_1\\phi_2\\phi_3...\\phi_n$ is the binary representation of $2^n\\phi$ and $n$ is the number of iterations that we do \n",
    "\n",
    "Now for the general working : as the name of the algorithm suggests, there will be several iterations. Consider iteration k. The goal of this iteration will be to determine $\\phi_{n-k+1}$ in the expression for $\\phi$ above. To do this, the algorithm uses a circuit with two qubits : an auxiliary qubit and a main qubit. What will end up happening in every iteration is that $U$ will be acted on the main qubit in such a way that the auxiliary qubit's state, upon measurement, will collapse into $\\phi_{n-k+1}$."
   ]
  },
  {
   "cell_type": "markdown",
   "id": "f5e74e1b",
   "metadata": {},
   "source": [
    "### Isn't there the standard Quantum Phase Estimation algorithm that does the same thing with just one iteration?\n",
    "\n",
    "Before we start, let me answer this good question. Yes, there is the standard Quantum Phase Estimation algorithm (often shortened to QPE) that solves this very problem with one iteration. Why aren't we using that algorithm if it will get the job done faster?\n",
    "\n",
    "Well, there is a trade-off one has to consider while choosing between the two algorithms. Essentially, the QPEA uses a larger circuit with more qubits, and with more qubits comes more cost in the form of hardware and noise. In contrast, the IPEA just uses two qubits (auxiliary and main). But, of course, where this algorithm loses out is in the number of iterations.\n",
    "\n",
    "Okay, now let us see how the IPEA works exactly! We are going to try to deduce the phase of the T-gate (our $U = T$). This gate has the following matrix - \n",
    "\n",
    "$$T = \\begin{bmatrix}\n",
    "1 & 0\\\\\n",
    "0 & e^{i\\frac{\\pi}{4}}\n",
    "\\end{bmatrix}$$\n",
    "\n",
    "which clearly tells you that the state $\\left|1\\right>$ is an eigenstate with eigenvalue $e^{i\\frac{\\pi}{4}}$. Let's see how our algorithm tells us this. Keep in mind that $\\phi = \\frac{1}{8}$ in this case because the algorithm gives us $\\phi$ in the expression $2\\pi i \\phi$, and for the T-gate, $2\\pi i \\phi = i\\frac{\\pi}{4} \\implies \\phi = \\frac{1}{8}$ "
   ]
  },
  {
   "cell_type": "markdown",
   "id": "5fbde21c",
   "metadata": {},
   "source": [
    "First, we import every library/module that will be needed."
   ]
  },
  {
   "cell_type": "code",
   "execution_count": 3,
   "id": "e6535a6c",
   "metadata": {},
   "outputs": [
    {
     "name": "stderr",
     "output_type": "stream",
     "text": [
      "/Users/abhay/opt/anaconda3/lib/python3.8/site-packages/qiskit/chemistry/__init__.py:170: DeprecationWarning: The package qiskit.chemistry is deprecated. It was moved/refactored to qiskit_nature (pip install qiskit-nature). For more information see <https://github.com/Qiskit/qiskit-aqua/blob/main/README.md#migration-guide>\n",
      "  warn_package('chemistry', 'qiskit_nature', 'qiskit-nature')\n"
     ]
    }
   ],
   "source": [
    "from qiskit import *\n",
    "#import qiskit.aqua as aqua\n",
    "#from qiskit.quantum_info import Pauli\n",
    "#from qiskit.aqua.operators.primitive_ops import PauliOp\n",
    "from qiskit.circuit.library import PhaseEstimation\n",
    "from qiskit import QuantumCircuit\n",
    "\n",
    "from matplotlib import pyplot as plt\n",
    "import numpy as np\n",
    "\n",
    "\n",
    "from qiskit.chemistry.drivers import PySCFDriver, UnitsType\n",
    "from qiskit.chemistry.drivers import Molecule"
   ]
  },
  {
   "cell_type": "markdown",
   "id": "e928320f",
   "metadata": {},
   "source": [
    "Now, we write the function `buildControlledT`. As the name suggests, it creates our T-gate and applies it in that special way I alluded to earlier in the basic summary of the IPEA. An even simpler way of describing this function would be that this function performs one iteration of the IPEA. Let's go into more detail and take a look at what happens within one iteration (this description is meant not only to delineate the working of the IPEA, but also to help tracing the code below easier. I highly suggest you read each bullet point, and then find in the code below where this is being implemented before moving on to the next point)- \n",
    "\n",
    "- The first thing this function does is create and initialise the circuit. In every iteration, the auxiliary qubit ($q_0$ in our case) will be initialized in the state $\\left |+\\right> = \\frac{1}{\\sqrt{2}}(\\left|0\\right> + \\left|1\\right>)$, and the other qubit ($q_1$) will be initialised in the state $\\left|\\psi\\right>$ (this is the eigenvector of $U$ from above; in our case, $U=T$ and $\\left|\\psi\\right>=\\left|1\\right>$). So at this point, our collective state is $\\left |+\\right> \\otimes \\left|\\psi\\right>$ with $\\left|\\psi\\right> = \\left|1\\right>$ in our case\n",
    "\n",
    "<br>\n",
    "\n",
    "- It then applies the CT (controlled-T) gate to the circuit 2<sup>m</sup> times, where the input m is a number that will range from 0 to $n - 1$, where $n$ is the index of the last $\\phi_k$ in the expression $\\phi = \\frac{\\phi_1}{2} + \\frac{\\phi_2}{4} + \\frac{\\phi_3}{8} + ... + \\frac{\\phi_n}{2^n}$. In the k<sup>th</sup> iteration, we will apply the T-gate $2^{n-k}$ times. \n",
    "\n",
    "    The CT gate functions exactly like a CNOT gate - the only difference is that if the control qubit, in this case always $q_0$, is in state $\\left|1\\right>$, the $T$ gate will be applied to the target qubit instead of the $X$ gate. The target qubit in our case will be $q_1$. Now, let's see what happens when this gate is applied 2<sup>m</sup> times in terms of the quantum mechanics: \n",
    "\n",
    "    We were in the state $\\left |+\\right> \\otimes \\left|\\psi\\right> = \\frac{1}{\\sqrt{2}}(\\left|0\\right> + \\left|1\\right>)\\otimes \\left|\\psi\\right>$. Let's see what happens to that state for different values of m - \n",
    "\n",
    "    If m = 0, then the T gate is applied $2^0 = 1$ time. So $\\frac{1}{\\sqrt{2}}(\\left|0\\right> + \\left|1\\right>)\\otimes \\left|\\psi\\right>$ becomes $\\frac{1}{\\sqrt{2}}(\\left|0\\right> \\otimes \\left|\\psi\\right>+ \\left|1\\right> \\otimes  e^{2\\pi i\\phi}\\left|\\psi\\right>) = \\frac{1}{\\sqrt{2}}(\\left|0\\right> + e^{2\\pi i\\phi}\\left|1\\right>) \\otimes \\left|\\psi\\right> = \\frac{1}{\\sqrt{2}}(\\left|0\\right> + e^{2\\pi i(\\frac{\\phi_1}{2} + \\frac{\\phi_2}{4} + \\frac{\\phi_3}{8} + ... + \\frac{\\phi_n}{2^n})}\\left|1\\right>) \\otimes \\left|\\psi\\right>$\n",
    "\n",
    "    If m = 1, $\\frac{1}{\\sqrt{2}}(\\left|0\\right> + \\left|1\\right>)\\otimes \\left|\\psi\\right>$ becomes $\\frac{1}{\\sqrt{2}}(\\left|0\\right> \\otimes \\left|\\psi\\right>+ \\left|1\\right> \\otimes  e^{2\\times2\\pi i\\phi}\\left|\\psi\\right>) = \\frac{1}{\\sqrt{2}}(\\left|0\\right> + e^{2\\times2\\pi i\\phi}\\left|1\\right>) \\otimes \\left|\\psi\\right> = \\frac{1}{\\sqrt{2}}(\\left|0\\right> + e^{2\\pi i(\\phi_1 + \\frac{\\phi_2}{2} + \\frac{\\phi_3}{4} + ... + \\frac{\\phi_n}{2^{n-1}})}\\left|1\\right>) \\otimes \\left|\\psi\\right> = \\frac{1}{\\sqrt{2}}(\\left|0\\right> + e^{2\\pi i\\phi_1}e^{2\\pi i(\\frac{\\phi_2}{2} + \\frac{\\phi_3}{4} + ... + \\frac{\\phi_n}{2^{n-1}})}\\left|1\\right>) \\otimes \\left|\\psi\\right> = \\frac{1}{\\sqrt{2}}(\\left|0\\right> + e^{2\\pi i(\\frac{\\phi_2}{2} + \\frac{\\phi_3}{4} + ... + \\frac{\\phi_n}{2^{n-1}})}\\left|1\\right>) \\otimes \\left|\\psi\\right>$\n",
    "    \n",
    "    If m = n - 1, $\\frac{1}{\\sqrt{2}}(\\left|0\\right> + \\left|1\\right>)\\otimes \\left|\\psi\\right>$ becomes $\\frac{1}{\\sqrt{2}}(\\left|0\\right> \\otimes \\left|\\psi\\right>+ \\left|1\\right> \\otimes  e^{2^{n-1}\\times2\\pi i\\phi}\\left|\\psi\\right>) = \\frac{1}{\\sqrt{2}}(\\left|0\\right> + e^{2^{n-1}\\times2\\pi i\\phi}\\left|1\\right>) \\otimes \\left|\\psi\\right> = \\frac{1}{\\sqrt{2}}(\\left|0\\right> + e^{2\\pi i(2^{n-2}\\phi_1 + 2^{n-3}\\phi_2 + 2^{n-4}\\phi_3 + ... + 2^{-1}\\phi_n})\\left|1\\right>) \\otimes \\left|\\psi\\right> = \\frac{1}{\\sqrt{2}}(\\left|0\\right> + e^{2^{n-2}\\times2\\pi i\\phi_1}e^{2^{n-3}\\times2\\pi i\\phi_2}...e^{2^{-1}\\times2\\pi i\\phi_n}\\left|1\\right>) \\otimes \\left|\\psi\\right> = \\frac{1}{\\sqrt{2}}(\\left|0\\right> + e^{2^{-1}\\times2\\pi i\\phi_n}\\left|1\\right>) \\otimes \\left|\\psi\\right> $\n",
    "\n",
    "<br>\n",
    "\n",
    "- The function then performs a phase correction. Why do we need this phase correction? \n",
    "\n",
    "Well, first note the following important point, and then we'll get back to that question : if we apply the T-gate to the main qubit $2^{n - 1}$ times, as we will in the first iteration of the IPEA, then m = $n-1$, and as shown above, our circuit's quantum state will be $\\frac{1}{\\sqrt{2}}(\\left|0\\right> + e^{2^{-1}\\times2\\pi i\\phi_n}\\left|1\\right>) \\otimes \\left|\\psi\\right>$. In this iteration, our goal is to find $\\phi_n$. If $\\phi_n = 0$, then this state is just $\\left |+\\right> \\otimes \\left|\\psi\\right>$, and if $\\phi_n = 1$, then it's $\\left |-\\right> \\otimes \\left|\\psi\\right>$. This means that if we measure the auxiliary qubit in the x-basis (the basis {$\\left |-\\right>, \\left |+\\right>$}), the auxiliary qubit will become $\\phi_n$. This is exactly what the \"inverse QFT\" in the code below is. It is using a Hadamard gate to convert the state $\\frac{1}{\\sqrt{2}}(\\left|0\\right> + e^{2^{-1}\\times2\\pi i\\phi_n}\\left|1\\right>) \\otimes \\left|\\psi\\right>$ to either $\\left |1\\right> \\otimes \\left|\\psi\\right>$ if $\\phi_n = 1$ (in which case measuring qubit 0 will yield 1), or $\\left |0\\right> \\otimes \\left|\\psi\\right>$ if $\\phi_n = 0$ (in which case measuring qubit 0 will yield 0).\n",
    "\n",
    "Now, back to the original question - why do we need this phase correction? Imagine we apply the T-gate to the main qubit not $2^{n - 1}$ times, but $2^{n - 2}$ times, as we will in the second iteration of the IPEA. Note that in this iteration, our goal will be to find $\\phi_{n-1}$. The state will go from $\\frac{1}{\\sqrt{2}}(\\left|0\\right> + \\left|1\\right>)\\otimes \\left|\\psi\\right>$ to $\\frac{1}{\\sqrt{2}}(\\left|0\\right> + e^{2\\pi i (\\frac{\\phi_{n-1}}{2} + \\frac{\\phi_n}{4})}\\left|1\\right>)\\otimes \\left|\\psi\\right>$. But ideally, we would like the state to be $\\frac{1}{\\sqrt{2}}(\\left|0\\right> + e^{2\\pi i (\\frac{\\phi_{n-1}}{2})}\\left|1\\right>)\\otimes \\left|\\psi\\right>$. That's because if that were the state, all it would take is a simple measurement in the x-basis for the auxiliary qubit to collapse to whatever value $\\phi_{n-1}$ held (as shown above in the case of the first iteration). So, how do we get the state of the circuit into the ideal state? We can just apply the rotation operator $R_z(\\theta)$ with $\\theta = \\frac{-2\\pi\\phi_n}{4}$. You can work out the effect of applying this operator to qubit 0. The state that will result will be $e^{i\\frac{\\pi\\phi_n}{4}}\\frac{1}{\\sqrt{2}}(\\left|0\\right> + e^{2\\pi i \\frac{\\phi_{n-1}}{2}}\\left|1\\right>)$. The overall phase can be ignored, and we have the ideal state. This is why we need the phase correction. To remove these unwanted phases and create the state to which only a measurement in the x-basis is necessary to complete the iteration. Generally speaking, for iteration k, $\\theta = -2\\pi\\times(\\frac{\\phi_{n-k+2}}{4} + \\frac{\\phi_{n-k+3}}{8} + ... + \\frac{\\phi_n}{2^n})$\n",
    "\n",
    "<br>\n",
    "\n",
    "- Finally, the function does this inverse Quantum Fourier Transform (QFT), which is nothing but a measurement in the Hadamard basis as described in previous bullet point. It then returns the circuit ready for execution on a quantum computer."
   ]
  },
  {
   "cell_type": "code",
   "execution_count": 4,
   "id": "459e38f2",
   "metadata": {},
   "outputs": [],
   "source": [
    "def buildControlledT(p, m):\n",
    "\n",
    "    # initialize the circuit\n",
    "    qc = QuantumCircuit(2, 1)\n",
    "\n",
    "    # Hardmard on ancilla, now in |+>\n",
    "    qc.h(0)\n",
    "\n",
    "    # initialize to |1>\n",
    "    qc.x(1)\n",
    "\n",
    "    # applying T gate to qubit 1\n",
    "    for i in range(2**m):\n",
    "        qc.cp(np.pi/4, 0, 1)\n",
    "\n",
    "    # phase correction\n",
    "    qc.rz(p, 0)\n",
    "\n",
    "    # inverse QFT (in other words, just measuring in the x-basis)\n",
    "    qc.h(0)\n",
    "\n",
    "    qc.measure([0],[0])\n",
    "\n",
    "    return qc"
   ]
  },
  {
   "cell_type": "markdown",
   "id": "fa27f21d",
   "metadata": {},
   "source": [
    "The next function, as the name once again suggests, performs the IPEA algorithm. The above function just performed one iteration, and as you can see in the body of this function, there is a `for` loop in which `buildControlledT` is called, which implies that one iteration of this `for` loop represents one iteration of the IPEA. The `for` loop iterates k times (the input of the function). This tells us that the input k of the function signifies the number of iterations in the algorithm. But how many iterations do we want to feed in? Well, as long as $2^n\\phi$ can be expressed in binary, we should be good. Remember that each iteration gives you one of the $\\phi_k$'s (in particular, the k<sup>th</sup> iteration gives you $\\phi_{n-k+1}$). This function does its iterations, and in each iteration, it is basically just creating the circuit with the two qubits, doing what it needs to do (the four bullet points above) to the circuit, running the circuit, recovering the result (the $\\phi_k$ for that iteration), and appending it to the bits list. Once we get the bits, we can use the expression $\\phi = \\frac{\\phi_1}{2} + \\frac{\\phi_2}{4} + \\frac{\\phi_3}{8} + ... + \\frac{\\phi_n}{2^n}$ to find $\\phi$."
   ]
  },
  {
   "cell_type": "code",
   "execution_count": 5,
   "id": "02c5ff6b",
   "metadata": {},
   "outputs": [],
   "source": [
    "def IPEA(k, backend_string):\n",
    "\n",
    "    # get backend\n",
    "    if backend_string == 'qpu':\n",
    "        backend = provider.get_backend('ionq_qpu')\n",
    "    elif backend_string == 'qasm':\n",
    "        backend = Aer.get_backend('qasm_simulator')\n",
    "\n",
    "    # bits\n",
    "    bits = []\n",
    "\n",
    "    # phase correction\n",
    "    phase = 0.0\n",
    "    \n",
    "    # loop over iterations \n",
    "    for i in range(k-1, -1, -1):\n",
    "       \n",
    "        # construct the circuit\n",
    "        qc = buildControlledT(phase, i)\n",
    "         \n",
    "        # run the circuit\n",
    "        job = execute(qc, backend)\n",
    "        \n",
    "        if backend_string == 'qpu':\n",
    "            from qiskit.providers.jobstatus import JobStatus\n",
    "            import time\n",
    "            # Check if job is done\n",
    "            while job.status() is not JobStatus.DONE:\n",
    "                print(\"Job status is\", job.status() )\n",
    "                time.sleep(60)\n",
    "\n",
    "            # grab a coffee! This can take up to a few minutes.\n",
    "            # once we break out of that while loop, we know our job is finished\n",
    "            print(\"Job status is\", job.status() )\n",
    "            print(job.get_counts()) # these counts are the “true” counts from the actual QPU Run\n",
    "        \n",
    "        # get result\n",
    "        result = job.result()\n",
    "\n",
    "        # get current bit\n",
    "        this_bit = int(max(result.get_counts(), key=result.get_counts().get))\n",
    "        print(result.get_counts())\n",
    "\n",
    "        bits.append(this_bit)\n",
    "\n",
    "        # update phase correction\n",
    "        phase /= 2\n",
    "        phase -= (2 * np.pi * this_bit / 4.0)\n",
    "\n",
    "    return bits"
   ]
  },
  {
   "cell_type": "markdown",
   "id": "b0599050",
   "metadata": {},
   "source": [
    "If you have made it this far, then you are doing very well! This algorithm is complicated. Good job! The final function that we will have to define is `eig_from_bits`, which will take in the list of $\\phi_k$'s that the above function will return, and return the eigenvalue associated with $\\left|\\psi\\right>$"
   ]
  },
  {
   "cell_type": "code",
   "execution_count": 6,
   "id": "a74cc15f",
   "metadata": {},
   "outputs": [],
   "source": [
    "def eig_from_bits(bits):\n",
    "    \n",
    "    eig = 0.\n",
    "\n",
    "    m = len(bits)\n",
    "\n",
    "    # loop over all bits\n",
    "    for k in range(len(bits)):\n",
    "        eig += bits[k] / (2**(m-k))\n",
    "\n",
    "    #eig *= 2*np.pi\n",
    "\n",
    "    return eig"
   ]
  },
  {
   "cell_type": "markdown",
   "id": "22161b72",
   "metadata": {},
   "source": [
    "You have now understood the IPEA! Let's actually perform it and see if we can get our $\\frac{1}{8}$"
   ]
  },
  {
   "cell_type": "code",
   "execution_count": 7,
   "id": "1be0fd4f",
   "metadata": {},
   "outputs": [
    {
     "name": "stdout",
     "output_type": "stream",
     "text": [
      "{'0': 1024}\n",
      "{'0': 1024}\n",
      "{'1': 1024}\n",
      "{'0': 1024}\n",
      "{'0': 1024}\n",
      "[0, 0, 1, 0, 0]\n",
      "0.125\n"
     ]
    }
   ],
   "source": [
    "# perform IPEA\n",
    "backend = 'qasm'\n",
    "bits = IPEA(5, backend)\n",
    "print(bits)\n",
    "\n",
    "# re-construct energy\n",
    "eig = eig_from_bits(bits)\n",
    "\n",
    "print(eig)"
   ]
  },
  {
   "cell_type": "markdown",
   "id": "dc98dfa3",
   "metadata": {},
   "source": [
    "It worked! Let's see if we can understand the effect of the choice of input `n` on the result obtained."
   ]
  },
  {
   "cell_type": "code",
   "execution_count": 8,
   "id": "086e6e49",
   "metadata": {},
   "outputs": [
    {
     "name": "stdout",
     "output_type": "stream",
     "text": [
      "{'1': 147, '0': 877}\n",
      "{'1': 521, '0': 503}\n",
      "{'1': 147, '0': 877}\n",
      "{'1': 1024}\n",
      "{'0': 1024}\n",
      "{'0': 1024}\n",
      "{'0': 1024}\n",
      "{'1': 1024}\n",
      "{'0': 1024}\n",
      "{'0': 1024}\n",
      "{'0': 1024}\n",
      "{'0': 1024}\n",
      "{'1': 1024}\n",
      "{'0': 1024}\n",
      "{'0': 1024}\n",
      "{'0': 1024}\n",
      "{'0': 1024}\n",
      "{'0': 1024}\n",
      "{'1': 1024}\n",
      "{'0': 1024}\n",
      "{'0': 1024}\n",
      "{'0': 1024}\n",
      "{'0': 1024}\n",
      "{'0': 1024}\n",
      "{'0': 1024}\n",
      "{'1': 1024}\n",
      "{'0': 1024}\n",
      "{'0': 1024}\n"
     ]
    },
    {
     "data": {
      "text/plain": [
       "Text(0.5, 1.0, '$\\\\phi$ vs. n')"
      ]
     },
     "execution_count": 8,
     "metadata": {},
     "output_type": "execute_result"
    },
    {
     "data": {
      "image/png": "[encoded data removed]",
      "text/plain": [
       "<Figure size 432x288 with 1 Axes>"
      ]
     },
     "metadata": {
      "needs_background": "light"
     },
     "output_type": "display_data"
    }
   ],
   "source": [
    "#perform IPEA with different values of n\n",
    "n_values = []\n",
    "eig_values = []\n",
    "for i in range(1, 8):\n",
    "    n_values.append(i)\n",
    "    # perform IPEA\n",
    "    backend = 'qasm'\n",
    "    bits = IPEA(i, backend)\n",
    "\n",
    "    # re-construct energy\n",
    "    eig = eig_from_bits(bits)\n",
    "    eig_values.append(eig)\n",
    "\n",
    "n_values, eig_values = np.array(n_values), np.array(eig_values)\n",
    "plt.plot(n_values, eig_values)\n",
    "plt.xlabel('n (bits)', fontsize=15)\n",
    "plt.ylabel(r'$\\phi$', fontsize=15)\n",
    "plt.title(r'$\\phi$ vs. n', fontsize=15)"
   ]
  },
  {
   "cell_type": "markdown",
   "id": "1dfbc922",
   "metadata": {},
   "source": [
    "### Now, let's try the same thing on actual IonQ hardware"
   ]
  },
  {
   "cell_type": "code",
   "execution_count": 9,
   "id": "264cfafd",
   "metadata": {},
   "outputs": [
    {
     "name": "stderr",
     "output_type": "stream",
     "text": [
      "/Users/abhay/opt/anaconda3/lib/python3.8/site-packages/qiskit/execute_function.py:343: UserWarning: Option parameter_binds is not used by this backend\n",
      "  job = backend.run(experiments, **run_kwargs)\n",
      "/Users/abhay/opt/anaconda3/lib/python3.8/site-packages/urllib3/connection.py:379: SystemTimeWarning: System time is way off (before 2020-07-01). This will probably lead to SSL verification errors\n",
      "  warnings.warn(\n",
      "/Users/abhay/opt/anaconda3/lib/python3.8/site-packages/urllib3/connection.py:379: SystemTimeWarning: System time is way off (before 2020-07-01). This will probably lead to SSL verification errors\n",
      "  warnings.warn(\n"
     ]
    },
    {
     "ename": "KeyboardInterrupt",
     "evalue": "",
     "output_type": "error",
     "traceback": [
      "\u001b[0;31m---------------------------------------------------------------------------\u001b[0m",
      "\u001b[0;31mKeyboardInterrupt\u001b[0m                         Traceback (most recent call last)",
      "\u001b[0;32m<ipython-input-9-4d5f1dbaef51>\u001b[0m in \u001b[0;36m<module>\u001b[0;34m\u001b[0m\n\u001b[1;32m      1\u001b[0m \u001b[0;31m# perform IPEA\u001b[0m\u001b[0;34m\u001b[0m\u001b[0;34m\u001b[0m\u001b[0;34m\u001b[0m\u001b[0m\n\u001b[1;32m      2\u001b[0m \u001b[0mbackend\u001b[0m \u001b[0;34m=\u001b[0m \u001b[0;34m'qpu'\u001b[0m\u001b[0;34m\u001b[0m\u001b[0;34m\u001b[0m\u001b[0m\n\u001b[0;32m----> 3\u001b[0;31m \u001b[0mbits\u001b[0m \u001b[0;34m=\u001b[0m \u001b[0mIPEA\u001b[0m\u001b[0;34m(\u001b[0m\u001b[0;36m5\u001b[0m\u001b[0;34m,\u001b[0m \u001b[0mbackend\u001b[0m\u001b[0;34m)\u001b[0m\u001b[0;34m\u001b[0m\u001b[0;34m\u001b[0m\u001b[0m\n\u001b[0m\u001b[1;32m      4\u001b[0m \u001b[0mprint\u001b[0m\u001b[0;34m(\u001b[0m\u001b[0mbits\u001b[0m\u001b[0;34m)\u001b[0m\u001b[0;34m\u001b[0m\u001b[0;34m\u001b[0m\u001b[0m\n\u001b[1;32m      5\u001b[0m \u001b[0;34m\u001b[0m\u001b[0m\n",
      "\u001b[0;32m<ipython-input-5-5a5ab3f6475c>\u001b[0m in \u001b[0;36mIPEA\u001b[0;34m(k, backend_string)\u001b[0m\n\u001b[1;32m     27\u001b[0m             \u001b[0;31m# Check if job is done\u001b[0m\u001b[0;34m\u001b[0m\u001b[0;34m\u001b[0m\u001b[0;34m\u001b[0m\u001b[0m\n\u001b[1;32m     28\u001b[0m             \u001b[0;32mwhile\u001b[0m \u001b[0mjob\u001b[0m\u001b[0;34m.\u001b[0m\u001b[0mstatus\u001b[0m\u001b[0;34m(\u001b[0m\u001b[0;34m)\u001b[0m \u001b[0;32mis\u001b[0m \u001b[0;32mnot\u001b[0m \u001b[0mJobStatus\u001b[0m\u001b[0;34m.\u001b[0m\u001b[0mDONE\u001b[0m\u001b[0;34m:\u001b[0m\u001b[0;34m\u001b[0m\u001b[0;34m\u001b[0m\u001b[0m\n\u001b[0;32m---> 29\u001b[0;31m                 \u001b[0mprint\u001b[0m\u001b[0;34m(\u001b[0m\u001b[0;34m\"Job status is\"\u001b[0m\u001b[0;34m,\u001b[0m \u001b[0mjob\u001b[0m\u001b[0;34m.\u001b[0m\u001b[0mstatus\u001b[0m\u001b[0;34m(\u001b[0m\u001b[0;34m)\u001b[0m \u001b[0;34m)\u001b[0m\u001b[0;34m\u001b[0m\u001b[0;34m\u001b[0m\u001b[0m\n\u001b[0m\u001b[1;32m     30\u001b[0m                 \u001b[0mtime\u001b[0m\u001b[0;34m.\u001b[0m\u001b[0msleep\u001b[0m\u001b[0;34m(\u001b[0m\u001b[0;36m60\u001b[0m\u001b[0;34m)\u001b[0m\u001b[0;34m\u001b[0m\u001b[0;34m\u001b[0m\u001b[0m\n\u001b[1;32m     31\u001b[0m \u001b[0;34m\u001b[0m\u001b[0m\n",
      "\u001b[0;32m~/opt/anaconda3/lib/python3.8/site-packages/qiskit_ionq/ionq_job.py\u001b[0m in \u001b[0;36mstatus\u001b[0;34m(self)\u001b[0m\n\u001b[1;32m    275\u001b[0m \u001b[0;34m\u001b[0m\u001b[0m\n\u001b[1;32m    276\u001b[0m         \u001b[0;31m# Otherwise, look up a status enum from the response.\u001b[0m\u001b[0;34m\u001b[0m\u001b[0;34m\u001b[0m\u001b[0;34m\u001b[0m\u001b[0m\n\u001b[0;32m--> 277\u001b[0;31m         \u001b[0mresponse\u001b[0m \u001b[0;34m=\u001b[0m \u001b[0mself\u001b[0m\u001b[0;34m.\u001b[0m\u001b[0m_client\u001b[0m\u001b[0;34m.\u001b[0m\u001b[0mretrieve_job\u001b[0m\u001b[0;34m(\u001b[0m\u001b[0mself\u001b[0m\u001b[0;34m.\u001b[0m\u001b[0m_job_id\u001b[0m\u001b[0;34m)\u001b[0m\u001b[0;34m\u001b[0m\u001b[0;34m\u001b[0m\u001b[0m\n\u001b[0m\u001b[1;32m    278\u001b[0m         \u001b[0mapi_response_status\u001b[0m \u001b[0;34m=\u001b[0m \u001b[0mresponse\u001b[0m\u001b[0;34m[\u001b[0m\u001b[0;34m\"status\"\u001b[0m\u001b[0;34m]\u001b[0m\u001b[0;34m\u001b[0m\u001b[0;34m\u001b[0m\u001b[0m\n\u001b[1;32m    279\u001b[0m         \u001b[0;32mtry\u001b[0m\u001b[0;34m:\u001b[0m\u001b[0;34m\u001b[0m\u001b[0;34m\u001b[0m\u001b[0m\n",
      "\u001b[0;32m~/opt/anaconda3/lib/python3.8/site-packages/qiskit_ionq/ionq_client.py\u001b[0m in \u001b[0;36mretrieve_job\u001b[0;34m(self, job_id)\u001b[0m\n\u001b[1;32m    105\u001b[0m \u001b[0;34m\u001b[0m\u001b[0m\n\u001b[1;32m    106\u001b[0m         \u001b[0mreq_path\u001b[0m \u001b[0;34m=\u001b[0m \u001b[0mself\u001b[0m\u001b[0;34m.\u001b[0m\u001b[0mmake_path\u001b[0m\u001b[0;34m(\u001b[0m\u001b[0;34m\"jobs\"\u001b[0m\u001b[0;34m,\u001b[0m \u001b[0mjob_id\u001b[0m\u001b[0;34m)\u001b[0m\u001b[0;34m\u001b[0m\u001b[0;34m\u001b[0m\u001b[0m\n\u001b[0;32m--> 107\u001b[0;31m         \u001b[0mres\u001b[0m \u001b[0;34m=\u001b[0m \u001b[0mrequests\u001b[0m\u001b[0;34m.\u001b[0m\u001b[0mget\u001b[0m\u001b[0;34m(\u001b[0m\u001b[0mreq_path\u001b[0m\u001b[0;34m,\u001b[0m \u001b[0mheaders\u001b[0m\u001b[0;34m=\u001b[0m\u001b[0mself\u001b[0m\u001b[0;34m.\u001b[0m\u001b[0mapi_headers\u001b[0m\u001b[0;34m)\u001b[0m\u001b[0;34m\u001b[0m\u001b[0;34m\u001b[0m\u001b[0m\n\u001b[0m\u001b[1;32m    108\u001b[0m         \u001b[0;32mif\u001b[0m \u001b[0mres\u001b[0m\u001b[0;34m.\u001b[0m\u001b[0mstatus_code\u001b[0m \u001b[0;34m!=\u001b[0m \u001b[0;36m200\u001b[0m\u001b[0;34m:\u001b[0m\u001b[0;34m\u001b[0m\u001b[0;34m\u001b[0m\u001b[0m\n\u001b[1;32m    109\u001b[0m             \u001b[0;32mraise\u001b[0m \u001b[0mexceptions\u001b[0m\u001b[0;34m.\u001b[0m\u001b[0mIonQAPIError\u001b[0m\u001b[0;34m.\u001b[0m\u001b[0mfrom_response\u001b[0m\u001b[0;34m(\u001b[0m\u001b[0mres\u001b[0m\u001b[0;34m)\u001b[0m\u001b[0;34m\u001b[0m\u001b[0;34m\u001b[0m\u001b[0m\n",
      "\u001b[0;32m~/opt/anaconda3/lib/python3.8/site-packages/requests/api.py\u001b[0m in \u001b[0;36mget\u001b[0;34m(url, params, **kwargs)\u001b[0m\n\u001b[1;32m     74\u001b[0m \u001b[0;34m\u001b[0m\u001b[0m\n\u001b[1;32m     75\u001b[0m     \u001b[0mkwargs\u001b[0m\u001b[0;34m.\u001b[0m\u001b[0msetdefault\u001b[0m\u001b[0;34m(\u001b[0m\u001b[0;34m'allow_redirects'\u001b[0m\u001b[0;34m,\u001b[0m \u001b[0;32mTrue\u001b[0m\u001b[0;34m)\u001b[0m\u001b[0;34m\u001b[0m\u001b[0;34m\u001b[0m\u001b[0m\n\u001b[0;32m---> 76\u001b[0;31m     \u001b[0;32mreturn\u001b[0m \u001b[0mrequest\u001b[0m\u001b[0;34m(\u001b[0m\u001b[0;34m'get'\u001b[0m\u001b[0;34m,\u001b[0m \u001b[0murl\u001b[0m\u001b[0;34m,\u001b[0m \u001b[0mparams\u001b[0m\u001b[0;34m=\u001b[0m\u001b[0mparams\u001b[0m\u001b[0;34m,\u001b[0m \u001b[0;34m**\u001b[0m\u001b[0mkwargs\u001b[0m\u001b[0;34m)\u001b[0m\u001b[0;34m\u001b[0m\u001b[0;34m\u001b[0m\u001b[0m\n\u001b[0m\u001b[1;32m     77\u001b[0m \u001b[0;34m\u001b[0m\u001b[0m\n\u001b[1;32m     78\u001b[0m \u001b[0;34m\u001b[0m\u001b[0m\n",
      "\u001b[0;32m~/opt/anaconda3/lib/python3.8/site-packages/requests/api.py\u001b[0m in \u001b[0;36mrequest\u001b[0;34m(method, url, **kwargs)\u001b[0m\n\u001b[1;32m     59\u001b[0m     \u001b[0;31m# cases, and look like a memory leak in others.\u001b[0m\u001b[0;34m\u001b[0m\u001b[0;34m\u001b[0m\u001b[0;34m\u001b[0m\u001b[0m\n\u001b[1;32m     60\u001b[0m     \u001b[0;32mwith\u001b[0m \u001b[0msessions\u001b[0m\u001b[0;34m.\u001b[0m\u001b[0mSession\u001b[0m\u001b[0;34m(\u001b[0m\u001b[0;34m)\u001b[0m \u001b[0;32mas\u001b[0m \u001b[0msession\u001b[0m\u001b[0;34m:\u001b[0m\u001b[0;34m\u001b[0m\u001b[0;34m\u001b[0m\u001b[0m\n\u001b[0;32m---> 61\u001b[0;31m         \u001b[0;32mreturn\u001b[0m \u001b[0msession\u001b[0m\u001b[0;34m.\u001b[0m\u001b[0mrequest\u001b[0m\u001b[0;34m(\u001b[0m\u001b[0mmethod\u001b[0m\u001b[0;34m=\u001b[0m\u001b[0mmethod\u001b[0m\u001b[0;34m,\u001b[0m \u001b[0murl\u001b[0m\u001b[0;34m=\u001b[0m\u001b[0murl\u001b[0m\u001b[0;34m,\u001b[0m \u001b[0;34m**\u001b[0m\u001b[0mkwargs\u001b[0m\u001b[0;34m)\u001b[0m\u001b[0;34m\u001b[0m\u001b[0;34m\u001b[0m\u001b[0m\n\u001b[0m\u001b[1;32m     62\u001b[0m \u001b[0;34m\u001b[0m\u001b[0m\n\u001b[1;32m     63\u001b[0m \u001b[0;34m\u001b[0m\u001b[0m\n",
      "\u001b[0;32m~/opt/anaconda3/lib/python3.8/site-packages/requests/sessions.py\u001b[0m in \u001b[0;36mrequest\u001b[0;34m(self, method, url, params, data, headers, cookies, files, auth, timeout, allow_redirects, proxies, hooks, stream, verify, cert, json)\u001b[0m\n\u001b[1;32m    540\u001b[0m         }\n\u001b[1;32m    541\u001b[0m         \u001b[0msend_kwargs\u001b[0m\u001b[0;34m.\u001b[0m\u001b[0mupdate\u001b[0m\u001b[0;34m(\u001b[0m\u001b[0msettings\u001b[0m\u001b[0;34m)\u001b[0m\u001b[0;34m\u001b[0m\u001b[0;34m\u001b[0m\u001b[0m\n\u001b[0;32m--> 542\u001b[0;31m         \u001b[0mresp\u001b[0m \u001b[0;34m=\u001b[0m \u001b[0mself\u001b[0m\u001b[0;34m.\u001b[0m\u001b[0msend\u001b[0m\u001b[0;34m(\u001b[0m\u001b[0mprep\u001b[0m\u001b[0;34m,\u001b[0m \u001b[0;34m**\u001b[0m\u001b[0msend_kwargs\u001b[0m\u001b[0;34m)\u001b[0m\u001b[0;34m\u001b[0m\u001b[0;34m\u001b[0m\u001b[0m\n\u001b[0m\u001b[1;32m    543\u001b[0m \u001b[0;34m\u001b[0m\u001b[0m\n\u001b[1;32m    544\u001b[0m         \u001b[0;32mreturn\u001b[0m \u001b[0mresp\u001b[0m\u001b[0;34m\u001b[0m\u001b[0;34m\u001b[0m\u001b[0m\n",
      "\u001b[0;32m~/opt/anaconda3/lib/python3.8/site-packages/requests/sessions.py\u001b[0m in \u001b[0;36msend\u001b[0;34m(self, request, **kwargs)\u001b[0m\n\u001b[1;32m    653\u001b[0m \u001b[0;34m\u001b[0m\u001b[0m\n\u001b[1;32m    654\u001b[0m         \u001b[0;31m# Send the request\u001b[0m\u001b[0;34m\u001b[0m\u001b[0;34m\u001b[0m\u001b[0;34m\u001b[0m\u001b[0m\n\u001b[0;32m--> 655\u001b[0;31m         \u001b[0mr\u001b[0m \u001b[0;34m=\u001b[0m \u001b[0madapter\u001b[0m\u001b[0;34m.\u001b[0m\u001b[0msend\u001b[0m\u001b[0;34m(\u001b[0m\u001b[0mrequest\u001b[0m\u001b[0;34m,\u001b[0m \u001b[0;34m**\u001b[0m\u001b[0mkwargs\u001b[0m\u001b[0;34m)\u001b[0m\u001b[0;34m\u001b[0m\u001b[0;34m\u001b[0m\u001b[0m\n\u001b[0m\u001b[1;32m    656\u001b[0m \u001b[0;34m\u001b[0m\u001b[0m\n\u001b[1;32m    657\u001b[0m         \u001b[0;31m# Total elapsed time of the request (approximately)\u001b[0m\u001b[0;34m\u001b[0m\u001b[0;34m\u001b[0m\u001b[0;34m\u001b[0m\u001b[0m\n",
      "\u001b[0;32m~/opt/anaconda3/lib/python3.8/site-packages/requests/adapters.py\u001b[0m in \u001b[0;36msend\u001b[0;34m(self, request, stream, timeout, verify, cert, proxies)\u001b[0m\n\u001b[1;32m    437\u001b[0m         \u001b[0;32mtry\u001b[0m\u001b[0;34m:\u001b[0m\u001b[0;34m\u001b[0m\u001b[0;34m\u001b[0m\u001b[0m\n\u001b[1;32m    438\u001b[0m             \u001b[0;32mif\u001b[0m \u001b[0;32mnot\u001b[0m \u001b[0mchunked\u001b[0m\u001b[0;34m:\u001b[0m\u001b[0;34m\u001b[0m\u001b[0;34m\u001b[0m\u001b[0m\n\u001b[0;32m--> 439\u001b[0;31m                 resp = conn.urlopen(\n\u001b[0m\u001b[1;32m    440\u001b[0m                     \u001b[0mmethod\u001b[0m\u001b[0;34m=\u001b[0m\u001b[0mrequest\u001b[0m\u001b[0;34m.\u001b[0m\u001b[0mmethod\u001b[0m\u001b[0;34m,\u001b[0m\u001b[0;34m\u001b[0m\u001b[0;34m\u001b[0m\u001b[0m\n\u001b[1;32m    441\u001b[0m                     \u001b[0murl\u001b[0m\u001b[0;34m=\u001b[0m\u001b[0murl\u001b[0m\u001b[0;34m,\u001b[0m\u001b[0;34m\u001b[0m\u001b[0;34m\u001b[0m\u001b[0m\n",
      "\u001b[0;32m~/opt/anaconda3/lib/python3.8/site-packages/urllib3/connectionpool.py\u001b[0m in \u001b[0;36murlopen\u001b[0;34m(self, method, url, body, headers, retries, redirect, assert_same_host, timeout, pool_timeout, release_conn, chunked, body_pos, **response_kw)\u001b[0m\n\u001b[1;32m    697\u001b[0m \u001b[0;34m\u001b[0m\u001b[0m\n\u001b[1;32m    698\u001b[0m             \u001b[0;31m# Make the request on the httplib connection object.\u001b[0m\u001b[0;34m\u001b[0m\u001b[0;34m\u001b[0m\u001b[0;34m\u001b[0m\u001b[0m\n\u001b[0;32m--> 699\u001b[0;31m             httplib_response = self._make_request(\n\u001b[0m\u001b[1;32m    700\u001b[0m                 \u001b[0mconn\u001b[0m\u001b[0;34m,\u001b[0m\u001b[0;34m\u001b[0m\u001b[0;34m\u001b[0m\u001b[0m\n\u001b[1;32m    701\u001b[0m                 \u001b[0mmethod\u001b[0m\u001b[0;34m,\u001b[0m\u001b[0;34m\u001b[0m\u001b[0;34m\u001b[0m\u001b[0m\n",
      "\u001b[0;32m~/opt/anaconda3/lib/python3.8/site-packages/urllib3/connectionpool.py\u001b[0m in \u001b[0;36m_make_request\u001b[0;34m(self, conn, method, url, timeout, chunked, **httplib_request_kw)\u001b[0m\n\u001b[1;32m    380\u001b[0m         \u001b[0;31m# Trigger any extra validation we need to do.\u001b[0m\u001b[0;34m\u001b[0m\u001b[0;34m\u001b[0m\u001b[0;34m\u001b[0m\u001b[0m\n\u001b[1;32m    381\u001b[0m         \u001b[0;32mtry\u001b[0m\u001b[0;34m:\u001b[0m\u001b[0;34m\u001b[0m\u001b[0;34m\u001b[0m\u001b[0m\n\u001b[0;32m--> 382\u001b[0;31m             \u001b[0mself\u001b[0m\u001b[0;34m.\u001b[0m\u001b[0m_validate_conn\u001b[0m\u001b[0;34m(\u001b[0m\u001b[0mconn\u001b[0m\u001b[0;34m)\u001b[0m\u001b[0;34m\u001b[0m\u001b[0;34m\u001b[0m\u001b[0m\n\u001b[0m\u001b[1;32m    383\u001b[0m         \u001b[0;32mexcept\u001b[0m \u001b[0;34m(\u001b[0m\u001b[0mSocketTimeout\u001b[0m\u001b[0;34m,\u001b[0m \u001b[0mBaseSSLError\u001b[0m\u001b[0;34m)\u001b[0m \u001b[0;32mas\u001b[0m \u001b[0me\u001b[0m\u001b[0;34m:\u001b[0m\u001b[0;34m\u001b[0m\u001b[0;34m\u001b[0m\u001b[0m\n\u001b[1;32m    384\u001b[0m             \u001b[0;31m# Py2 raises this as a BaseSSLError, Py3 raises it as socket timeout.\u001b[0m\u001b[0;34m\u001b[0m\u001b[0;34m\u001b[0m\u001b[0;34m\u001b[0m\u001b[0m\n",
      "\u001b[0;32m~/opt/anaconda3/lib/python3.8/site-packages/urllib3/connectionpool.py\u001b[0m in \u001b[0;36m_validate_conn\u001b[0;34m(self, conn)\u001b[0m\n\u001b[1;32m   1008\u001b[0m         \u001b[0;31m# Force connect early to allow us to validate the connection.\u001b[0m\u001b[0;34m\u001b[0m\u001b[0;34m\u001b[0m\u001b[0;34m\u001b[0m\u001b[0m\n\u001b[1;32m   1009\u001b[0m         \u001b[0;32mif\u001b[0m \u001b[0;32mnot\u001b[0m \u001b[0mgetattr\u001b[0m\u001b[0;34m(\u001b[0m\u001b[0mconn\u001b[0m\u001b[0;34m,\u001b[0m \u001b[0;34m\"sock\"\u001b[0m\u001b[0;34m,\u001b[0m \u001b[0;32mNone\u001b[0m\u001b[0;34m)\u001b[0m\u001b[0;34m:\u001b[0m  \u001b[0;31m# AppEngine might not have  `.sock`\u001b[0m\u001b[0;34m\u001b[0m\u001b[0;34m\u001b[0m\u001b[0m\n\u001b[0;32m-> 1010\u001b[0;31m             \u001b[0mconn\u001b[0m\u001b[0;34m.\u001b[0m\u001b[0mconnect\u001b[0m\u001b[0;34m(\u001b[0m\u001b[0;34m)\u001b[0m\u001b[0;34m\u001b[0m\u001b[0;34m\u001b[0m\u001b[0m\n\u001b[0m\u001b[1;32m   1011\u001b[0m \u001b[0;34m\u001b[0m\u001b[0m\n\u001b[1;32m   1012\u001b[0m         \u001b[0;32mif\u001b[0m \u001b[0;32mnot\u001b[0m \u001b[0mconn\u001b[0m\u001b[0;34m.\u001b[0m\u001b[0mis_verified\u001b[0m\u001b[0;34m:\u001b[0m\u001b[0;34m\u001b[0m\u001b[0;34m\u001b[0m\u001b[0m\n",
      "\u001b[0;32m~/opt/anaconda3/lib/python3.8/site-packages/urllib3/connection.py\u001b[0m in \u001b[0;36mconnect\u001b[0;34m(self)\u001b[0m\n\u001b[1;32m    351\u001b[0m     \u001b[0;32mdef\u001b[0m \u001b[0mconnect\u001b[0m\u001b[0;34m(\u001b[0m\u001b[0mself\u001b[0m\u001b[0;34m)\u001b[0m\u001b[0;34m:\u001b[0m\u001b[0;34m\u001b[0m\u001b[0;34m\u001b[0m\u001b[0m\n\u001b[1;32m    352\u001b[0m         \u001b[0;31m# Add certificate verification\u001b[0m\u001b[0;34m\u001b[0m\u001b[0;34m\u001b[0m\u001b[0;34m\u001b[0m\u001b[0m\n\u001b[0;32m--> 353\u001b[0;31m         \u001b[0mconn\u001b[0m \u001b[0;34m=\u001b[0m \u001b[0mself\u001b[0m\u001b[0;34m.\u001b[0m\u001b[0m_new_conn\u001b[0m\u001b[0;34m(\u001b[0m\u001b[0;34m)\u001b[0m\u001b[0;34m\u001b[0m\u001b[0;34m\u001b[0m\u001b[0m\n\u001b[0m\u001b[1;32m    354\u001b[0m         \u001b[0mhostname\u001b[0m \u001b[0;34m=\u001b[0m \u001b[0mself\u001b[0m\u001b[0;34m.\u001b[0m\u001b[0mhost\u001b[0m\u001b[0;34m\u001b[0m\u001b[0;34m\u001b[0m\u001b[0m\n\u001b[1;32m    355\u001b[0m         \u001b[0mtls_in_tls\u001b[0m \u001b[0;34m=\u001b[0m \u001b[0;32mFalse\u001b[0m\u001b[0;34m\u001b[0m\u001b[0;34m\u001b[0m\u001b[0m\n",
      "\u001b[0;32m~/opt/anaconda3/lib/python3.8/site-packages/urllib3/connection.py\u001b[0m in \u001b[0;36m_new_conn\u001b[0;34m(self)\u001b[0m\n\u001b[1;32m    167\u001b[0m \u001b[0;34m\u001b[0m\u001b[0m\n\u001b[1;32m    168\u001b[0m         \u001b[0;32mtry\u001b[0m\u001b[0;34m:\u001b[0m\u001b[0;34m\u001b[0m\u001b[0;34m\u001b[0m\u001b[0m\n\u001b[0;32m--> 169\u001b[0;31m             conn = connection.create_connection(\n\u001b[0m\u001b[1;32m    170\u001b[0m                 \u001b[0;34m(\u001b[0m\u001b[0mself\u001b[0m\u001b[0;34m.\u001b[0m\u001b[0m_dns_host\u001b[0m\u001b[0;34m,\u001b[0m \u001b[0mself\u001b[0m\u001b[0;34m.\u001b[0m\u001b[0mport\u001b[0m\u001b[0;34m)\u001b[0m\u001b[0;34m,\u001b[0m \u001b[0mself\u001b[0m\u001b[0;34m.\u001b[0m\u001b[0mtimeout\u001b[0m\u001b[0;34m,\u001b[0m \u001b[0;34m**\u001b[0m\u001b[0mextra_kw\u001b[0m\u001b[0;34m\u001b[0m\u001b[0;34m\u001b[0m\u001b[0m\n\u001b[1;32m    171\u001b[0m             )\n",
      "\u001b[0;32m~/opt/anaconda3/lib/python3.8/site-packages/urllib3/util/connection.py\u001b[0m in \u001b[0;36mcreate_connection\u001b[0;34m(address, timeout, source_address, socket_options)\u001b[0m\n\u001b[1;32m     84\u001b[0m             \u001b[0;32mif\u001b[0m \u001b[0msource_address\u001b[0m\u001b[0;34m:\u001b[0m\u001b[0;34m\u001b[0m\u001b[0;34m\u001b[0m\u001b[0m\n\u001b[1;32m     85\u001b[0m                 \u001b[0msock\u001b[0m\u001b[0;34m.\u001b[0m\u001b[0mbind\u001b[0m\u001b[0;34m(\u001b[0m\u001b[0msource_address\u001b[0m\u001b[0;34m)\u001b[0m\u001b[0;34m\u001b[0m\u001b[0;34m\u001b[0m\u001b[0m\n\u001b[0;32m---> 86\u001b[0;31m             \u001b[0msock\u001b[0m\u001b[0;34m.\u001b[0m\u001b[0mconnect\u001b[0m\u001b[0;34m(\u001b[0m\u001b[0msa\u001b[0m\u001b[0;34m)\u001b[0m\u001b[0;34m\u001b[0m\u001b[0;34m\u001b[0m\u001b[0m\n\u001b[0m\u001b[1;32m     87\u001b[0m             \u001b[0;32mreturn\u001b[0m \u001b[0msock\u001b[0m\u001b[0;34m\u001b[0m\u001b[0;34m\u001b[0m\u001b[0m\n\u001b[1;32m     88\u001b[0m \u001b[0;34m\u001b[0m\u001b[0m\n",
      "\u001b[0;31mKeyboardInterrupt\u001b[0m: "
     ]
    }
   ],
   "source": [
    "# perform IPEA\n",
    "backend = 'qpu'\n",
    "bits = IPEA(5, backend)\n",
    "print(bits)\n",
    "\n",
    "# re-construct energy\n",
    "eig = eig_from_bits(bits)\n",
    "\n",
    "print(eig)"
   ]
  },
  {
   "cell_type": "code",
   "execution_count": null,
   "id": "245890ba",
   "metadata": {},
   "outputs": [],
   "source": [
    "#perform IPEA with different values of n\n",
    "n_values = []\n",
    "eig_values = []\n",
    "for i in range(1, 8):\n",
    "    n_values.append(i)\n",
    "    # perform IPEA\n",
    "    backend = 'qpu'\n",
    "    bits = IPEA(i, backend)\n",
    "\n",
    "    # re-construct energy\n",
    "    eig = eig_from_bits(bits)\n",
    "    eig_values.append(eig)\n",
    "\n",
    "n_values, eig_values = np.array(n_values), np.array(eig_values)\n",
    "plt.plot(n_values, eig_values)\n",
    "plt.xlabel('n (bits)', fontsize=15)\n",
    "plt.ylabel(r'$\\phi$', fontsize=15)\n",
    "plt.title(r'$\\phi$ vs. n', fontsize=15)"
   ]
  },
  {
   "cell_type": "markdown",
   "id": "2ad6bf65",
   "metadata": {},
   "source": [
    "### I hope you enjoyed going through this notebook!"
   ]
  }
 ],
 "metadata": {
  "kernelspec": {
   "display_name": "Python 3",
   "language": "python",
   "name": "python3"
  },
  "language_info": {
   "codemirror_mode": {
    "name": "ipython",
    "version": 3
   },
   "file_extension": ".py",
   "mimetype": "text/x-python",
   "name": "python",
   "nbconvert_exporter": "python",
   "pygments_lexer": "ipython3",
   "version": "3.8.8"
  }
 },
 "nbformat": 4,
 "nbformat_minor": 5
}
