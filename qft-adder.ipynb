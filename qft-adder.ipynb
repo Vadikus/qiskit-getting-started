{
 "cells": [
  {
   "cell_type": "markdown",
   "metadata": {},
   "source": [
    "# Implementing an QFT Adder on a quantum computer"
   ]
  },
  {
   "cell_type": "markdown",
   "metadata": {},
   "source": [
    "This is an example of QFT-based Adder. \n",
    "\n",
    "For two quantum states holding an integer $a$ and $b$, the goal is to develop an add algorithm that does\n",
    "\n",
    "$Add\\left|a\\right>\\left|b\\right>=\\left|a\\right>\\left|a+b\\right>$\n",
    "\n",
    "Recall that the quantum Fourier transform is defined as\n",
    "$QFT\\left|a\\right>=\\frac{1}{2^n}\\sum_{j=0}^{2^n-1}{e^{2\\pi ija/2^n}\\left|j\\right>}$\n",
    "\n",
    "Define\n",
    "$\\left|\\phi_k(a)\\right>=\\frac{1}{\\sqrt 2}\\left(\\left|0\\right>+e^{2\\pi ia/2^k}\\left|1\\right>\\right)$\n",
    "\n",
    "QFT could be written as\n",
    "$QFT\\left|a\\right>=\\left|\\phi_1(a)\\right>\\otimes\\left|\\phi_2(a)\\right>\\otimes...\\otimes\\left|\\phi_n(a)\\right>$\n",
    "\n",
    "$a+b$ could be obtained by \n",
    "$\\left|a+b\\right>=QFT^{-1}\\left|\\phi_1(a+b)\\right>\\otimes...\\otimes\\left|\\phi_n(a+b)\\right>$\n",
    "\n",
    "Now the question is, how do we obtain $\\left|\\phi_k(a+b)\\right>$ given $\\left|\\phi_k(b)\\right>$? \n",
    "\n",
    "$\\left|\\phi_k(a+b)\\right>=\\frac{1}{\\sqrt 2}\\left(\\left|0\\right>+e^{2\\pi i(a+b)/2^k}\\left|1\\right>\\right)$\n",
    "\n",
    "Suppose $a = a_1\\cdot 2^{m-1}+a_2\\cdot 2^{m-2}+...+a_{m}\\cdot 2^0$, \n",
    "and $b = b_1\\cdot 2^{n-1}+b_2\\cdot 2^{n-2}+...+b_{n}\\cdot 2^0$\n",
    "\n",
    "Then $\\left|\\phi_k(a+b)\\right>=\\frac{1}{\\sqrt 2}\\left(\\left|0\\right>+e^{2\\pi ia/2^k}e^{2\\pi ib/2^k}\\left|1\\right>\\right)$\n",
    "\n",
    "Let's now compute $\\mathrm{exp}(2\\pi ia/2^k)=\\mathrm{exp}\\left(2\\pi i\\left(a_1\\cdot 2^{m-1-k}+a_2\\cdot 2^{m-2-k}+...+a_m\\cdot 2^{-k}\\right)\\right)=\\mathrm{exp}\\left(2\\pi i\\left(a_{m-k+1}/2+a_{m-k+2}/2^2+...+a_m/2^{k}\\right)\\right)=\\mathrm{exp}\\left(2\\pi i0.a_{m-k+1}a_{m-k+2}...a_m\\right)$\n",
    "\n",
    "This phase could be encoded by series of controlled-phase rotation targeted at the $k$th qubit in $b$ and controlled by the $(m-k+1)$th, $(m-k+2)$th, ..., $m$th qubit in $a$. \n",
    "\n",
    "Overall, the QFT Adder works as the following:\n",
    "\n",
    "1. Initialize two registers to $a$ and $b$. \n",
    "2. Perform QFT on $b$. \n",
    "3. Perform controlled phase rotations on $b$ controlled by $a$. \n",
    "4. Perform inverse QFT on $b$. \n",
    "5. Measure $a$ and $b$. Now $b$ should become $a+b$, and $a$ should stay the same. "
   ]
  },
  {
   "cell_type": "markdown",
   "metadata": {},
   "source": [
    "## Setup\n",
    "\n",
    "First, make sure that you have the latest version of Qiskit installed. To upgrade your Qiskit package, run the following command:\n",
    "\n",
    "```bash\n",
    "pip install --upgrade qiskit\n",
    "```\n",
    "\n",
    "Get an API key from IonQ. This will be used by the IonQ provider inside Qiskit to submit circuits to the IonQ platform.\n",
    "\n",
    "After securing an API key, install the python package `qiskit_ionq` using `pip`:\n",
    "\n",
    "```bash\n",
    "pip install qiskit_ionq\n",
    "```\n",
    "\n",
    "(IonQ's adapter for Qiskit is currently in private beta -- your feedback is welcomed!)\n",
    "\n",
    "### (Optional) Extra Dependencies\n",
    "\n",
    "Some examples use additional Python dependencies; please make sure to `pip install` them as needed.\n",
    "\n",
    "Dependencies:\n",
    "* `matplotlib`: To run `qiskit.visualization.plot_histogram`.\n",
    "\n",
    "**NOTE**: The provider expects an API key to be supplied via the `token` keyword argument to its constructor. If no token is directly provided, the provider will check for one in the `QISKIT_IONQ_API_TOKEN` environment variable.\n",
    "\n",
    "Now that the Python package has been installed, you can import and instantiate the provider:"
   ]
  },
  {
   "cell_type": "code",
   "execution_count": 47,
   "metadata": {},
   "outputs": [],
   "source": [
    "# import qiskit\n",
    "from qiskit import QuantumCircuit, QuantumRegister, ClassicalRegister\n",
    "from qiskit import Aer, execute\n",
    "from qiskit.circuit.library import QFT\n",
    "\n",
    "from qiskit_ionq import IonQProvider \n",
    "\n",
    "#Call provider and set token value\n",
    "provider = IonQProvider(token='my token')\n",
    "\n",
    "# numpy\n",
    "import numpy as np\n",
    "\n",
    "# plotting\n",
    "from matplotlib import pyplot as plt\n",
    "%matplotlib inline "
   ]
  },
  {
   "cell_type": "markdown",
   "metadata": {},
   "source": [
    "The `provider` instance can now be used to create and submit circuits to IonQ.\n",
    "\n",
    "### Backend Types\n",
    "\n",
    "The IonQ provider supports two backend types:\n",
    "* `ionq_simulator`: IonQ's simulator backend.\n",
    "* `ionq_qpu`: IonQ's QPU backend.\n",
    "\n",
    "To view all current backend types, use the `.backends` property on the provider instance:"
   ]
  },
  {
   "cell_type": "code",
   "execution_count": 41,
   "metadata": {},
   "outputs": [
    {
     "data": {
      "text/plain": [
       "[<IonQSimulatorBackend('ionq_simulator')>, <IonQQPUBackend('ionq_qpu')>]"
      ]
     },
     "execution_count": 41,
     "metadata": {},
     "output_type": "execute_result"
    }
   ],
   "source": [
    "provider.backends()"
   ]
  },
  {
   "cell_type": "markdown",
   "metadata": {},
   "source": [
    "### Let's implement QFT and its inverse\n",
    "\n",
    "Let us create two circuits that implement the quantum Fourier transform and its inverse for a given number of qubits (n). "
   ]
  },
  {
   "cell_type": "code",
   "execution_count": 34,
   "metadata": {},
   "outputs": [],
   "source": [
    "# Quantum Fourier transform of |q>, of length n.\n",
    "def qft(circ, q, n):\n",
    "    # Loop through the target qubits.\n",
    "    for i in range(n,0,-1):\n",
    "        # Apply the H gate to the target.\n",
    "        circ.h(q[i-1])\n",
    "\n",
    "        # Loop through the control qubits.\n",
    "        for j in range(i-1,0,-1):\n",
    "            circ.cp(2*np.pi/2**(i-j+1), q[j-1], q[i-1])\n",
    "\n",
    "# Inverse Fourier transform of |q>, of length n.\n",
    "def iqft(circ, q, n):\n",
    "    # Loop through the target qubits.\n",
    "    for i in range(1,n+1):\n",
    "        # Loop through the control qubits.\n",
    "        for j in range(1,i):\n",
    "            # The inverse Fourier transform just uses a negative phase.\n",
    "            circ.cp(-2*np.pi/2**(i-j+1), q[j-1], q[i-1])\n",
    "\n",
    "        # Apply the H gate to the target.\n",
    "        circ.h(q[i-1])\n"
   ]
  },
  {
   "cell_type": "markdown",
   "metadata": {},
   "source": [
    "### Let's implement QFT Adder\n",
    "\n",
    "Let us create the circuit that implement the QFT Adder. "
   ]
  },
  {
   "cell_type": "code",
   "execution_count": null,
   "metadata": {},
   "outputs": [],
   "source": [
    "# define the Add function\n",
    "def Add(circ, a, b, n):\n",
    "    \n",
    "    # add 1 to n to account for overflow\n",
    "    n += 1\n",
    "    \n",
    "    # take the QFT\n",
    "    qft(circ, b, n)\n",
    "    \n",
    "    circ.barrier()\n",
    "    \n",
    "    # Compute the controlled phases \n",
    "    # Iterate over targets \n",
    "    for i in range(n, 0, -1):\n",
    "        # Iterate over controls\n",
    "        for j in range(i, 0, -1):\n",
    "            # If the qubit a[j-1] exists run cp, if not assume the qubit is 0 and never existed\n",
    "            if len(a) - 1 >= j - 1:\n",
    "                circ.cp(2*np.pi/2**(i-j+1), a[j-1], b[i-1])\n",
    "    \n",
    "    circ.barrier()\n",
    "    \n",
    "    # take the inverse QFT\n",
    "    iqft(circ, b, n)"
   ]
  },
  {
   "cell_type": "markdown",
   "metadata": {},
   "source": [
    "### Let's now add numbers\n",
    "\n",
    "Finally, we have everything we need to perform $a+b$ on a quantum computer. Let's now add $a=10 (2)$ to $b=001 (1)$, and the ideal result should be $011 (3)$  "
   ]
  },
  {
   "cell_type": "code",
   "execution_count": 48,
   "metadata": {},
   "outputs": [
    {
     "data": {
      "image/png": "[encoded data removed]",
      "text/plain": [
       "<Figure size 1618.14x927.08 with 1 Axes>"
      ]
     },
     "execution_count": 48,
     "metadata": {},
     "output_type": "execute_result"
    }
   ],
   "source": [
    "# Registers and circuit.\n",
    "a = QuantumRegister(2)\n",
    "b = QuantumRegister(3)\n",
    "ca = ClassicalRegister(2)\n",
    "cb = ClassicalRegister(3)\n",
    "qc = QuantumCircuit(a, b, ca, cb)\n",
    "\n",
    "# Numbers to add.\n",
    "qc.x(a[1]) # a = 01110 / a = 10\n",
    "#qc.x(a[2])\n",
    "#qc.x(a[3])\n",
    "qc.x(b[0]) # b = 01011 / b = 001\n",
    "#qc.x(b[1])\n",
    "#qc.x(b[3])\n",
    "\n",
    "qc.barrier()\n",
    "\n",
    "# Add the numbers, so |a>|b> to |a>|a+b>.\n",
    "Add(qc, a, b, 2)\n",
    "\n",
    "qc.barrier()\n",
    "\n",
    "# Measure the results.\n",
    "qc.measure(a, ca)\n",
    "qc.measure(b, cb)\n",
    "\n",
    "qc.draw(output=\"mpl\")"
   ]
  },
  {
   "cell_type": "markdown",
   "metadata": {},
   "source": [
    "### Let's look at the ideal outcomes"
   ]
  },
  {
   "cell_type": "code",
   "execution_count": 46,
   "metadata": {},
   "outputs": [
    {
     "name": "stdout",
     "output_type": "stream",
     "text": [
      "{'011 10': 1024}\n"
     ]
    }
   ],
   "source": [
    "# simulate the circuit\n",
    "simulator = Aer.get_backend('qasm_simulator')\n",
    "job_sim   = execute(qc, simulator)\n",
    "result_sim = job_sim.result()\n",
    "\n",
    "print(result_sim.get_counts(qc))"
   ]
  },
  {
   "cell_type": "markdown",
   "metadata": {},
   "source": [
    "Great! We obtain the correct result!"
   ]
  },
  {
   "cell_type": "markdown",
   "metadata": {},
   "source": [
    "### Running jobs on a quantum computer"
   ]
  },
  {
   "cell_type": "markdown",
   "metadata": {},
   "source": [
    "We are now ready to submit the jobs on IonQ's QPUs. Since actual quantum computers are noisy, the quality of the output state probabilities decreases with the number of gates favoring fully connected architectures over the ones with limited connectivity."
   ]
  },
  {
   "cell_type": "code",
   "execution_count": 49,
   "metadata": {},
   "outputs": [
    {
     "name": "stdout",
     "output_type": "stream",
     "text": [
      "Job status is JobStatus.QUEUED\n",
      "Job status is JobStatus.QUEUED\n",
      "Job status is JobStatus.QUEUED\n",
      "Job status is JobStatus.QUEUED\n",
      "Job status is JobStatus.QUEUED\n",
      "Job status is JobStatus.QUEUED\n",
      "Job status is JobStatus.QUEUED\n",
      "Job status is JobStatus.QUEUED\n",
      "Job status is JobStatus.QUEUED\n",
      "Job status is JobStatus.QUEUED\n",
      "Job status is JobStatus.QUEUED\n",
      "Job status is JobStatus.QUEUED\n",
      "Job status is JobStatus.QUEUED\n",
      "Job status is JobStatus.QUEUED\n",
      "Job status is JobStatus.QUEUED\n",
      "Job status is JobStatus.QUEUED\n",
      "Job status is JobStatus.QUEUED\n",
      "Job status is JobStatus.QUEUED\n",
      "Job status is JobStatus.QUEUED\n",
      "Job status is JobStatus.QUEUED\n",
      "Job status is JobStatus.QUEUED\n",
      "Job status is JobStatus.QUEUED\n",
      "Job status is JobStatus.QUEUED\n",
      "Job status is JobStatus.QUEUED\n",
      "Job status is JobStatus.QUEUED\n",
      "Job status is JobStatus.QUEUED\n",
      "Job status is JobStatus.QUEUED\n",
      "Job status is JobStatus.QUEUED\n",
      "Job status is JobStatus.QUEUED\n",
      "Job status is JobStatus.QUEUED\n",
      "Job status is JobStatus.QUEUED\n",
      "Job status is JobStatus.QUEUED\n",
      "Job status is JobStatus.QUEUED\n",
      "Job status is JobStatus.QUEUED\n",
      "Job status is JobStatus.QUEUED\n",
      "Job status is JobStatus.QUEUED\n",
      "Job status is JobStatus.QUEUED\n",
      "Job status is JobStatus.QUEUED\n",
      "Job status is JobStatus.QUEUED\n",
      "Job status is JobStatus.QUEUED\n",
      "Job status is JobStatus.QUEUED\n",
      "Job status is JobStatus.QUEUED\n",
      "Job status is JobStatus.QUEUED\n",
      "Job status is JobStatus.QUEUED\n",
      "Job status is JobStatus.QUEUED\n",
      "Job status is JobStatus.QUEUED\n",
      "Job status is JobStatus.QUEUED\n",
      "Job status is JobStatus.QUEUED\n",
      "Job status is JobStatus.QUEUED\n",
      "Job status is JobStatus.QUEUED\n",
      "Job status is JobStatus.QUEUED\n",
      "Job status is JobStatus.QUEUED\n",
      "Job status is JobStatus.QUEUED\n",
      "Job status is JobStatus.QUEUED\n",
      "Job status is JobStatus.QUEUED\n",
      "Job status is JobStatus.QUEUED\n",
      "Job status is JobStatus.QUEUED\n",
      "Job status is JobStatus.QUEUED\n",
      "Job status is JobStatus.QUEUED\n",
      "Job status is JobStatus.QUEUED\n",
      "Job status is JobStatus.QUEUED\n",
      "Job status is JobStatus.QUEUED\n",
      "Job status is JobStatus.QUEUED\n",
      "Job status is JobStatus.QUEUED\n",
      "Job status is JobStatus.QUEUED\n",
      "Job status is JobStatus.QUEUED\n",
      "Job status is JobStatus.QUEUED\n",
      "Job status is JobStatus.QUEUED\n",
      "Job status is JobStatus.QUEUED\n",
      "Job status is JobStatus.QUEUED\n",
      "Job status is JobStatus.QUEUED\n",
      "Job status is JobStatus.QUEUED\n",
      "Job status is JobStatus.QUEUED\n",
      "Job status is JobStatus.QUEUED\n",
      "Job status is JobStatus.QUEUED\n",
      "Job status is JobStatus.QUEUED\n",
      "Job status is JobStatus.QUEUED\n",
      "Job status is JobStatus.QUEUED\n",
      "Job status is JobStatus.QUEUED\n",
      "Job status is JobStatus.QUEUED\n",
      "Job status is JobStatus.QUEUED\n",
      "Job status is JobStatus.QUEUED\n",
      "Job status is JobStatus.QUEUED\n",
      "Job status is JobStatus.QUEUED\n",
      "Job status is JobStatus.QUEUED\n",
      "Job status is JobStatus.QUEUED\n",
      "Job status is JobStatus.QUEUED\n",
      "Job status is JobStatus.QUEUED\n",
      "Job status is JobStatus.QUEUED\n",
      "Job status is JobStatus.QUEUED\n",
      "Job status is JobStatus.QUEUED\n",
      "Job status is JobStatus.QUEUED\n",
      "Job status is JobStatus.QUEUED\n",
      "Job status is JobStatus.QUEUED\n",
      "Job status is JobStatus.QUEUED\n",
      "Job status is JobStatus.QUEUED\n",
      "Job status is JobStatus.QUEUED\n",
      "Job status is JobStatus.QUEUED\n",
      "Job status is JobStatus.QUEUED\n",
      "Job status is JobStatus.QUEUED\n",
      "Job status is JobStatus.QUEUED\n",
      "Job status is JobStatus.QUEUED\n",
      "Job status is JobStatus.QUEUED\n",
      "Job status is JobStatus.QUEUED\n",
      "Job status is JobStatus.QUEUED\n",
      "Job status is JobStatus.QUEUED\n",
      "Job status is JobStatus.QUEUED\n",
      "Job status is JobStatus.QUEUED\n",
      "Job status is JobStatus.QUEUED\n",
      "Job status is JobStatus.QUEUED\n",
      "Job status is JobStatus.QUEUED\n",
      "Job status is JobStatus.QUEUED\n",
      "Job status is JobStatus.QUEUED\n",
      "Job status is JobStatus.QUEUED\n",
      "Job status is JobStatus.QUEUED\n"
     ]
    },
    {
     "ename": "NameError",
     "evalue": "name 'bv_job' is not defined",
     "output_type": "error",
     "traceback": [
      "\u001b[0;31m---------------------------------------------------------------------------\u001b[0m",
      "\u001b[0;31mNameError\u001b[0m                                 Traceback (most recent call last)",
      "\u001b[0;32m<ipython-input-49-7fbc5cde8d02>\u001b[0m in \u001b[0;36m<module>\u001b[0;34m\u001b[0m\n\u001b[1;32m     13\u001b[0m \u001b[0;31m# grab a coffee! This can take up to a few minutes.\u001b[0m\u001b[0;34m\u001b[0m\u001b[0;34m\u001b[0m\u001b[0;34m\u001b[0m\u001b[0m\n\u001b[1;32m     14\u001b[0m \u001b[0;31m# once we break out of that while loop, we know our job is finished\u001b[0m\u001b[0;34m\u001b[0m\u001b[0;34m\u001b[0m\u001b[0;34m\u001b[0m\u001b[0m\n\u001b[0;32m---> 15\u001b[0;31m \u001b[0mprint\u001b[0m\u001b[0;34m(\u001b[0m\u001b[0;34m\"Job status is\"\u001b[0m\u001b[0;34m,\u001b[0m \u001b[0mbv_job\u001b[0m\u001b[0;34m.\u001b[0m\u001b[0mstatus\u001b[0m\u001b[0;34m(\u001b[0m\u001b[0;34m)\u001b[0m \u001b[0;34m)\u001b[0m\u001b[0;34m\u001b[0m\u001b[0;34m\u001b[0m\u001b[0m\n\u001b[0m\u001b[1;32m     16\u001b[0m \u001b[0mprint\u001b[0m\u001b[0;34m(\u001b[0m\u001b[0mjob\u001b[0m\u001b[0;34m.\u001b[0m\u001b[0mget_counts\u001b[0m\u001b[0;34m(\u001b[0m\u001b[0;34m)\u001b[0m\u001b[0;34m)\u001b[0m \u001b[0;31m# these counts are the “true” counts from the actual QPU Run\u001b[0m\u001b[0;34m\u001b[0m\u001b[0;34m\u001b[0m\u001b[0m\n\u001b[1;32m     17\u001b[0m \u001b[0;34m\u001b[0m\u001b[0m\n",
      "\u001b[0;31mNameError\u001b[0m: name 'bv_job' is not defined"
     ]
    }
   ],
   "source": [
    "# run the circuit on a real-device\n",
    "qpu = provider.get_backend(\"ionq_qpu\")\n",
    "qpu_job = qpu.run(qc)\n",
    "\n",
    "\n",
    "from qiskit.providers.jobstatus import JobStatus\n",
    "import time\n",
    "# Check if job is done\n",
    "while qpu_job.status() is not JobStatus.DONE:\n",
    "    print(\"Job status is\", qpu_job.status() )\n",
    "    time.sleep(60)\n"
   ]
  },
  {
   "cell_type": "code",
   "execution_count": 51,
   "metadata": {},
   "outputs": [
    {
     "name": "stdout",
     "output_type": "stream",
     "text": [
      "Job status is JobStatus.DONE\n",
      "{'000 00': 5, '000 01': 2, '000 10': 7, '000 11': 3, '001 00': 20, '001 01': 1, '001 10': 46, '001 11': 4, '010 00': 1, '010 01': 2, '010 10': 56, '010 11': 17, '011 00': 24, '011 10': 600, '011 11': 5, '100 00': 4, '100 10': 13, '100 11': 10, '101 00': 15, '101 01': 1, '101 10': 61, '110 00': 1, '110 01': 1, '110 10': 10, '110 11': 4, '111 00': 2, '111 10': 104, '111 11': 5}\n"
     ]
    }
   ],
   "source": [
    "# grab a coffee! This can take up to a few minutes.\n",
    "# once we break out of that while loop, we know our job is finished\n",
    "print(\"Job status is\", qpu_job.status() )\n",
    "print(qpu_job.get_counts()) # these counts are the “true” counts from the actual QPU Run\n",
    "\n",
    "result_exp = qpu_job.result()"
   ]
  },
  {
   "cell_type": "markdown",
   "metadata": {},
   "source": [
    "This is a bit messy. Let's plot the histogram. "
   ]
  },
  {
   "cell_type": "code",
   "execution_count": 53,
   "metadata": {},
   "outputs": [
    {
     "data": {
      "image/png": "[encoded data removed]",
      "text/plain": [
       "<Figure size 504x360 with 1 Axes>"
      ]
     },
     "execution_count": 53,
     "metadata": {},
     "output_type": "execute_result"
    }
   ],
   "source": [
    "from qiskit.visualization import plot_histogram\n",
    "\n",
    "plot_histogram(qpu_job.get_counts())"
   ]
  },
  {
   "cell_type": "markdown",
   "metadata": {},
   "source": [
    "Great! The expected result is of the largest probability!"
   ]
  },
  {
   "cell_type": "code",
   "execution_count": null,
   "metadata": {},
   "outputs": [],
   "source": []
  }
 ],
 "metadata": {
  "kernelspec": {
   "display_name": "Python 3",
   "language": "python",
   "name": "python3"
  },
  "language_info": {
   "codemirror_mode": {
    "name": "ipython",
    "version": 3
   },
   "file_extension": ".py",
   "mimetype": "text/x-python",
   "name": "python",
   "nbconvert_exporter": "python",
   "pygments_lexer": "ipython3",
   "version": "3.8.8"
  }
 },
 "nbformat": 4,
 "nbformat_minor": 2
}
