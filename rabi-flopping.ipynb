{
 "cells": [
  {
   "cell_type": "markdown",
   "id": "d50d3c95",
   "metadata": {},
   "source": [
    "# Simulating Rabi flopping on a quantum computer"
   ]
  },
  {
   "cell_type": "markdown",
   "id": "4cec2002",
   "metadata": {},
   "source": [
    "## Setup\n",
    "\n",
    "First, make sure that you have the latest version of Qiskit installed. To upgrade your Qiskit package, run the following command:\n",
    "\n",
    "```bash\n",
    "pip install --upgrade qiskit\n",
    "```\n",
    "\n",
    "Get an API key from IonQ. This will be used by the IonQ provider inside Qiskit to submit circuits to the IonQ platform.\n",
    "\n",
    "After securing an API key, install the python package `qiskit_ionq` using `pip`:\n",
    "\n",
    "```bash\n",
    "pip install qiskit_ionq\n",
    "```\n",
    "\n",
    "(IonQ's adapter for Qiskit is currently in private beta -- your feedback is welcomed!)\n",
    "\n",
    "### (Optional) Extra Dependencies\n",
    "\n",
    "Some examples use additional Python dependencies; please make sure to `pip install` them as needed.\n",
    "\n",
    "Dependencies:\n",
    "* `matplotlib`: To run `qiskit.visualization.plot_histogram`.\n",
    "\n",
    "**NOTE**: The provider expects an API key to be supplied via the `token` keyword argument to its constructor. If no token is directly provided, the provider will check for one in the `QISKIT_IONQ_API_TOKEN` environment variable.\n",
    "\n",
    "Now that the Python package has been installed, you can import and instantiate the provider:"
   ]
  },
  {
   "cell_type": "code",
   "execution_count": 55,
   "id": "91ffee1a",
   "metadata": {},
   "outputs": [],
   "source": [
    "#import Aer here, before calling qiskit_ionq_provider\n",
    "from qiskit import Aer\n",
    "\n",
    "from qiskit_ionq import IonQProvider \n",
    "\n",
    "#Call provider and set token value\n",
    "provider = IonQProvider(token='my token')"
   ]
  },
  {
   "cell_type": "markdown",
   "id": "bcbafdc0",
   "metadata": {},
   "source": [
    "The `provider` instance can now be used to create and submit circuits to IonQ.\n",
    "\n",
    "### Backend Types\n",
    "\n",
    "The IonQ provider supports two backend types:\n",
    "* `ionq_simulator`: IonQ's simulator backend.\n",
    "* `ionq_qpu`: IonQ's QPU backend.\n",
    "\n",
    "To view all current backend types, use the `.backends` property on the provider instance:"
   ]
  },
  {
   "cell_type": "code",
   "execution_count": 56,
   "id": "20e5ea5f",
   "metadata": {},
   "outputs": [
    {
     "data": {
      "text/plain": [
       "[<IonQSimulatorBackend('ionq_simulator')>, <IonQQPUBackend('ionq_qpu')>]"
      ]
     },
     "execution_count": 56,
     "metadata": {},
     "output_type": "execute_result"
    }
   ],
   "source": [
    "provider.backends()"
   ]
  },
  {
   "cell_type": "markdown",
   "id": "86aa5fcb",
   "metadata": {},
   "source": [
    "### Let's create some circuits\n",
    "\n",
    "To simulate Rabi flopping on a quantum computing we need to apply single-qubit rotations of varying angle to a qubit. To avoid submitting multiple single-qubit circuits, we can utilize all availablbe ions and apply single-qubit rotations to each of them at once. The probability of the $\\left|1\\right>$ state will oscillate with the angle of rotation."
   ]
  },
  {
   "cell_type": "code",
   "execution_count": 57,
   "id": "aba7a97c",
   "metadata": {},
   "outputs": [
    {
     "data": {
      "text/html": [
       "<pre style=\"word-wrap: normal;white-space: pre;background: #fff0;line-height: 1.1;font-family: &quot;Courier New&quot;,Courier,monospace\">       ┌─────────┐ \n",
       " q_0: ─┤ RX(π/3) ├─\n",
       "       ├─────────┴┐\n",
       " q_1: ─┤ RX(2π/3) ├\n",
       "       └┬───────┬─┘\n",
       " q_2: ──┤ RX(π) ├──\n",
       "       ┌┴───────┴─┐\n",
       " q_3: ─┤ RX(4π/3) ├\n",
       "       ├──────────┤\n",
       " q_4: ─┤ RX(5π/3) ├\n",
       "       └┬────────┬┘\n",
       " q_5: ──┤ RX(2π) ├─\n",
       "       ┌┴────────┴┐\n",
       " q_6: ─┤ RX(7π/3) ├\n",
       "       ├──────────┤\n",
       " q_7: ─┤ RX(8π/3) ├\n",
       "       └┬────────┬┘\n",
       " q_8: ──┤ RX(3π) ├─\n",
       "      ┌─┴────────┴┐\n",
       " q_9: ┤ RX(10π/3) ├\n",
       "      ├───────────┤\n",
       "q_10: ┤ RX(11π/3) ├\n",
       "      └───────────┘</pre>"
      ],
      "text/plain": [
       "       ┌─────────┐ \n",
       " q_0: ─┤ RX(π/3) ├─\n",
       "       ├─────────┴┐\n",
       " q_1: ─┤ RX(2π/3) ├\n",
       "       └┬───────┬─┘\n",
       " q_2: ──┤ RX(π) ├──\n",
       "       ┌┴───────┴─┐\n",
       " q_3: ─┤ RX(4π/3) ├\n",
       "       ├──────────┤\n",
       " q_4: ─┤ RX(5π/3) ├\n",
       "       └┬────────┬┘\n",
       " q_5: ──┤ RX(2π) ├─\n",
       "       ┌┴────────┴┐\n",
       " q_6: ─┤ RX(7π/3) ├\n",
       "       ├──────────┤\n",
       " q_7: ─┤ RX(8π/3) ├\n",
       "       └┬────────┬┘\n",
       " q_8: ──┤ RX(3π) ├─\n",
       "      ┌─┴────────┴┐\n",
       " q_9: ┤ RX(10π/3) ├\n",
       "      ├───────────┤\n",
       "q_10: ┤ RX(11π/3) ├\n",
       "      └───────────┘"
      ]
     },
     "execution_count": 57,
     "metadata": {},
     "output_type": "execute_result"
    }
   ],
   "source": [
    "from qiskit import QuantumCircuit, QuantumRegister\n",
    "from math import pi\n",
    "\n",
    "def get_qc(p):\n",
    "    qr = QuantumRegister(11,'q')\n",
    "    qc = QuantumCircuit(qr)\n",
    "\n",
    "    for i in range(1,12):\n",
    "        qc.rx(i*p,i-1)\n",
    "    \n",
    "    return qc\n",
    "\n",
    "qci = get_qc(pi/3)\n",
    "qci.draw()"
   ]
  },
  {
   "cell_type": "markdown",
   "id": "38e2951d",
   "metadata": {},
   "source": [
    "To study the effect of decoherence, let's generate two more similar circuits with artificially added over and under rotations."
   ]
  },
  {
   "cell_type": "code",
   "execution_count": 58,
   "id": "cb24294c",
   "metadata": {},
   "outputs": [],
   "source": [
    "qca = get_qc(pi/3+pi/18)\n",
    "qcr = get_qc(pi/3-pi/18)"
   ]
  },
  {
   "cell_type": "markdown",
   "id": "4d2ee0cf",
   "metadata": {},
   "source": [
    "### Let's look at the ideal results"
   ]
  },
  {
   "cell_type": "markdown",
   "id": "cea23aaa",
   "metadata": {},
   "source": [
    "Let's add a 11-bit measurement register for qubits 0,1,2,3,4,5,6,7,8,9,10."
   ]
  },
  {
   "cell_type": "code",
   "execution_count": 59,
   "id": "970d7916",
   "metadata": {},
   "outputs": [],
   "source": [
    "from qiskit import ClassicalRegister\n",
    "\n",
    "# Add the measurement register\n",
    "circs = [qci,qca,qcr]\n",
    "cr = ClassicalRegister(11,'c')\n",
    "for qc in circs:\n",
    "    qc.add_register(cr)\n",
    "    qc.measure(range(11),range(11))"
   ]
  },
  {
   "cell_type": "markdown",
   "id": "9b09b833",
   "metadata": {},
   "source": [
    "We can now simulate these circuits. If we look at the individual $\\left|1\\right>$ state probability of each ion, we'll observe oscillations with different periods. The averaged result oscillates with the same period of the ideal circuit but the amplitude is damp due to the introduced decoherence (artificial over and under rotations)."
   ]
  },
  {
   "cell_type": "code",
   "execution_count": 60,
   "id": "ea3912b6",
   "metadata": {},
   "outputs": [],
   "source": [
    "from qiskit.providers.jobstatus import JobStatus\n",
    "from qiskit import Aer, execute\n",
    "\n",
    "# Choose the simulator backend \n",
    "backend = provider.get_backend(\"ionq_simulator\")\n",
    "#backend = Aer.get_backend(\"qasm_simulator\")\n",
    "\n",
    "# Run the circuit:\n",
    "def run_jobs(backend,circs,nshots):\n",
    "    jobs = []\n",
    "    job_ids = []\n",
    "    qcs = []\n",
    "\n",
    "    for qc in circs:\n",
    "        qcs.append(qc)\n",
    "        job = backend.run(qc, shots=nshots)\n",
    "        #job = execute(qc, backend, shots=nshots, memory=True)\n",
    "        jobs.append(job)\n",
    "        #job_ids.append(job.job_id())\n",
    "    \n",
    "    return jobs\n",
    "\n",
    "jobs = run_jobs(backend,circs,1000)\n",
    "\n",
    "# Calculate output state populations\n",
    "def get_pops(res,nn,n):\n",
    "    #print(res)\n",
    "    pops = [0 for i in range(2**nn)]\n",
    "    for key in res.keys():\n",
    "        pops[int(key,16)] = res[key]/n\n",
    "        #pops[int(key,2)] = res[key]/n\n",
    "    return pops\n",
    "\n",
    "# Fetch the result\n",
    "def get_jobs(jobs,nshots):\n",
    "    results = []\n",
    "    for i in range(len(jobs)):\n",
    "        result = jobs[i].result()\n",
    "        #print(result.data()['counts'])\n",
    "        #print(get_pops(result.data()['counts'],11,nshots))\n",
    "        results.append(get_pops(result.data()['counts'],11,nshots))\n",
    "    \n",
    "    return results\n",
    "\n",
    "results = get_jobs(jobs,1000)\n",
    "\n",
    "def get_ion(res,ion):\n",
    "    p1 = 0\n",
    "    for x in range(2**11):\n",
    "        if (x&(2**ion)):\n",
    "            p1 += res[x]\n",
    "    return p1\n",
    "\n",
    "prbi = [get_ion(results[0],i) for i in range(11)]\n",
    "prba = [get_ion(results[1],i) for i in range(11)]\n",
    "prbr = [get_ion(results[2],i) for i in range(11)]\n",
    "avres = [sum([results[i][j] for i in range(3)])/3 for j in range(2**11)]\n",
    "prbs = [get_ion(avres,i) for i in range(11)]"
   ]
  },
  {
   "cell_type": "code",
   "execution_count": 61,
   "id": "88712eeb",
   "metadata": {},
   "outputs": [
    {
     "data": {
      "text/plain": [
       "<matplotlib.legend.Legend at 0x11f307bd0>"
      ]
     },
     "execution_count": 61,
     "metadata": {},
     "output_type": "execute_result"
    },
    {
     "data": {
      "image/png": "[encoded data removed]",
      "text/plain": [
       "<Figure size 432x288 with 1 Axes>"
      ]
     },
     "metadata": {
      "needs_background": "light"
     },
     "output_type": "display_data"
    }
   ],
   "source": [
    "import matplotlib.pyplot as plt\n",
    "plt.plot(range(12),[0]+prbi,label=\"Ideal\")\n",
    "plt.plot(range(12),[0]+prba,label=\"Over-rotation\")\n",
    "plt.plot(range(12),[0]+prbr,label=\"Under-rotation\")\n",
    "plt.plot(range(12),[0]+prbs,label=\"Average\",linewidth=3)\n",
    "plt.ylim([0,1])\n",
    "plt.ylabel(\"State |1> probability\")\n",
    "plt.xlabel(\"Qubit (*time*)\")\n",
    "plt.legend()"
   ]
  },
  {
   "cell_type": "markdown",
   "id": "a2c7a991",
   "metadata": {},
   "source": [
    "### Running jobs on a quantum computer"
   ]
  },
  {
   "cell_type": "markdown",
   "id": "b1a2d2a6",
   "metadata": {},
   "source": [
    "We are now ready to submit the jobs on IonQ's QPUs. Since actual quantum computers are noisy, the quality of the output state probabilities decreases with the number of gates favoring fully connected architectures over the ones with limited connectivity."
   ]
  },
  {
   "cell_type": "code",
   "execution_count": 62,
   "id": "530ba3e8",
   "metadata": {},
   "outputs": [],
   "source": [
    "# Switch the backend to run circuits on a quantum computer\n",
    "qpu_backend = provider.get_backend(\"ionq_qpu\")\n",
    "\n",
    "jobs = run_jobs(qpu_backend,circs,1000)"
   ]
  },
  {
   "cell_type": "markdown",
   "id": "265e9657",
   "metadata": {},
   "source": [
    "The job will queue, and results will arrive once it's executed!"
   ]
  },
  {
   "cell_type": "code",
   "execution_count": null,
   "id": "cb4e5f38",
   "metadata": {},
   "outputs": [],
   "source": [
    "#Check if jobs are done\n",
    "for i in range(len(jobs)):\n",
    "    print(jobs[i].status())"
   ]
  },
  {
   "cell_type": "code",
   "execution_count": 64,
   "id": "cac54458",
   "metadata": {},
   "outputs": [
    {
     "ename": "KeyboardInterrupt",
     "evalue": "",
     "output_type": "error",
     "traceback": [
      "\u001b[0;31m---------------------------------------------------------------------------\u001b[0m",
      "\u001b[0;31mKeyboardInterrupt\u001b[0m                         Traceback (most recent call last)",
      "\u001b[0;32m<ipython-input-64-899603904bb0>\u001b[0m in \u001b[0;36m<module>\u001b[0;34m\u001b[0m\n\u001b[1;32m      1\u001b[0m \u001b[0;31m# Fetch the result\u001b[0m\u001b[0;34m\u001b[0m\u001b[0;34m\u001b[0m\u001b[0;34m\u001b[0m\u001b[0m\n\u001b[0;32m----> 2\u001b[0;31m \u001b[0mresults\u001b[0m \u001b[0;34m=\u001b[0m \u001b[0mget_jobs\u001b[0m\u001b[0;34m(\u001b[0m\u001b[0mjobs\u001b[0m\u001b[0;34m,\u001b[0m\u001b[0;36m1000\u001b[0m\u001b[0;34m)\u001b[0m\u001b[0;34m\u001b[0m\u001b[0;34m\u001b[0m\u001b[0m\n\u001b[0m\u001b[1;32m      3\u001b[0m \u001b[0mprbi_m\u001b[0m \u001b[0;34m=\u001b[0m \u001b[0;34m[\u001b[0m\u001b[0mget_ion\u001b[0m\u001b[0;34m(\u001b[0m\u001b[0mresults\u001b[0m\u001b[0;34m[\u001b[0m\u001b[0;36m0\u001b[0m\u001b[0;34m]\u001b[0m\u001b[0;34m,\u001b[0m\u001b[0mi\u001b[0m\u001b[0;34m)\u001b[0m \u001b[0;32mfor\u001b[0m \u001b[0mi\u001b[0m \u001b[0;32min\u001b[0m \u001b[0mrange\u001b[0m\u001b[0;34m(\u001b[0m\u001b[0;36m11\u001b[0m\u001b[0;34m)\u001b[0m\u001b[0;34m]\u001b[0m\u001b[0;34m\u001b[0m\u001b[0;34m\u001b[0m\u001b[0m\n\u001b[1;32m      4\u001b[0m \u001b[0mprba_m\u001b[0m \u001b[0;34m=\u001b[0m \u001b[0;34m[\u001b[0m\u001b[0mget_ion\u001b[0m\u001b[0;34m(\u001b[0m\u001b[0mresults\u001b[0m\u001b[0;34m[\u001b[0m\u001b[0;36m1\u001b[0m\u001b[0;34m]\u001b[0m\u001b[0;34m,\u001b[0m\u001b[0mi\u001b[0m\u001b[0;34m)\u001b[0m \u001b[0;32mfor\u001b[0m \u001b[0mi\u001b[0m \u001b[0;32min\u001b[0m \u001b[0mrange\u001b[0m\u001b[0;34m(\u001b[0m\u001b[0;36m11\u001b[0m\u001b[0;34m)\u001b[0m\u001b[0;34m]\u001b[0m\u001b[0;34m\u001b[0m\u001b[0;34m\u001b[0m\u001b[0m\n\u001b[1;32m      5\u001b[0m \u001b[0mprbr_m\u001b[0m \u001b[0;34m=\u001b[0m \u001b[0;34m[\u001b[0m\u001b[0mget_ion\u001b[0m\u001b[0;34m(\u001b[0m\u001b[0mresults\u001b[0m\u001b[0;34m[\u001b[0m\u001b[0;36m2\u001b[0m\u001b[0;34m]\u001b[0m\u001b[0;34m,\u001b[0m\u001b[0mi\u001b[0m\u001b[0;34m)\u001b[0m \u001b[0;32mfor\u001b[0m \u001b[0mi\u001b[0m \u001b[0;32min\u001b[0m \u001b[0mrange\u001b[0m\u001b[0;34m(\u001b[0m\u001b[0;36m11\u001b[0m\u001b[0;34m)\u001b[0m\u001b[0;34m]\u001b[0m\u001b[0;34m\u001b[0m\u001b[0;34m\u001b[0m\u001b[0m\n",
      "\u001b[0;32m<ipython-input-60-eedb6e68c6f8>\u001b[0m in \u001b[0;36mget_jobs\u001b[0;34m(jobs, nshots)\u001b[0m\n\u001b[1;32m     36\u001b[0m     \u001b[0mresults\u001b[0m \u001b[0;34m=\u001b[0m \u001b[0;34m[\u001b[0m\u001b[0;34m]\u001b[0m\u001b[0;34m\u001b[0m\u001b[0;34m\u001b[0m\u001b[0m\n\u001b[1;32m     37\u001b[0m     \u001b[0;32mfor\u001b[0m \u001b[0mi\u001b[0m \u001b[0;32min\u001b[0m \u001b[0mrange\u001b[0m\u001b[0;34m(\u001b[0m\u001b[0mlen\u001b[0m\u001b[0;34m(\u001b[0m\u001b[0mjobs\u001b[0m\u001b[0;34m)\u001b[0m\u001b[0;34m)\u001b[0m\u001b[0;34m:\u001b[0m\u001b[0;34m\u001b[0m\u001b[0;34m\u001b[0m\u001b[0m\n\u001b[0;32m---> 38\u001b[0;31m         \u001b[0mresult\u001b[0m \u001b[0;34m=\u001b[0m \u001b[0mjobs\u001b[0m\u001b[0;34m[\u001b[0m\u001b[0mi\u001b[0m\u001b[0;34m]\u001b[0m\u001b[0;34m.\u001b[0m\u001b[0mresult\u001b[0m\u001b[0;34m(\u001b[0m\u001b[0;34m)\u001b[0m\u001b[0;34m\u001b[0m\u001b[0;34m\u001b[0m\u001b[0m\n\u001b[0m\u001b[1;32m     39\u001b[0m         \u001b[0;31m#print(result.data()['counts'])\u001b[0m\u001b[0;34m\u001b[0m\u001b[0;34m\u001b[0m\u001b[0;34m\u001b[0m\u001b[0m\n\u001b[1;32m     40\u001b[0m         \u001b[0;31m#print(get_pops(result.data()['counts'],11,nshots))\u001b[0m\u001b[0;34m\u001b[0m\u001b[0;34m\u001b[0m\u001b[0;34m\u001b[0m\u001b[0m\n",
      "\u001b[0;32m~/anaconda3/envs/tflow/lib/python3.7/site-packages/qiskit_ionq/ionq_job.py\u001b[0m in \u001b[0;36mresult\u001b[0;34m(self)\u001b[0m\n\u001b[1;32m    247\u001b[0m         \u001b[0;31m# Wait for the job to complete.\u001b[0m\u001b[0;34m\u001b[0m\u001b[0;34m\u001b[0m\u001b[0;34m\u001b[0m\u001b[0m\n\u001b[1;32m    248\u001b[0m         \u001b[0;32mtry\u001b[0m\u001b[0;34m:\u001b[0m\u001b[0;34m\u001b[0m\u001b[0;34m\u001b[0m\u001b[0m\n\u001b[0;32m--> 249\u001b[0;31m             \u001b[0mself\u001b[0m\u001b[0;34m.\u001b[0m\u001b[0mwait_for_final_state\u001b[0m\u001b[0;34m(\u001b[0m\u001b[0;34m)\u001b[0m\u001b[0;34m\u001b[0m\u001b[0;34m\u001b[0m\u001b[0m\n\u001b[0m\u001b[1;32m    250\u001b[0m         \u001b[0;32mexcept\u001b[0m \u001b[0mJobTimeoutError\u001b[0m \u001b[0;32mas\u001b[0m \u001b[0mex\u001b[0m\u001b[0;34m:\u001b[0m\u001b[0;34m\u001b[0m\u001b[0;34m\u001b[0m\u001b[0m\n\u001b[1;32m    251\u001b[0m             \u001b[0;32mraise\u001b[0m \u001b[0mexceptions\u001b[0m\u001b[0;34m.\u001b[0m\u001b[0mIonQJobTimeoutError\u001b[0m\u001b[0;34m(\u001b[0m\u001b[0;34m\"Timed out waiting for job to complete.\"\u001b[0m\u001b[0;34m)\u001b[0m \u001b[0;32mfrom\u001b[0m \u001b[0mex\u001b[0m\u001b[0;34m\u001b[0m\u001b[0;34m\u001b[0m\u001b[0m\n",
      "\u001b[0;32m~/anaconda3/envs/tflow/lib/python3.7/site-packages/qiskit/providers/job.py\u001b[0m in \u001b[0;36mwait_for_final_state\u001b[0;34m(self, timeout, wait, callback)\u001b[0m\n\u001b[1;32m    118\u001b[0m             \u001b[0;32mif\u001b[0m \u001b[0mcallback\u001b[0m\u001b[0;34m:\u001b[0m\u001b[0;34m\u001b[0m\u001b[0;34m\u001b[0m\u001b[0m\n\u001b[1;32m    119\u001b[0m                 \u001b[0mcallback\u001b[0m\u001b[0;34m(\u001b[0m\u001b[0mself\u001b[0m\u001b[0;34m.\u001b[0m\u001b[0mjob_id\u001b[0m\u001b[0;34m(\u001b[0m\u001b[0;34m)\u001b[0m\u001b[0;34m,\u001b[0m \u001b[0mstatus\u001b[0m\u001b[0;34m,\u001b[0m \u001b[0mself\u001b[0m\u001b[0;34m)\u001b[0m\u001b[0;34m\u001b[0m\u001b[0;34m\u001b[0m\u001b[0m\n\u001b[0;32m--> 120\u001b[0;31m             \u001b[0mtime\u001b[0m\u001b[0;34m.\u001b[0m\u001b[0msleep\u001b[0m\u001b[0;34m(\u001b[0m\u001b[0mwait\u001b[0m\u001b[0;34m)\u001b[0m\u001b[0;34m\u001b[0m\u001b[0;34m\u001b[0m\u001b[0m\n\u001b[0m\u001b[1;32m    121\u001b[0m             \u001b[0mstatus\u001b[0m \u001b[0;34m=\u001b[0m \u001b[0mself\u001b[0m\u001b[0;34m.\u001b[0m\u001b[0mstatus\u001b[0m\u001b[0;34m(\u001b[0m\u001b[0;34m)\u001b[0m\u001b[0;34m\u001b[0m\u001b[0;34m\u001b[0m\u001b[0m\n\u001b[1;32m    122\u001b[0m         \u001b[0;32mreturn\u001b[0m\u001b[0;34m\u001b[0m\u001b[0;34m\u001b[0m\u001b[0m\n",
      "\u001b[0;31mKeyboardInterrupt\u001b[0m: "
     ]
    }
   ],
   "source": [
    "# Fetch the result\n",
    "results = get_jobs(jobs,1000)\n",
    "prbi_m = [get_ion(results[0],i) for i in range(11)]\n",
    "prba_m = [get_ion(results[1],i) for i in range(11)]\n",
    "prbr_m = [get_ion(results[2],i) for i in range(11)]\n",
    "avres = [sum([results[i][j] for i in range(3)])/3 for j in range(2**11)]\n",
    "prbs_m = [get_ion(avres,i) for i in range(11)]"
   ]
  },
  {
   "cell_type": "code",
   "execution_count": null,
   "id": "d8966d6c",
   "metadata": {},
   "outputs": [],
   "source": [
    "plt.plot(range(12),[0]+prbi_m,label=\"Ideal\")\n",
    "plt.plot(range(12),[0]+prba_m,label=\"Over-rotation\")\n",
    "plt.plot(range(12),[0]+prbr_m,label=\"Under-rotation\")\n",
    "plt.plot(range(12),[0]+prbs_m,label=\"Average\",linewidth=3)\n",
    "plt.ylim([0,1])\n",
    "plt.ylabel(\"State |1> probability\")\n",
    "plt.legend()"
   ]
  }
 ],
 "metadata": {
  "kernelspec": {
   "display_name": "Python 3",
   "language": "python",
   "name": "python3"
  },
  "language_info": {
   "codemirror_mode": {
    "name": "ipython",
    "version": 3
   },
   "file_extension": ".py",
   "mimetype": "text/x-python",
   "name": "python",
   "nbconvert_exporter": "python",
   "pygments_lexer": "ipython3",
   "version": "3.8.8"
  }
 },
 "nbformat": 4,
 "nbformat_minor": 5
}
