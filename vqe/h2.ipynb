{
 "cells": [
  {
   "cell_type": "markdown",
   "metadata": {},
   "source": [
    "# Estimating the Ground State Energy of the Hydrogen Molecule using the Variational Quantum Eigensolver\n",
    "\n",
    "In this notebook, you will be able run an VQE algorithm on the molecular Hydrogen molecule H$_2$ in the minimal basis. The VQE algorithm tries to use a parametrized quantum circuit (ansatz) to simulate the ground state wavefunction of a molecule. \n",
    "\n",
    "A parametrized quantum circuit could be written as \n",
    "\n",
    "<h1><center>$\\left|\\Psi(\\theta)\\right>=U(\\theta)\\left|0\\right>$</center></h1>\n",
    "\n",
    "in which $\\theta$ are the unknown parameters. The energy expectation value of the wavefunction is\n",
    "\n",
    "<h1><center>$E(\\theta)=\\left<\\Psi(\\theta)|H|\\Psi(\\theta)\\right>$</center></h1>\n",
    "\n",
    "The VQE algorithm measures the energy expectation value on a quantum computer, and then relies on a classical computer to find new parameters $\\theta^\\ast$ that lowers the energy. This process is done iteratively until the energy has converged. \n",
    "\n",
    "The second quantized electronic Hamiltonian is \n",
    "\n",
    "<h1><center>$H=\\sum_{pq}{h_{pq}a^\\dagger_pa_q}+\\frac{1}{2}\\sum_{pqrs}{g_{pqrs}a^\\dagger_pa_qa^\\dagger_ra_s}$</center></h1>\n",
    "\n",
    "in which $a^\\dagger_p$ and $a_p$ are creation and annhilation operators\n",
    "\n",
    "<h1><center>$a^\\dagger_p\\left|0\\right>=\\left|1\\right>, a_p\\left|1\\right>=\\left|0\\right>$</center></h1>\n",
    "\n",
    "These operators could be mapped into Pauli matrices by Jordan-Wigner transformation (JWT) for example. \n",
    "\n",
    "<h1><center>$a^\\dagger_p\\rightarrow I^{\\otimes p-1}\\otimes[(X_p-iY_p)/2]\\otimes Z^{\\otimes N-p}$</center></h1>\n",
    "<h1><center>$a_p\\rightarrow I^{\\otimes p-1}\\otimes[(X_p+iY_p)/2]\\otimes Z^{\\otimes N-p}$</center></h1>\n",
    "\n",
    "As you can see, upon JWT, the Hamiltonian becomes a linear combination of tensor product of Pauli matrices. \n",
    "\n",
    "<h1><center>$H=\\sum_i{w_iP_i}$</center></h1>\n",
    "and these matrices could be directly measured on quantum computers. \n",
    "\n",
    "Moving to ansatz, people have developed many different ansatzes for VQE. We will focus on one of the first ansatz developed for VQE, the unitary Coupled Cluster, which is,\n",
    "<h1><center>$\\left|\\Psi\\right>=e^{T-T^\\dagger}\\left|HF\\right>$</center></h1>\n",
    "\n",
    "in which $T$ is,\n",
    "<h1><center>$T=\\sum_{ia}{t_i^aE_i^a}+\\sum_{i>j,a>b}{t_{ij}^{ab}E_{ij}^{ab}}+\\cdots$</center></h1>\n",
    "and $\\left|HF\\right>$ is the Hartree-Fock state. \n",
    "\n",
    "The HF state is easy to prepare on a quantum computer. For the $e^{T-T^\\dagger}$ operator, people ususally do is\n",
    "to truncate the summation to the first two terms, which yields a very good wave function ansatz, and then transform\n",
    "the $E$ operator to Pauli matrices. \n",
    "\n",
    "<h1><center>$\\left|\\Psi\\right>=e^{\\sum_j{t_jP_j}}\\left|HF\\right>$</center></h1>\n",
    "which could be prepared on a quantum computer, and the $t_j$ are the parameters. "
   ]
  },
  {
   "cell_type": "markdown",
   "metadata": {},
   "source": [
    "## Setup\n",
    "\n",
    "First, make sure that you have the latest version of Qiskit installed. To upgrade your Qiskit package, run the following command:\n",
    "\n",
    "```bash\n",
    "pip install --upgrade qiskit\n",
    "```\n",
    "\n",
    "Get an API key from IonQ. This will be used by the IonQ provider inside Qiskit to submit circuits to the IonQ platform.\n",
    "\n",
    "After securing an API key, install the python package `qiskit_ionq` using `pip`:\n",
    "\n",
    "```bash\n",
    "pip install qiskit_ionq\n",
    "```\n",
    "\n",
    "(IonQ's adapter for Qiskit is currently in private beta -- your feedback is welcomed!)\n",
    "\n",
    "### (Optional) Extra Dependencies\n",
    "\n",
    "Some examples use additional Python dependencies; please make sure to `pip install` them as needed.\n",
    "\n",
    "Dependencies:\n",
    "* `matplotlib`: To run `qiskit.visualization.plot_histogram`.\n",
    "\n",
    "**NOTE**: The provider expects an API key to be supplied via the `token` keyword argument to its constructor. If no token is directly provided, the provider will check for one in the `QISKIT_IONQ_API_TOKEN` environment variable.\n",
    "\n",
    "Now that the Python package has been installed, you can import and instantiate the provider:"
   ]
  },
  {
   "cell_type": "code",
   "execution_count": 1,
   "metadata": {},
   "outputs": [],
   "source": [
    "#import Aer here, before calling qiskit_ionq_provider\n",
    "from qiskit import Aer\n",
    "\n",
    "from qiskit_ionq import IonQProvider \n",
    "\n",
    "#Call provider and set token value\n",
    "ionq_provider = IonQProvider(token='your token')"
   ]
  },
  {
   "cell_type": "markdown",
   "metadata": {},
   "source": [
    "The `provider` instance can now be used to create and submit circuits to IonQ.\n",
    "\n",
    "### Backend Types\n",
    "\n",
    "The IonQ provider supports two backend types:\n",
    "* `ionq_simulator`: IonQ's simulator backend.\n",
    "* `ionq_qpu`: IonQ's QPU backend.\n",
    "\n",
    "To view all current backend types, use the `.backends` property on the provider instance:"
   ]
  },
  {
   "cell_type": "code",
   "execution_count": 46,
   "metadata": {},
   "outputs": [
    {
     "data": {
      "text/plain": [
       "[<IonQSimulatorBackend('ionq_simulator')>, <IonQQPUBackend('ionq_qpu')>]"
      ]
     },
     "execution_count": 46,
     "metadata": {},
     "output_type": "execute_result"
    }
   ],
   "source": [
    "ionq_provider.backends()"
   ]
  },
  {
   "cell_type": "markdown",
   "metadata": {},
   "source": [
    "We now import every library/module that will be needed."
   ]
  },
  {
   "cell_type": "code",
   "execution_count": 2,
   "metadata": {},
   "outputs": [
    {
     "name": "stderr",
     "output_type": "stream",
     "text": [
      "/opt/anaconda3/envs/py3/lib/python3.9/site-packages/pyscf/lib/misc.py:46: H5pyDeprecationWarning: Using default_file_mode other than 'r' is deprecated. Pass the mode to h5py.File() instead.\n",
      "  h5py.get_config().default_file_mode = 'a'\n"
     ]
    }
   ],
   "source": [
    "import numpy as np\n",
    "\n",
    "from qiskit import execute\n",
    "from qiskit import QuantumCircuit, QuantumRegister, ClassicalRegister\n",
    "from qiskit.utils import QuantumInstance\n",
    "from qiskit.algorithms import VQE\n",
    "from qiskit.algorithms.optimizers import COBYLA, ADAM, L_BFGS_B, SLSQP, SPSA\n",
    "from qiskit import Aer\n",
    "from qiskit.circuit import Parameter\n",
    "from qiskit.circuit.parametervector import ParameterVectorElement\n",
    "\n",
    "from qiskit_nature.drivers import PySCFDriver, UnitsType, Molecule\n",
    "from qiskit_nature.circuit.library import HartreeFock\n",
    "from qiskit_nature.problems.second_quantization.electronic import ElectronicStructureProblem\n",
    "from qiskit_nature.mappers.second_quantization import JordanWignerMapper\n",
    "from qiskit_nature.converters.second_quantization import QubitConverter\n",
    "\n",
    "from qiskit.algorithms import NumPyMinimumEigensolver\n",
    "from qiskit_nature.algorithms.ground_state_solvers import GroundStateEigensolver\n",
    "\n",
    "from qiskit_nature.runtime import VQEProgram\n",
    "\n",
    "from matplotlib import pyplot as plt\n",
    "%matplotlib inline "
   ]
  },
  {
   "cell_type": "markdown",
   "metadata": {},
   "source": [
    "### First, let's define the unitary CCSD ansatz. For such a two-electron, four-orbital problem, the UCCSD ansatz could be moldeled by just one parameter: $\\left|\\Psi\\right>=e^{i\\theta Y_0X_1X_2X_3}$. "
   ]
  },
  {
   "cell_type": "code",
   "execution_count": 7,
   "metadata": {},
   "outputs": [],
   "source": [
    "class UCCAnsatz():\n",
    "\n",
    "    def __init__(self, params, num_particles, num_spin_orbitals):\n",
    "\n",
    "        # number of qubits \n",
    "        self.num_of_qubits = num_spin_orbitals\n",
    "\n",
    "        # number of parameters\n",
    "        self.num_params = len(params)\n",
    "\n",
    "        # parameters\n",
    "        self.params = []\n",
    "        for index in range(self.num_params):\n",
    "            p = Parameter(\"t\"+str(index))\n",
    "            self.params.append(ParameterVectorElement(p, index))\n",
    "\n",
    "    def UCC1(self):\n",
    "\n",
    "        qc = QuantumCircuit(4)\n",
    "\n",
    "        # basis rotation\n",
    "        qc.rx(np.pi / 2, 0)\n",
    "        qc.h(1)\n",
    "        qc.h(2)\n",
    "        qc.h(3)\n",
    "\n",
    "        # parameter theta_0\n",
    "        qc.cx(0, 1)\n",
    "        qc.cx(1, 2)\n",
    "        qc.cx(2, 3)\n",
    "        qc.rz(self.params[0], 3)\n",
    "        qc.cx(2, 3)\n",
    "        qc.cx(1, 2)\n",
    "        qc.cx(0, 1)\n",
    "\n",
    "        # basis rotation\n",
    "        qc.rx(-np.pi / 2, 0)\n",
    "        qc.h(1)\n",
    "        qc.h(2)\n",
    "        qc.h(3)\n",
    "\n",
    "\n",
    "        return qc"
   ]
  },
  {
   "cell_type": "markdown",
   "metadata": {},
   "source": [
    "### For the next function, we need to form the electronic structure problem, obtain the electronic Hamiltonian, and transform it with the JWT. We also diagonalize the Hamiltonian classically as a reference value. "
   ]
  },
  {
   "cell_type": "code",
   "execution_count": 8,
   "metadata": {},
   "outputs": [],
   "source": [
    "################## Hamiltonian Definition #######################################\n",
    "\n",
    "def GetHamiltonians(mol):\n",
    "\n",
    "    # construct the driver\n",
    "    driver = PySCFDriver(molecule=mol, unit=UnitsType.ANGSTROM, basis='sto6g')\n",
    "\n",
    "    # the electronic structure problem\n",
    "    problem = ElectronicStructureProblem(driver)\n",
    "\n",
    "    # get quantum molecule\n",
    "    q_molecule = driver.run()\n",
    "\n",
    "    # classical eigenstate\n",
    "    np_solver = NumPyMinimumEigensolver()\n",
    "    np_groundstate_solver = GroundStateEigensolver(QubitConverter(JordanWignerMapper()), np_solver)\n",
    "\n",
    "    np_result = np_groundstate_solver.solve(problem)\n",
    "    print(f\"Classical results is {np_result.eigenenergies}\")\n",
    "\n",
    "    # generate the second-quantized operators\n",
    "    second_q_ops = problem.second_q_ops()\n",
    "\n",
    "    # construct a qubit converter\n",
    "    qubit_converter = QubitConverter(JordanWignerMapper())\n",
    "\n",
    "    # qubit Operations \n",
    "    qubit_op = qubit_converter.convert(second_q_ops[0])\n",
    "\n",
    "    # return the qubit operations\n",
    "    return qubit_op\n"
   ]
  },
  {
   "cell_type": "markdown",
   "metadata": {},
   "source": [
    "### Let's now put things together. The overall circuit is constructed by first initilizing the HF state, and applying the UCCSD ansatz. "
   ]
  },
  {
   "cell_type": "code",
   "execution_count": 9,
   "metadata": {},
   "outputs": [],
   "source": [
    "def constructAnsatz(params):\n",
    "\n",
    "    # initialize the HF state\n",
    "    hf_state = HartreeFock(4, [1, 1], QubitConverter(JordanWignerMapper()))\n",
    "\n",
    "    # VQE circuit\n",
    "    ansatz = UCCAnsatz(params, 2, 4).UCC1()\n",
    "\n",
    "    # add initial state\n",
    "    ansatz.compose(hf_state, front=True, inplace=True)\n",
    "\n",
    "    # return the circuit\n",
    "    return ansatz\n"
   ]
  },
  {
   "cell_type": "markdown",
   "metadata": {},
   "source": [
    "### Finally, we define a classical optimizer. Here we use the COBYLA optimizer. We pass the parametrized circuit into the qiskit's VQE function, and we set the initial values for the parameter to be zero.  "
   ]
  },
  {
   "cell_type": "code",
   "execution_count": 36,
   "metadata": {},
   "outputs": [],
   "source": [
    "def constructCircuit(params, mol, backend_id):\n",
    "\n",
    "    # Hamiltonian\n",
    "    qubit_op = GetHamiltonians(mol)\n",
    "\n",
    "    # Optimizer\n",
    "    optimizer = COBYLA()\n",
    "\n",
    "    # ansatz\n",
    "    ansatz = constructAnsatz(params)\n",
    "    print(ansatz)\n",
    "\n",
    "    # initial parameters \n",
    "    init_params = {}\n",
    "    for index in range(len(params)):\n",
    "        p = Parameter(\"t\"+str(index))\n",
    "        init_params[ParameterVectorElement(p, index)] = 0.0\n",
    "\n",
    "    # backend \n",
    "    if (backend_id == \"qasm_simulator\"):\n",
    "        backend = Aer.get_backend(\"qasm_simulator\")\n",
    "    elif (backend_id == \"ionq_qpu\"):\n",
    "        backend = ionq_provider.get_backend(\"ionq_qpu\")\n",
    "\n",
    "    def job_callback(job_id, job_status, queue_position, job) -> None:\n",
    "        '''\n",
    "        Printing logs for debugging.\n",
    "        The function is the parameter job_callback of QuantumInstance\n",
    "        :param job_id:\n",
    "        :param job_status:\n",
    "        :param queue_position:\n",
    "        :param job:\n",
    "        :return:\n",
    "        '''\n",
    "        print(f\"[API JOB-CALLBACK] Job Id:         {job_id}\")\n",
    "        print(f\"[API JOB-CALLBACK] Job status:     {job_status}\")\n",
    "        print(f\"[API JOB-CALLBACK] Queue position: {queue_position}\")\n",
    "        print(f\"[API JOB-CALLBACK] Job:            {job}\")\n",
    "\n",
    "    ionq_quantum_instance = QuantumInstance(backend=backend, job_callback=job_callback)\n",
    "\n",
    "    counts = []\n",
    "    values = []\n",
    "    stds   = []\n",
    "    def store_intermediate_result(eval_count, parameters, mean, std):\n",
    "        counts.append(eval_count)\n",
    "        values.append(mean)\n",
    "        stds.append(std)\n",
    "\n",
    "    # VQE algorithm\n",
    "    algorithm = VQE(ansatz,\n",
    "                    optimizer=optimizer,\n",
    "                    initial_point = np.array([0.0]),\n",
    "                    callback=store_intermediate_result,\n",
    "                    quantum_instance=ionq_quantum_instance)\n",
    "\n",
    "    result = algorithm.compute_minimum_eigenvalue(qubit_op)\n",
    "    print(result)\n",
    "    print(\"Optimized VQE Energy \", result.eigenvalue.real)\n",
    "    print(values)\n"
   ]
  },
  {
   "cell_type": "markdown",
   "metadata": {},
   "source": [
    "### Let's now perform the VQE optimization on a simulator. "
   ]
  },
  {
   "cell_type": "code",
   "execution_count": 39,
   "metadata": {},
   "outputs": [
    {
     "name": "stdout",
     "output_type": "stream",
     "text": [
      "Classical results is [-1.85131129+2.77025096e-17j]\n",
      "     ┌───┐┌─────────┐                                           ┌──────────┐\n",
      "q_0: ┤ X ├┤ RX(π/2) ├──■─────────────────────────────────────■──┤ RX(-π/2) ├\n",
      "     ├───┤└─────────┘┌─┴─┐                                 ┌─┴─┐└──┬───┬───┘\n",
      "q_1: ┤ H ├───────────┤ X ├──■───────────────────────────■──┤ X ├───┤ H ├────\n",
      "     ├───┤   ┌───┐   └───┘┌─┴─┐                       ┌─┴─┐├───┤   └───┘    \n",
      "q_2: ┤ X ├───┤ H ├────────┤ X ├──■─────────────────■──┤ X ├┤ H ├────────────\n",
      "     ├───┤   └───┘        └───┘┌─┴─┐┌───────────┐┌─┴─┐├───┤└───┘            \n",
      "q_3: ┤ H ├─────────────────────┤ X ├┤ RZ(t0[0]) ├┤ X ├┤ H ├─────────────────\n",
      "     └───┘                     └───┘└───────────┘└───┘└───┘                 \n",
      "{   'aux_operator_eigenvalues': None,\n",
      "    'cost_function_evals': 19,\n",
      "    'eigenstate': {'0101': 0.9946144039274718, '1010': 0.10364452469860624},\n",
      "    'eigenvalue': -1.849466737807071,\n",
      "    'optimal_parameters': {ParameterVectorElement(t0[0]): 0.15615},\n",
      "    'optimal_point': array([0.15615]),\n",
      "    'optimal_value': -1.849466737807071,\n",
      "    'optimizer_evals': 19,\n",
      "    'optimizer_time': 1.5989911556243896}\n",
      "Optimized VQE Energy  -1.849466737807071\n",
      "[-1.8308337397334875, -1.6045286426151377, -1.3176850880519417, -1.642972785671419, -1.853378862063689, -1.806712185391583, -1.8281518913000796, -1.853965175510973, -1.8546227409607912, -1.8512623145326073, -1.8499200431393457, -1.8490846844773303, -1.8508890835046492, -1.8474757232657733, -1.8492536553877457, -1.8544537700503756, -1.8461599187778577, -1.8476358718744068, -1.849466737807071]\n"
     ]
    }
   ],
   "source": [
    "# Execute program with default parameters\n",
    "def run(backend_id=\"qasm_simulator\"):\n",
    "\n",
    "    molecule = Molecule(geometry=[['H',  [0., 0., 0.]],\n",
    "                                  ['H', [0., 0., 0.75]]],\n",
    "                                  charge=0, multiplicity=1)\n",
    "    opt_values = constructCircuit([0.0], molecule, backend_id)\n",
    "\n",
    "run()"
   ]
  },
  {
   "cell_type": "markdown",
   "metadata": {},
   "source": [
    "### Let's plot the optimization process. "
   ]
  },
  {
   "cell_type": "code",
   "execution_count": 43,
   "metadata": {},
   "outputs": [
    {
     "data": {
      "image/png": "[encoded data removed]",
      "text/plain": [
       "<Figure size 432x288 with 1 Axes>"
      ]
     },
     "metadata": {
      "needs_background": "light"
     },
     "output_type": "display_data"
    }
   ],
   "source": [
    "opt_process = [-1.8308337397334875, -1.6045286426151377, -1.3176850880519417, -1.642972785671419, -1.853378862063689, -1.806712185391583, -1.8281518913000796, -1.853965175510973, -1.8546227409607912, -1.8512623145326073, -1.8499200431393457, -1.8490846844773303, -1.8508890835046492, -1.8474757232657733, -1.8492536553877457, -1.8544537700503756, -1.8461599187778577, -1.8476358718744068, -1.849466737807071]\n",
    "plt.plot(opt_process, linestyle=\"\", marker=\"o\")\n",
    "plt.show()"
   ]
  },
  {
   "cell_type": "markdown",
   "metadata": {},
   "source": [
    "### Now, let's try the same thing on actual IonQ hardware!"
   ]
  },
  {
   "cell_type": "code",
   "execution_count": null,
   "metadata": {},
   "outputs": [],
   "source": [
    "run(\"ionq_qpu\")"
   ]
  },
  {
   "cell_type": "code",
   "execution_count": 50,
   "metadata": {},
   "outputs": [
    {
     "data": {
      "image/png": "[encoded data removed]",
      "text/plain": [
       "<Figure size 432x288 with 1 Axes>"
      ]
     },
     "metadata": {
      "needs_background": "light"
     },
     "output_type": "display_data"
    }
   ],
   "source": [
    "opt_process_exp = [-1.8112359199652812, -1.4416498480789817, -1.2335035452225904, -1.4989706208229303, -1.6937521890989031, -1.6557546667316045, -1.6898027909394815, -1.740016937435431, -1.7592133266130963, -1.755505060521276, -1.7199835843097526, -1.7476529655074913, -1.7142357090197362, -1.7366022956905651, -1.7307574124517149, -1.7437590702130892, -1.721561556686939]\n",
    "plt.plot(opt_process, linestyle=\"\", marker=\"o\", color=\"b\", label=\"simulator\")\n",
    "plt.plot(opt_process_exp, linestyle=\"\", marker=\"o\", color=\"r\", label=\"ionq_qpu\")\n",
    "plt.legend()\n",
    "plt.show()"
   ]
  },
  {
   "cell_type": "code",
   "execution_count": 5,
   "metadata": {},
   "outputs": [
    {
     "data": {
      "image/png": "[encoded data removed]",
      "text/plain": [
       "<Figure size 432x288 with 1 Axes>"
      ]
     },
     "metadata": {
      "needs_background": "light"
     },
     "output_type": "display_data"
    }
   ],
   "source": [
    "opt_process_exp = [-1.8112359199652812, -1.4416498480789817, -1.2335035452225904, -1.4989706208229303, -1.6937521890989031, -1.6557546667316045, -1.6898027909394815, -1.740016937435431, -1.7592133266130963, -1.755505060521276, -1.7199835843097526, -1.7476529655074913, -1.7142357090197362, -1.7366022956905651, -1.7307574124517149, -1.7437590702130892, -1.721561556686939]\n",
    "opt_process = [-1.8308337397334875, -1.6045286426151377, -1.3176850880519417, -1.642972785671419, -1.853378862063689, -1.806712185391583, -1.8281518913000796, -1.853965175510973, -1.8546227409607912, -1.8512623145326073, -1.8499200431393457, -1.8490846844773303, -1.8508890835046492, -1.8474757232657733, -1.8492536553877457, -1.8544537700503756, -1.8461599187778577, -1.8476358718744068, -1.849466737807071]\n",
    "plt.plot(opt_process, linestyle=\"\", marker=\"o\", color=\"b\", label=\"simulator\")\n",
    "plt.plot(opt_process_exp, linestyle=\"\", marker=\"o\", color=\"r\", label=\"ionq_qpu\")\n",
    "plt.xlabel(\"Number of Iteration\")\n",
    "plt.ylabel(\"Energy (Hartree)\")\n",
    "plt.legend()\n",
    "plt.show()"
   ]
  },
  {
   "cell_type": "markdown",
   "metadata": {},
   "source": [
    "As you can see, due to noise on the QPU, it converges to a much higher energy than that of the simulator. "
   ]
  }
 ],
 "metadata": {
  "kernelspec": {
   "display_name": "Python 3",
   "language": "python",
   "name": "python3"
  },
  "language_info": {
   "codemirror_mode": {
    "name": "ipython",
    "version": 3
   },
   "file_extension": ".py",
   "mimetype": "text/x-python",
   "name": "python",
   "nbconvert_exporter": "python",
   "pygments_lexer": "ipython3",
   "version": "3.8.5"
  }
 },
 "nbformat": 4,
 "nbformat_minor": 2
}
