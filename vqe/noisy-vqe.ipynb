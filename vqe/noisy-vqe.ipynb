{
 "cells": [
  {
   "cell_type": "markdown",
   "metadata": {},
   "source": [
    "# Exploring the performance of different optimizers for VQE with and without noise. \n",
    "\n",
    "In this notebook, you will run a VQE algorithm on the molecular Hydrogen molecule H$_2$ in the minimal basis. Once we set up our algorithm, we will explore the performance of three different classical optimizers: COBYLA, SAPA, and ADAM. We will also see how they perform if we add some amount of noise to the simulator. "
   ]
  },
  {
   "cell_type": "markdown",
   "metadata": {},
   "source": [
    "## Setup\n",
    "\n",
    "First, make sure that you have the latest version of Qiskit installed. To upgrade your Qiskit package, run the following command:\n",
    "\n",
    "```bash\n",
    "pip install --upgrade qiskit\n",
    "```\n",
    "\n",
    "Get an API key from IonQ. This will be used by the IonQ provider inside Qiskit to submit circuits to the IonQ platform.\n",
    "\n",
    "After securing an API key, install the python package `qiskit_ionq` using `pip`:\n",
    "\n",
    "```bash\n",
    "pip install qiskit_ionq\n",
    "```\n",
    "\n",
    "(IonQ's adapter for Qiskit is currently in private beta -- your feedback is welcomed!)\n",
    "\n",
    "### (Optional) Extra Dependencies\n",
    "\n",
    "Some examples use additional Python dependencies; please make sure to `pip install` them as needed.\n",
    "\n",
    "Dependencies:\n",
    "* `matplotlib`: To run `qiskit.visualization.plot_histogram`.\n",
    "\n",
    "**NOTE**: The provider expects an API key to be supplied via the `token` keyword argument to its constructor. If no token is directly provided, the provider will check for one in the `QISKIT_IONQ_API_TOKEN` environment variable.\n",
    "\n",
    "Now that the Python package has been installed, you can import and instantiate the provider:"
   ]
  },
  {
   "cell_type": "code",
   "execution_count": 1,
   "metadata": {},
   "outputs": [],
   "source": [
    "#import Aer here, before calling qiskit_ionq_provider\n",
    "from qiskit import Aer\n",
    "\n",
    "from qiskit_ionq import IonQProvider \n",
    "\n",
    "#Call provider and set token value\n",
    "ionq_provider = IonQProvider(token='my token')"
   ]
  },
  {
   "cell_type": "markdown",
   "metadata": {},
   "source": [
    "The `provider` instance can now be used to create and submit circuits to IonQ.\n",
    "\n",
    "### Backend Types\n",
    "\n",
    "The IonQ provider supports two backend types:\n",
    "* `ionq_simulator`: IonQ's simulator backend.\n",
    "* `ionq_qpu`: IonQ's QPU backend.\n",
    "\n",
    "To view all current backend types, use the `.backends` property on the provider instance:"
   ]
  },
  {
   "cell_type": "code",
   "execution_count": 2,
   "metadata": {},
   "outputs": [
    {
     "data": {
      "text/plain": [
       "[<IonQSimulatorBackend('ionq_simulator')>, <IonQQPUBackend('ionq_qpu')>]"
      ]
     },
     "execution_count": 2,
     "metadata": {},
     "output_type": "execute_result"
    }
   ],
   "source": [
    "ionq_provider.backends()"
   ]
  },
  {
   "cell_type": "markdown",
   "metadata": {},
   "source": [
    "First, we import every library/module that will be needed. We will need quite a bit of them."
   ]
  },
  {
   "cell_type": "code",
   "execution_count": 3,
   "metadata": {},
   "outputs": [],
   "source": [
    "import numpy as np\n",
    "\n",
    "from qiskit import execute\n",
    "from qiskit import QuantumCircuit, QuantumRegister, ClassicalRegister\n",
    "from qiskit.utils import QuantumInstance\n",
    "from qiskit.algorithms import VQE\n",
    "from qiskit.algorithms.optimizers import COBYLA, ADAM, L_BFGS_B, SLSQP, SPSA\n",
    "from qiskit import Aer\n",
    "from qiskit.circuit import Parameter\n",
    "from qiskit.circuit.parametervector import ParameterVectorElement\n",
    "\n",
    "from qiskit_nature.drivers import PySCFDriver, UnitsType, Molecule\n",
    "from qiskit_nature.circuit.library import HartreeFock\n",
    "from qiskit_nature.problems.second_quantization.electronic import ElectronicStructureProblem\n",
    "from qiskit_nature.mappers.second_quantization import JordanWignerMapper\n",
    "from qiskit_nature.converters.second_quantization import QubitConverter\n",
    "\n",
    "from qiskit.algorithms import NumPyMinimumEigensolver\n",
    "from qiskit_nature.algorithms.ground_state_solvers import GroundStateEigensolver\n",
    "\n",
    "from qiskit_nature.runtime import VQEProgram\n",
    "\n",
    "from matplotlib import pyplot as plt\n",
    "%matplotlib inline "
   ]
  },
  {
   "cell_type": "markdown",
   "metadata": {},
   "source": [
    "First, let's define the unitary CCSD ansatz. For such a two-electron, four-orbital problem, the UCCSD ansatz could be modeled by just the single parameter $\\theta$. This means our Ansatz will be $\\left|\\Psi\\right>=e^{i\\theta Y_0X_1X_2X_3}$."
   ]
  },
  {
   "cell_type": "code",
   "execution_count": 4,
   "metadata": {},
   "outputs": [],
   "source": [
    "class UCCAnsatz():\n",
    "\n",
    "    def __init__(self, params, num_particles, num_spin_orbitals):\n",
    "\n",
    "        # number of qubits \n",
    "        self.num_of_qubits = num_spin_orbitals\n",
    "\n",
    "        # number of parameters\n",
    "        self.num_params = len(params)\n",
    "\n",
    "        # parameters\n",
    "        self.params = []\n",
    "        for index in range(self.num_params):\n",
    "            p = Parameter(\"t\"+str(index))\n",
    "            self.params.append(ParameterVectorElement(p, index))\n",
    "\n",
    "    def UCC1(self):\n",
    "\n",
    "        qc = QuantumCircuit(4)\n",
    "\n",
    "        # basis rotation\n",
    "        qc.rx(np.pi / 2, 0)\n",
    "        qc.h(1)\n",
    "        qc.h(2)\n",
    "        qc.h(3)\n",
    "\n",
    "        # parameter theta_0\n",
    "        qc.cx(0, 1)\n",
    "        qc.cx(1, 2)\n",
    "        qc.cx(2, 3)\n",
    "        qc.rz(self.params[0], 3)\n",
    "        qc.cx(2, 3)\n",
    "        qc.cx(1, 2)\n",
    "        qc.cx(0, 1)\n",
    "\n",
    "        # basis rotation\n",
    "        qc.rx(-np.pi / 2, 0)\n",
    "        qc.h(1)\n",
    "        qc.h(2)\n",
    "        qc.h(3)\n",
    "\n",
    "\n",
    "        return qc"
   ]
  },
  {
   "cell_type": "markdown",
   "metadata": {},
   "source": [
    "For the next function, we need to form the electronic structure problem, obtain the electronic Hamiltonian, and transform it with the Jordan-Wigner Transformation. We also diagonalize the Hamiltonian classically as a reference value. "
   ]
  },
  {
   "cell_type": "code",
   "execution_count": 5,
   "metadata": {},
   "outputs": [],
   "source": [
    "################## Hamiltonian Definition #######################################\n",
    "\n",
    "def GetHamiltonians(mol):\n",
    "\n",
    "    # construct the driver\n",
    "    driver = PySCFDriver(molecule=mol, unit=UnitsType.ANGSTROM, basis='sto6g')\n",
    "\n",
    "    # the electronic structure problem\n",
    "    problem = ElectronicStructureProblem(driver)\n",
    "\n",
    "    # get quantum molecule\n",
    "    q_molecule = driver.run()\n",
    "\n",
    "    # classical eigenstate\n",
    "    np_solver = NumPyMinimumEigensolver()\n",
    "    np_groundstate_solver = GroundStateEigensolver(QubitConverter(JordanWignerMapper()), np_solver)\n",
    "\n",
    "    np_result = np_groundstate_solver.solve(problem)\n",
    "    print(f\"Classical results is {np_result.eigenenergies}\")\n",
    "\n",
    "    # generate the second-quantized operators\n",
    "    second_q_ops = problem.second_q_ops()\n",
    "\n",
    "    # construct a qubit converter\n",
    "    qubit_converter = QubitConverter(JordanWignerMapper())\n",
    "\n",
    "    # qubit Operations \n",
    "    qubit_op = qubit_converter.convert(second_q_ops[0])\n",
    "\n",
    "    # return the qubit operations\n",
    "    return qubit_op\n"
   ]
  },
  {
   "cell_type": "markdown",
   "metadata": {},
   "source": [
    "Let's now put things together. The overall circuit is constructed by first initializing the HF state, and applying the UCCSD ansatz. "
   ]
  },
  {
   "cell_type": "code",
   "execution_count": 6,
   "metadata": {},
   "outputs": [],
   "source": [
    "def constructAnsatz(params):\n",
    "\n",
    "    # initialize the HF state\n",
    "    hf_state = HartreeFock(4, [1, 1], QubitConverter(JordanWignerMapper()))\n",
    "\n",
    "    # VQE circuit\n",
    "    ansatz = UCCAnsatz(params, 2, 4).UCC1()\n",
    "\n",
    "    # add initial state\n",
    "    ansatz.compose(hf_state, front=True, inplace=True)\n",
    "\n",
    "    # return the circuit\n",
    "    return ansatz\n"
   ]
  },
  {
   "cell_type": "markdown",
   "metadata": {},
   "source": [
    "Finally, we define a classical optimizer. Here we use the COBYLA optimizer. We pass the parametrized circuit into the qiskit's VQE function, and we set the initial values for the parameter to be zero.  "
   ]
  },
  {
   "cell_type": "code",
   "execution_count": 7,
   "metadata": {},
   "outputs": [],
   "source": [
    "def runVQE(params, backend_id=\"qasm_simulator\", optimizer_id=\"COBYLA\", noise=None):\n",
    "    \n",
    "    molecule = Molecule(geometry=[['H',  [0., 0., 0.]],\n",
    "                                  ['H', [0., 0., 0.75]]],\n",
    "                                  charge=0, multiplicity=1)\n",
    "\n",
    "    # Get Hamiltonian\n",
    "    qubit_op = GetHamiltonians(molecule)\n",
    "\n",
    "    # Get classical optimizer\n",
    "    if (optimizer_id == \"COBYLA\"):\n",
    "        optimizer = COBYLA()\n",
    "    elif (optimizer_id == \"SPSA\"):\n",
    "        optimizer = SPSA()\n",
    "    elif (optimizer_id == \"ADAM\"):\n",
    "        optimizer = ADAM()\n",
    "\n",
    "    # Construct and display ansatz\n",
    "    ansatz = constructAnsatz(params)\n",
    "    print('Ansatz :', '\\n', ansatz)\n",
    "\n",
    "    # initial parameters \n",
    "    init_params = {}\n",
    "    for index in range(len(params)):\n",
    "        p = Parameter(\"t\"+str(index))\n",
    "        init_params[ParameterVectorElement(p, index)] = 0.0\n",
    "\n",
    "    # backend \n",
    "    if (backend_id == \"qasm_simulator\"):\n",
    "        backend = Aer.get_backend(\"qasm_simulator\")\n",
    "    elif (backend_id == \"ionq_qpu\"):\n",
    "        backend = ionq_provider.get_backend(\"ionq_qpu\")\n",
    "\n",
    "    def job_callback(job_id, job_status, queue_position, job) -> None:\n",
    "        '''\n",
    "        Printing logs for debugging.\n",
    "        The function is the parameter job_callback of QuantumInstance\n",
    "        :param job_id:\n",
    "        :param job_status:\n",
    "        :param queue_position:\n",
    "        :param job:\n",
    "        :return:\n",
    "        '''\n",
    "        print(f\"[API JOB-CALLBACK] Job Id:         {job_id}\")\n",
    "        print(f\"[API JOB-CALLBACK] Job status:     {job_status}\")\n",
    "        print(f\"[API JOB-CALLBACK] Queue position: {queue_position}\")\n",
    "        print(f\"[API JOB-CALLBACK] Job:            {job}\")\n",
    "\n",
    "    ionq_quantum_instance = QuantumInstance(backend=backend, job_callback=job_callback, noise_model=noise)\n",
    "\n",
    "    counts = []\n",
    "    values = []\n",
    "    stds   = []\n",
    "    def store_intermediate_result(eval_count, parameters, mean, std):\n",
    "        counts.append(eval_count)\n",
    "        values.append(mean)\n",
    "        stds.append(std)\n",
    "\n",
    "    # VQE algorithm\n",
    "    algorithm = VQE(ansatz,\n",
    "                    optimizer=optimizer,\n",
    "                    initial_point = np.array([0.0]),\n",
    "                    callback=store_intermediate_result,\n",
    "                    quantum_instance=ionq_quantum_instance)\n",
    "\n",
    "    result = algorithm.compute_minimum_eigenvalue(qubit_op)\n",
    "    print(\"Optimized VQE Energy \", result.eigenvalue.real)\n",
    "    \n",
    "    return values, stds"
   ]
  },
  {
   "cell_type": "markdown",
   "metadata": {},
   "source": [
    "Let's now perform the VQE optimization on a simulator. "
   ]
  },
  {
   "cell_type": "code",
   "execution_count": 8,
   "metadata": {},
   "outputs": [
    {
     "name": "stdout",
     "output_type": "stream",
     "text": [
      "Classical results is [-1.85131129-5.48655185e-17j]\n",
      "Ansatz : \n",
      "      ┌───┐┌─────────┐                                           ┌──────────┐\n",
      "q_0: ┤ X ├┤ Rx(π/2) ├──■─────────────────────────────────────■──┤ Rx(-π/2) ├\n",
      "     ├───┤└─────────┘┌─┴─┐                                 ┌─┴─┐└──┬───┬───┘\n",
      "q_1: ┤ H ├───────────┤ X ├──■───────────────────────────■──┤ X ├───┤ H ├────\n",
      "     ├───┤   ┌───┐   └───┘┌─┴─┐                       ┌─┴─┐├───┤   └───┘    \n",
      "q_2: ┤ X ├───┤ H ├────────┤ X ├──■─────────────────■──┤ X ├┤ H ├────────────\n",
      "     ├───┤   └───┘        └───┘┌─┴─┐┌───────────┐┌─┴─┐├───┤└───┘            \n",
      "q_3: ┤ H ├─────────────────────┤ X ├┤ Rz(t0[0]) ├┤ X ├┤ H ├─────────────────\n",
      "     └───┘                     └───┘└───────────┘└───┘└───┘                 \n",
      "Optimized VQE Energy  -1.8408525893172867\n"
     ]
    }
   ],
   "source": [
    "# Execute program with default parameters\n",
    "eng_hist, error_hist = runVQE([0.0])"
   ]
  },
  {
   "cell_type": "markdown",
   "metadata": {},
   "source": [
    "Let's plot the optimization process. "
   ]
  },
  {
   "cell_type": "code",
   "execution_count": 9,
   "metadata": {},
   "outputs": [
    {
     "data": {
      "image/png": "[encoded data removed]",
      "text/plain": [
       "<Figure size 432x288 with 1 Axes>"
      ]
     },
     "metadata": {
      "needs_background": "light"
     },
     "output_type": "display_data"
    }
   ],
   "source": [
    "plt.plot([*range(len(eng_hist))], eng_hist, linestyle=\"\", marker=\"o\")\n",
    "#plt.plot([*range(len(eng_hist))], eng_hist)\n",
    "plt.show()"
   ]
  },
  {
   "cell_type": "markdown",
   "metadata": {},
   "source": [
    "As we can see, the energy eigenvalues, VQE returned got smaller and smaller. Our VQE algorithm is working! Notice that I used the default parameters above, which means that that the default classical optimizer COBYLA was used. Now let's change to the SPSA optimizer and see how it performs."
   ]
  },
  {
   "cell_type": "code",
   "execution_count": 10,
   "metadata": {},
   "outputs": [
    {
     "name": "stdout",
     "output_type": "stream",
     "text": [
      "Classical results is [-1.85131129+6.43595126e-18j]\n",
      "Ansatz : \n",
      "      ┌───┐┌─────────┐                                           ┌──────────┐\n",
      "q_0: ┤ X ├┤ Rx(π/2) ├──■─────────────────────────────────────■──┤ Rx(-π/2) ├\n",
      "     ├───┤└─────────┘┌─┴─┐                                 ┌─┴─┐└──┬───┬───┘\n",
      "q_1: ┤ H ├───────────┤ X ├──■───────────────────────────■──┤ X ├───┤ H ├────\n",
      "     ├───┤   ┌───┐   └───┘┌─┴─┐                       ┌─┴─┐├───┤   └───┘    \n",
      "q_2: ┤ X ├───┤ H ├────────┤ X ├──■─────────────────■──┤ X ├┤ H ├────────────\n",
      "     ├───┤   └───┘        └───┘┌─┴─┐┌───────────┐┌─┴─┐├───┤└───┘            \n",
      "q_3: ┤ H ├─────────────────────┤ X ├┤ Rz(t0[0]) ├┤ X ├┤ H ├─────────────────\n",
      "     └───┘                     └───┘└───────────┘└───┘└───┘                 \n",
      "Optimized VQE Energy  -1.854267828124676\n"
     ]
    }
   ],
   "source": [
    "eng_hist_SPSA, error_hist_SPSA = runVQE([0.0],optimizer_id=\"SPSA\")"
   ]
  },
  {
   "cell_type": "markdown",
   "metadata": {},
   "source": [
    "Now let's compare COBYLA and SPSA. "
   ]
  },
  {
   "cell_type": "code",
   "execution_count": 11,
   "metadata": {},
   "outputs": [
    {
     "data": {
      "image/png": "[encoded data removed]",
      "text/plain": [
       "<Figure size 432x288 with 1 Axes>"
      ]
     },
     "metadata": {
      "needs_background": "light"
     },
     "output_type": "display_data"
    }
   ],
   "source": [
    "plt.plot([*range(len(eng_hist))], eng_hist, linestyle=\"\", marker=\"o\", label=\"COBYLA\")\n",
    "plt.plot([*range(len(eng_hist_SPSA))], eng_hist_SPSA, linestyle=\"\", marker=\"*\", label=\"SPSA\")\n",
    "plt.legend()\n",
    "plt.show()"
   ]
  },
  {
   "cell_type": "markdown",
   "metadata": {},
   "source": [
    "As you could see, SPSA converges to the same point as COBYLA, however, it needs many more iterations to do so. "
   ]
  },
  {
   "cell_type": "markdown",
   "metadata": {},
   "source": [
    "Let's now try to use the ADAM optimizer, which is a very popular optimizer used in machine learning to train deep neural networks. "
   ]
  },
  {
   "cell_type": "code",
   "execution_count": 12,
   "metadata": {},
   "outputs": [
    {
     "name": "stdout",
     "output_type": "stream",
     "text": [
      "Classical results is [-1.85131129-4.98381686e-18j]\n",
      "Ansatz : \n",
      "      ┌───┐┌─────────┐                                           ┌──────────┐\n",
      "q_0: ┤ X ├┤ Rx(π/2) ├──■─────────────────────────────────────■──┤ Rx(-π/2) ├\n",
      "     ├───┤└─────────┘┌─┴─┐                                 ┌─┴─┐└──┬───┬───┘\n",
      "q_1: ┤ H ├───────────┤ X ├──■───────────────────────────■──┤ X ├───┤ H ├────\n",
      "     ├───┤   ┌───┐   └───┘┌─┴─┐                       ┌─┴─┐├───┤   └───┘    \n",
      "q_2: ┤ X ├───┤ H ├────────┤ X ├──■─────────────────■──┤ X ├┤ H ├────────────\n",
      "     ├───┤   └───┘        └───┘┌─┴─┐┌───────────┐┌─┴─┐├───┤└───┘            \n",
      "q_3: ┤ H ├─────────────────────┤ X ├┤ Rz(t0[0]) ├┤ X ├┤ H ├─────────────────\n",
      "     └───┘                     └───┘└───────────┘└───┘└───┘                 \n",
      "Optimized VQE Energy  -1.8314560159761781\n"
     ]
    }
   ],
   "source": [
    "eng_hist_ADAM, error_hist_ADAM = runVQE([0.0],optimizer_id=\"ADAM\")"
   ]
  },
  {
   "cell_type": "code",
   "execution_count": 13,
   "metadata": {},
   "outputs": [
    {
     "data": {
      "image/png": "[encoded data removed]",
      "text/plain": [
       "<Figure size 432x288 with 1 Axes>"
      ]
     },
     "metadata": {
      "needs_background": "light"
     },
     "output_type": "display_data"
    }
   ],
   "source": [
    "plt.plot([*range(len(eng_hist))], eng_hist, linestyle=\"\", marker=\"o\", label=\"COBYLA\")\n",
    "plt.plot([*range(len(eng_hist_SPSA))], eng_hist_SPSA, linestyle=\"\", marker=\"*\", label=\"SPSA\")\n",
    "plt.plot([*range(len(eng_hist_ADAM))], eng_hist_ADAM, linestyle=\"\", marker=\"x\", label=\"ADAM\")\n",
    "plt.legend()\n",
    "plt.show()"
   ]
  },
  {
   "cell_type": "markdown",
   "metadata": {},
   "source": [
    "Interestingly, we find that ADAM does not work very well here. It converges to a much higher value than COBYLA and SPSA. "
   ]
  },
  {
   "cell_type": "markdown",
   "metadata": {},
   "source": [
    "So far, we've been running optimizations on noise-free simulators. Quantum Computers are inherently noisy. Let's try to simulate an actual quantum computer. We will do this by adding noise to the simulator and seeing how different optimizers perform under noise. We add 0.5% of error for single qubit rotation gates, and we add 5% of error for CNOT gate. "
   ]
  },
  {
   "cell_type": "code",
   "execution_count": 14,
   "metadata": {},
   "outputs": [],
   "source": [
    "# Noise\n",
    "from qiskit.providers.aer.noise import NoiseModel\n",
    "from qiskit.providers.aer.noise import depolarizing_error\n",
    "\n",
    "# default noise model, can be overridden using set_noise_model\n",
    "noise = NoiseModel()\n",
    "# Add depolarizing error to all single qubit gates with error rate 0.5%\n",
    "one_qb_error = 0.005\n",
    "noise.add_all_qubit_quantum_error(depolarizing_error(one_qb_error, 1), ['u1', 'u2', 'u3'])\n",
    "\n",
    "# Add depolarizing error to all two qubit gates with error rate 5.0%\n",
    "two_qb_error = 0.05\n",
    "noise.add_all_qubit_quantum_error(depolarizing_error(two_qb_error, 2), ['cx'])"
   ]
  },
  {
   "cell_type": "markdown",
   "metadata": {},
   "source": [
    "Perform VQE optimization using the same three optimizers. "
   ]
  },
  {
   "cell_type": "code",
   "execution_count": 15,
   "metadata": {},
   "outputs": [
    {
     "name": "stdout",
     "output_type": "stream",
     "text": [
      "Classical results is [-1.85131129-4.24277124e-17j]\n",
      "Ansatz : \n",
      "      ┌───┐┌─────────┐                                           ┌──────────┐\n",
      "q_0: ┤ X ├┤ Rx(π/2) ├──■─────────────────────────────────────■──┤ Rx(-π/2) ├\n",
      "     ├───┤└─────────┘┌─┴─┐                                 ┌─┴─┐└──┬───┬───┘\n",
      "q_1: ┤ H ├───────────┤ X ├──■───────────────────────────■──┤ X ├───┤ H ├────\n",
      "     ├───┤   ┌───┐   └───┘┌─┴─┐                       ┌─┴─┐├───┤   └───┘    \n",
      "q_2: ┤ X ├───┤ H ├────────┤ X ├──■─────────────────■──┤ X ├┤ H ├────────────\n",
      "     ├───┤   └───┘        └───┘┌─┴─┐┌───────────┐┌─┴─┐├───┤└───┘            \n",
      "q_3: ┤ H ├─────────────────────┤ X ├┤ Rz(t0[0]) ├┤ X ├┤ H ├─────────────────\n",
      "     └───┘                     └───┘└───────────┘└───┘└───┘                 \n",
      "Optimized VQE Energy  -1.6504555139349555\n",
      "Classical results is [-1.85131129+1.16196667e-17j]\n",
      "Ansatz : \n",
      "      ┌───┐┌─────────┐                                           ┌──────────┐\n",
      "q_0: ┤ X ├┤ Rx(π/2) ├──■─────────────────────────────────────■──┤ Rx(-π/2) ├\n",
      "     ├───┤└─────────┘┌─┴─┐                                 ┌─┴─┐└──┬───┬───┘\n",
      "q_1: ┤ H ├───────────┤ X ├──■───────────────────────────■──┤ X ├───┤ H ├────\n",
      "     ├───┤   ┌───┐   └───┘┌─┴─┐                       ┌─┴─┐├───┤   └───┘    \n",
      "q_2: ┤ X ├───┤ H ├────────┤ X ├──■─────────────────■──┤ X ├┤ H ├────────────\n",
      "     ├───┤   └───┘        └───┘┌─┴─┐┌───────────┐┌─┴─┐├───┤└───┘            \n",
      "q_3: ┤ H ├─────────────────────┤ X ├┤ Rz(t0[0]) ├┤ X ├┤ H ├─────────────────\n",
      "     └───┘                     └───┘└───────────┘└───┘└───┘                 \n",
      "Optimized VQE Energy  -1.6900256543140058\n",
      "Classical results is [-1.85131129-3.40425088e-17j]\n",
      "Ansatz : \n",
      "      ┌───┐┌─────────┐                                           ┌──────────┐\n",
      "q_0: ┤ X ├┤ Rx(π/2) ├──■─────────────────────────────────────■──┤ Rx(-π/2) ├\n",
      "     ├───┤└─────────┘┌─┴─┐                                 ┌─┴─┐└──┬───┬───┘\n",
      "q_1: ┤ H ├───────────┤ X ├──■───────────────────────────■──┤ X ├───┤ H ├────\n",
      "     ├───┤   ┌───┐   └───┘┌─┴─┐                       ┌─┴─┐├───┤   └───┘    \n",
      "q_2: ┤ X ├───┤ H ├────────┤ X ├──■─────────────────■──┤ X ├┤ H ├────────────\n",
      "     ├───┤   └───┘        └───┘┌─┴─┐┌───────────┐┌─┴─┐├───┤└───┘            \n",
      "q_3: ┤ H ├─────────────────────┤ X ├┤ Rz(t0[0]) ├┤ X ├┤ H ├─────────────────\n",
      "     └───┘                     └───┘└───────────┘└───┘└───┘                 \n",
      "Optimized VQE Energy  -1.6502684920595714\n"
     ]
    }
   ],
   "source": [
    "eng_hist, error_hist = runVQE([0.0],optimizer_id=\"COBYLA\", noise=noise)\n",
    "eng_hist_SPSA, error_hist_SPSA = runVQE([0.0],optimizer_id=\"SPSA\", noise=noise)\n",
    "eng_hist_ADAM, error_hist_ADAM = runVQE([0.0],optimizer_id=\"ADAM\", noise=noise)"
   ]
  },
  {
   "cell_type": "markdown",
   "metadata": {},
   "source": [
    "Let's plot the results. "
   ]
  },
  {
   "cell_type": "code",
   "execution_count": 16,
   "metadata": {},
   "outputs": [
    {
     "data": {
      "image/png": "[encoded data removed]",
      "text/plain": [
       "<Figure size 432x288 with 1 Axes>"
      ]
     },
     "metadata": {
      "needs_background": "light"
     },
     "output_type": "display_data"
    }
   ],
   "source": [
    "plt.plot([*range(len(eng_hist))], eng_hist, linestyle=\"\", marker=\"o\", label=\"COBYLA\")\n",
    "plt.plot([*range(len(eng_hist_SPSA))], eng_hist_SPSA, linestyle=\"\", marker=\"*\", label=\"SPSA\")\n",
    "plt.plot([*range(len(eng_hist_ADAM))], eng_hist_ADAM, linestyle=\"\", marker=\"x\", label=\"ADAM\")\n",
    "plt.legend()\n",
    "plt.show()"
   ]
  },
  {
   "cell_type": "markdown",
   "metadata": {},
   "source": [
    "### Now, let's try the same thing on actual IonQ hardware!\n",
    "As we can see, with noise, the SPSA optimizer seems to converge to the lowest value. Let's see what happens when we run our VQE algorithm on an actual quantum computer, a system that is inherently noisy."
   ]
  },
  {
   "cell_type": "code",
   "execution_count": 17,
   "metadata": {},
   "outputs": [],
   "source": [
    "# run(\"ionq_qpu\")"
   ]
  },
  {
   "cell_type": "code",
   "execution_count": 18,
   "metadata": {},
   "outputs": [],
   "source": [
    "# opt_process_exp = [-1.8112359199652812, -1.4416498480789817, -1.2335035452225904, -1.4989706208229303, -1.6937521890989031, -1.6557546667316045, -1.6898027909394815, -1.740016937435431, -1.7592133266130963, -1.755505060521276, -1.7199835843097526, -1.7476529655074913, -1.7142357090197362, -1.7366022956905651, -1.7307574124517149, -1.7437590702130892, -1.721561556686939]\n",
    "# plt.plot(opt_process, linestyle=\"\", marker=\"o\", color=\"b\", label=\"simulator\")\n",
    "# plt.plot(opt_process_exp, linestyle=\"\", marker=\"o\", color=\"r\", label=\"ionq_qpu\")\n",
    "# plt.legend()\n",
    "# plt.show()"
   ]
  },
  {
   "cell_type": "code",
   "execution_count": null,
   "metadata": {},
   "outputs": [],
   "source": [
    "eng_hist, error_hist = runVQE([0.0],optimizer_id=\"COBYLA\", backend_id = \"ionq_qpu\")\n",
    "eng_hist_SPSA, error_hist_SPSA = runVQE([0.0],optimizer_id=\"SPSA\", backend_id = \"ionq_qpu\")\n",
    "eng_hist_ADAM, error_hist_ADAM = runVQE([0.0],optimizer_id=\"ADAM\", backend_id = \"ionq_qpu\")"
   ]
  },
  {
   "cell_type": "code",
   "execution_count": null,
   "metadata": {},
   "outputs": [],
   "source": [
    "plt.plot([*range(len(eng_hist))], eng_hist, linestyle=\"\", marker=\"o\", label=\"COBYLA\")\n",
    "plt.plot([*range(len(eng_hist_SPSA))], eng_hist_SPSA, linestyle=\"\", marker=\"*\", label=\"SPSA\")\n",
    "plt.plot([*range(len(eng_hist_ADAM))], eng_hist_ADAM, linestyle=\"\", marker=\"x\", label=\"ADAM\")\n",
    "plt.legend()\n",
    "plt.show()"
   ]
  },
  {
   "cell_type": "markdown",
   "metadata": {},
   "source": [
    "As you can see, due to noise on the QPU, it converges to a much higher energy than that of the simulator. "
   ]
  }
 ],
 "metadata": {
  "kernelspec": {
   "display_name": "Python 3",
   "language": "python",
   "name": "python3"
  },
  "language_info": {
   "codemirror_mode": {
    "name": "ipython",
    "version": 3
   },
   "file_extension": ".py",
   "mimetype": "text/x-python",
   "name": "python",
   "nbconvert_exporter": "python",
   "pygments_lexer": "ipython3",
   "version": "3.8.5"
  }
 },
 "nbformat": 4,
 "nbformat_minor": 2
}
